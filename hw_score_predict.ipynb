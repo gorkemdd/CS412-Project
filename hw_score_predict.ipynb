{
  "cells": [
    {
      "cell_type": "code",
      "execution_count": 36,
      "metadata": {
        "id": "2PjKIVZZXJK2"
      },
      "outputs": [],
      "source": [
        "import os\n",
        "import re\n",
        "import os\n",
        "import tqdm\n",
        "from glob import glob\n",
        "from pathlib import Path\n",
        "\n",
        "import matplotlib.pyplot as plt\n",
        "import pandas as pd\n",
        "import numpy as np\n",
        "from pprint import pprint\n",
        "import graphviz\n",
        "\n",
        "from collections import defaultdict\n",
        "from bs4 import BeautifulSoup\n",
        "\n",
        "from sklearn.feature_extraction.text import TfidfVectorizer\n",
        "from sklearn.metrics.pairwise import cosine_similarity\n",
        "\n",
        "from sklearn import tree\n",
        "from sklearn.tree import DecisionTreeRegressor\n",
        "from sklearn.model_selection import train_test_split\n",
        "from sklearn.metrics import mean_squared_error, r2_score\n"
      ]
    },
    {
      "cell_type": "markdown",
      "metadata": {
        "id": "5JqGHh18tNuS"
      },
      "source": [
        "# 1. Reading the Data"
      ]
    },
    {
      "cell_type": "code",
      "execution_count": 37,
      "metadata": {
        "colab": {
          "base_uri": "https://localhost:8080/"
        },
        "id": "DmnNAclAXJK3",
        "outputId": "4ca0c49f-eb59-4872-8359-d607a52b8102"
      },
      "outputs": [
        {
          "name": "stderr",
          "output_type": "stream",
          "text": [
            "100%|██████████| 127/127 [00:17<00:00,  7.30it/s]\n"
          ]
        }
      ],
      "source": [
        "# Reading the html files\n",
        "THRESHOLD = 20\n",
        "data_path = \"./dataset/*.html\"\n",
        "\n",
        "code2convos = dict()\n",
        "\n",
        "pbar = tqdm.tqdm(sorted(list(glob(data_path))))\n",
        "for path in pbar:\n",
        "    # print(Path.cwd() / path)\n",
        "    file_code = os.path.basename(path).split(\".\")[0]\n",
        "    with open(path, \"r\", encoding=\"latin1\") as fh:\n",
        "\n",
        "        # get the file id to use it as key later on\n",
        "        fid = os.path.basename(path).split(\".\")[0]\n",
        "\n",
        "        # read the html file\n",
        "        html_page = fh.read()\n",
        "\n",
        "        # parse the html file with bs4 so we can extract needed stuff\n",
        "        soup = BeautifulSoup(html_page, \"html.parser\")\n",
        "\n",
        "        # grab the conversations with the data-testid pattern\n",
        "        data_test_id_pattern = re.compile(r\"conversation-turn-[0-9]+\")\n",
        "        conversations = soup.find_all(\"div\", attrs={\"data-testid\": data_test_id_pattern})\n",
        "\n",
        "        convo_texts = []\n",
        "\n",
        "        for i, convo in enumerate(conversations):\n",
        "            convo = convo.find_all(\"div\", attrs={\"data-message-author-role\":re.compile( r\"[user|assistant]\") })\n",
        "            if len(convo) > 0:\n",
        "                role = convo[0].get(\"data-message-author-role\")\n",
        "\n",
        "                # SAVE CODE CELLS\n",
        "                code_cells = convo[0].find_all(\"code\")\n",
        "                all_code_cells = []\n",
        "                for code_cell in code_cells:\n",
        "                    if (len(code_cell.text) > THRESHOLD):\n",
        "                        all_code_cells.append(code_cell.text)\n",
        "\n",
        "                convo_texts.append({\n",
        "                        \"role\" : role,\n",
        "                        \"text\" : convo[0].text,\n",
        "                        \"code\": all_code_cells # save code cells\n",
        "                    }\n",
        "                )\n",
        "\n",
        "        code2convos[file_code] = convo_texts"
      ]
    },
    {
      "cell_type": "code",
      "execution_count": 38,
      "metadata": {
        "colab": {
          "base_uri": "https://localhost:8080/"
        },
        "id": "C2TfEbGWXJK4",
        "outputId": "af42821d-af26-40b7-9f27-4b84aba6d2e4"
      },
      "outputs": [
        {
          "name": "stdout",
          "output_type": "stream",
          "text": [
            "{'code': [],\n",
            " 'role': 'user',\n",
            " 'text': 'Load a CSV file into a Pandas in Python. The file is named '\n",
            "         \"'cs412_hw1_dataset.csv' and contains columns like 'Species', \"\n",
            "         \"'Island', 'Sex', 'Diet', 'Year', 'Life Stage', 'Body Mass (g)', \"\n",
            "         \"'Bill Length (mm)', 'Bill Depth (mm)', 'Flipper Length (mm)', and \"\n",
            "         \"'Health Metrics'. \\n\"}\n"
          ]
        }
      ],
      "source": [
        "#one of the conversations\n",
        "pprint(code2convos[\"0031c86e-81f4-4eef-9e0e-28037abf9883\"][0])"
      ]
    },
    {
      "cell_type": "markdown",
      "metadata": {
        "id": "EMGyADoGXJK4"
      },
      "source": [
        "#### Things to do:\n",
        "- Prompt matching with questions\n",
        "- Feature Engineering\n",
        "- Question Grades preparation\n",
        "- Train/Test split\n",
        "- Fitting a model for predicting the scores"
      ]
    },
    {
      "cell_type": "markdown",
      "metadata": {
        "id": "uj20rSIsXJK6"
      },
      "source": [
        "#### Prompt Matching\n",
        "> We want to match the prompts with the questions in the Homework Let's\n",
        "> do it with a simple term frequency vectorizing method. For each prompt,\n",
        "> we will come with a vector that represents it. We will do the same\n",
        "> thing with each of the homework questions. Then, we will calculate the\n",
        "> vectors distanance to do the matching"
      ]
    },
    {
      "cell_type": "code",
      "execution_count": 39,
      "metadata": {
        "id": "QMkRhJ38XJK6"
      },
      "outputs": [],
      "source": [
        "prompts = []\n",
        "code2prompts = defaultdict(list)\n",
        "for code , convos in code2convos.items():\n",
        "    user_prompts = []\n",
        "    for conv in convos:\n",
        "        if conv[\"role\"] == \"user\":\n",
        "            prompts.append(conv[\"text\"])\n",
        "            user_prompts.append(conv[\"text\"])\n",
        "    code2prompts[code] = user_prompts"
      ]
    },
    {
      "cell_type": "code",
      "execution_count": 40,
      "metadata": {
        "colab": {
          "base_uri": "https://localhost:8080/",
          "height": 71
        },
        "id": "rIBEM4N9XJK6",
        "outputId": "b33fbd20-42c7-44a4-8779-de94ae7c0304"
      },
      "outputs": [
        {
          "data": {
            "text/plain": [
              "\"Load a CSV file into a Pandas in Python. The file is named 'cs412_hw1_dataset.csv' and contains columns like 'Species', 'Island', 'Sex', 'Diet', 'Year', 'Life Stage', 'Body Mass (g)', 'Bill Length (mm)', 'Bill Depth (mm)', 'Flipper Length (mm)', and 'Health Metrics'. \\n\""
            ]
          },
          "execution_count": 40,
          "metadata": {},
          "output_type": "execute_result"
        }
      ],
      "source": [
        "prompts[0]"
      ]
    },
    {
      "cell_type": "code",
      "execution_count": 41,
      "metadata": {
        "id": "oYAJQrzLXJK6"
      },
      "outputs": [],
      "source": [
        "\n",
        "questions = [\n",
        "    \"\"\"Initialize\n",
        "*   First make a copy of the notebook given to you as a starter.\n",
        "*   Make sure you choose Connect form upper right.\n",
        "*   You may upload the data to the section on your left on Colab, than right click on the .csv file and get the path of the file by clicking on \"Copy Path\". You will be using it when loading the data.\n",
        "\n",
        "\"\"\",\n",
        "\n",
        "#####################\n",
        "    \"\"\"Load training dataset (5 pts)\n",
        "    *  Read the .csv file with the pandas library\n",
        "\"\"\",\n",
        "#####################\n",
        "\"\"\"Understanding the dataset & Preprocessing (15 pts)\n",
        "Understanding the Dataset: (5 pts)\n",
        "> - Find the shape of the dataset (number of samples & number of attributes). (Hint: You can use the **shape** function)\n",
        "> - Display variable names (both dependent and independent).\n",
        "> - Display the summary of the dataset. (Hint: You can use the **info** function)\n",
        "> - Display the first 5 rows from training dataset. (Hint: You can use the **head** function)\n",
        "Preprocessing: (10 pts)\n",
        "\n",
        "> - Check if there are any missing values in the dataset. If there are, you can either drop these values or fill it with most common values in corresponding rows. **Be careful that you have enough data for training the  model.**\n",
        "\n",
        "> - Encode categorical labels with the mappings given in the cell below. (Hint: You can use **map** function)\n",
        "\"\"\",\n",
        "\"\"\"Set X & y, split data (5 pts)\n",
        "\n",
        "*   Shuffle the dataset.\n",
        "*   Seperate your dependent variable X, and your independent variable y. The column health_metrics is y, the rest is X.\n",
        "*   Split training and test sets as 80% and 20%, respectively.\n",
        "\"\"\",\n",
        "#####################\n",
        "\"\"\"Features and Correlations (10 pts)\n",
        "\n",
        "* Correlations of features with health (4 points)\n",
        "Calculate the correlations for all features in dataset. Highlight any strong correlations with the target variable. Plot your results in a heatmap.\n",
        "\n",
        "* Feature Selection (3 points)\n",
        "Select a subset of features that are likely strong predictors, justifying your choices based on the computed correlations.\n",
        "\n",
        "* Hypothetical Driver Features (3 points)\n",
        "Propose two hypothetical features that could enhance the model's predictive accuracy for Y, explaining how they might be derived and their expected impact. Show the resulting correlations with target variable.\n",
        "\n",
        "* __Note:__ You get can get help from GPT.\n",
        "\"\"\",\n",
        "#####################\n",
        "\"\"\"Tune Hyperparameters (20 pts)\n",
        "* Choose 2 hyperparameters to tune. You can use the Scikit learn decision tree documentation for the available hyperparameters *(Hyperparameters are listed under \"Parameters\" in the documentation)*. Use GridSearchCV for hyperparameter tuning, with a cross-validation value of 5. Use validation accuracy to pick the best hyper-parameter values. (15 pts)\n",
        "-Explain the hyperparameters you chose to tune. *(What are the hyperparameters you chose? Why did you choose them?)* (5 pts)\n",
        "\"\"\",\n",
        "#####################\n",
        "\"\"\"Re-train and plot the decision tree with the hyperparameters you have chosen (15 pts)\n",
        "- Re-train model with the hyperparameters you have chosen in part 5). (10 pts)\n",
        "- Plot the tree you have trained. (5 pts)\n",
        "Hint: You can import the **plot_tree** function from the sklearn library.\n",
        "\"\"\",\n",
        "#####################\n",
        "\"\"\"Test your classifier on the test set (20 pts)\n",
        "- Predict the labels of testing data using the tree you have trained in step 6. (10 pts)\n",
        "- Report the classification accuracy. (2 pts)\n",
        "- Plot & investigate the confusion matrix. Fill the following blanks. (8 pts)\n",
        "> The model most frequently mistakes class(es) _________ for class(es) _________.\n",
        "Hint: You can use the confusion_matrix function from sklearn.metrics\n",
        "\"\"\",\n",
        "#####################\n",
        "\"\"\"Find the information gain on the first split (10 pts)\"\"\",\n",
        "#####################\n",
        "]"
      ]
    },
    {
      "cell_type": "code",
      "execution_count": 42,
      "metadata": {
        "id": "UjXAHygSXJK6"
      },
      "outputs": [],
      "source": [
        "vectorizer = TfidfVectorizer()\n",
        "vectorizer = vectorizer.fit(prompts + questions)"
      ]
    },
    {
      "cell_type": "code",
      "execution_count": 43,
      "metadata": {
        "colab": {
          "base_uri": "https://localhost:8080/",
          "height": 256
        },
        "id": "fL36tE0FXJK6",
        "outputId": "b4f75285-0c11-4f7a-c79d-64b386caf942"
      },
      "outputs": [
        {
          "data": {
            "text/html": [
              "<div>\n",
              "<style scoped>\n",
              "    .dataframe tbody tr th:only-of-type {\n",
              "        vertical-align: middle;\n",
              "    }\n",
              "\n",
              "    .dataframe tbody tr th {\n",
              "        vertical-align: top;\n",
              "    }\n",
              "\n",
              "    .dataframe thead th {\n",
              "        text-align: right;\n",
              "    }\n",
              "</style>\n",
              "<table border=\"1\" class=\"dataframe\">\n",
              "  <thead>\n",
              "    <tr style=\"text-align: right;\">\n",
              "      <th></th>\n",
              "      <th>00000</th>\n",
              "      <th>000000</th>\n",
              "      <th>000196</th>\n",
              "      <th>000282</th>\n",
              "      <th>000284</th>\n",
              "      <th>000360</th>\n",
              "      <th>000469</th>\n",
              "      <th>000750</th>\n",
              "      <th>000886</th>\n",
              "      <th>000991</th>\n",
              "      <th>...</th>\n",
              "      <th>yticks</th>\n",
              "      <th>yã</th>\n",
              "      <th>yä</th>\n",
              "      <th>zaman</th>\n",
              "      <th>zdã¼m</th>\n",
              "      <th>zero</th>\n",
              "      <th>zerodivisionerror</th>\n",
              "      <th>zeroth</th>\n",
              "      <th>zip</th>\n",
              "      <th>ã¼nã¼yorum</th>\n",
              "    </tr>\n",
              "  </thead>\n",
              "  <tbody>\n",
              "    <tr>\n",
              "      <th>0</th>\n",
              "      <td>0.0</td>\n",
              "      <td>0.0</td>\n",
              "      <td>0.0</td>\n",
              "      <td>0.0</td>\n",
              "      <td>0.0</td>\n",
              "      <td>0.0</td>\n",
              "      <td>0.0</td>\n",
              "      <td>0.0</td>\n",
              "      <td>0.0</td>\n",
              "      <td>0.0</td>\n",
              "      <td>...</td>\n",
              "      <td>0.0</td>\n",
              "      <td>0.0</td>\n",
              "      <td>0.0</td>\n",
              "      <td>0.0</td>\n",
              "      <td>0.0</td>\n",
              "      <td>0.0</td>\n",
              "      <td>0.0</td>\n",
              "      <td>0.0</td>\n",
              "      <td>0.0</td>\n",
              "      <td>0.0</td>\n",
              "    </tr>\n",
              "    <tr>\n",
              "      <th>1</th>\n",
              "      <td>0.0</td>\n",
              "      <td>0.0</td>\n",
              "      <td>0.0</td>\n",
              "      <td>0.0</td>\n",
              "      <td>0.0</td>\n",
              "      <td>0.0</td>\n",
              "      <td>0.0</td>\n",
              "      <td>0.0</td>\n",
              "      <td>0.0</td>\n",
              "      <td>0.0</td>\n",
              "      <td>...</td>\n",
              "      <td>0.0</td>\n",
              "      <td>0.0</td>\n",
              "      <td>0.0</td>\n",
              "      <td>0.0</td>\n",
              "      <td>0.0</td>\n",
              "      <td>0.0</td>\n",
              "      <td>0.0</td>\n",
              "      <td>0.0</td>\n",
              "      <td>0.0</td>\n",
              "      <td>0.0</td>\n",
              "    </tr>\n",
              "    <tr>\n",
              "      <th>2</th>\n",
              "      <td>0.0</td>\n",
              "      <td>0.0</td>\n",
              "      <td>0.0</td>\n",
              "      <td>0.0</td>\n",
              "      <td>0.0</td>\n",
              "      <td>0.0</td>\n",
              "      <td>0.0</td>\n",
              "      <td>0.0</td>\n",
              "      <td>0.0</td>\n",
              "      <td>0.0</td>\n",
              "      <td>...</td>\n",
              "      <td>0.0</td>\n",
              "      <td>0.0</td>\n",
              "      <td>0.0</td>\n",
              "      <td>0.0</td>\n",
              "      <td>0.0</td>\n",
              "      <td>0.0</td>\n",
              "      <td>0.0</td>\n",
              "      <td>0.0</td>\n",
              "      <td>0.0</td>\n",
              "      <td>0.0</td>\n",
              "    </tr>\n",
              "    <tr>\n",
              "      <th>3</th>\n",
              "      <td>0.0</td>\n",
              "      <td>0.0</td>\n",
              "      <td>0.0</td>\n",
              "      <td>0.0</td>\n",
              "      <td>0.0</td>\n",
              "      <td>0.0</td>\n",
              "      <td>0.0</td>\n",
              "      <td>0.0</td>\n",
              "      <td>0.0</td>\n",
              "      <td>0.0</td>\n",
              "      <td>...</td>\n",
              "      <td>0.0</td>\n",
              "      <td>0.0</td>\n",
              "      <td>0.0</td>\n",
              "      <td>0.0</td>\n",
              "      <td>0.0</td>\n",
              "      <td>0.0</td>\n",
              "      <td>0.0</td>\n",
              "      <td>0.0</td>\n",
              "      <td>0.0</td>\n",
              "      <td>0.0</td>\n",
              "    </tr>\n",
              "    <tr>\n",
              "      <th>4</th>\n",
              "      <td>0.0</td>\n",
              "      <td>0.0</td>\n",
              "      <td>0.0</td>\n",
              "      <td>0.0</td>\n",
              "      <td>0.0</td>\n",
              "      <td>0.0</td>\n",
              "      <td>0.0</td>\n",
              "      <td>0.0</td>\n",
              "      <td>0.0</td>\n",
              "      <td>0.0</td>\n",
              "      <td>...</td>\n",
              "      <td>0.0</td>\n",
              "      <td>0.0</td>\n",
              "      <td>0.0</td>\n",
              "      <td>0.0</td>\n",
              "      <td>0.0</td>\n",
              "      <td>0.0</td>\n",
              "      <td>0.0</td>\n",
              "      <td>0.0</td>\n",
              "      <td>0.0</td>\n",
              "      <td>0.0</td>\n",
              "    </tr>\n",
              "  </tbody>\n",
              "</table>\n",
              "<p>5 rows × 5400 columns</p>\n",
              "</div>"
            ],
            "text/plain": [
              "   00000  000000  000196  000282  000284  000360  000469  000750  000886  \\\n",
              "0    0.0     0.0     0.0     0.0     0.0     0.0     0.0     0.0     0.0   \n",
              "1    0.0     0.0     0.0     0.0     0.0     0.0     0.0     0.0     0.0   \n",
              "2    0.0     0.0     0.0     0.0     0.0     0.0     0.0     0.0     0.0   \n",
              "3    0.0     0.0     0.0     0.0     0.0     0.0     0.0     0.0     0.0   \n",
              "4    0.0     0.0     0.0     0.0     0.0     0.0     0.0     0.0     0.0   \n",
              "\n",
              "   000991  ...  yticks   yã   yä  zaman  zdã¼m  zero  zerodivisionerror  \\\n",
              "0     0.0  ...     0.0  0.0  0.0    0.0    0.0   0.0                0.0   \n",
              "1     0.0  ...     0.0  0.0  0.0    0.0    0.0   0.0                0.0   \n",
              "2     0.0  ...     0.0  0.0  0.0    0.0    0.0   0.0                0.0   \n",
              "3     0.0  ...     0.0  0.0  0.0    0.0    0.0   0.0                0.0   \n",
              "4     0.0  ...     0.0  0.0  0.0    0.0    0.0   0.0                0.0   \n",
              "\n",
              "   zeroth  zip  ã¼nã¼yorum  \n",
              "0     0.0  0.0         0.0  \n",
              "1     0.0  0.0         0.0  \n",
              "2     0.0  0.0         0.0  \n",
              "3     0.0  0.0         0.0  \n",
              "4     0.0  0.0         0.0  \n",
              "\n",
              "[5 rows x 5400 columns]"
            ]
          },
          "execution_count": 43,
          "metadata": {},
          "output_type": "execute_result"
        }
      ],
      "source": [
        "questions_TF_IDF = pd.DataFrame(vectorizer.transform(questions).toarray(), columns=vectorizer.get_feature_names_out())\n",
        "questions_TF_IDF.head()"
      ]
    },
    {
      "cell_type": "code",
      "execution_count": 44,
      "metadata": {
        "colab": {
          "base_uri": "https://localhost:8080/"
        },
        "id": "_XsZZf1wXJK7",
        "outputId": "d70dce4c-6bc2-4c49-c208-eb37b62beb43"
      },
      "outputs": [
        {
          "name": "stdout",
          "output_type": "stream",
          "text": [
            "139235c7-736c-4237-92f0-92e8c116832c.html\n",
            "668ad17e-0240-49f7-b5a7-d22e502554c6.html\n",
            "b0640e51-6879-40cb-a4f5-329f952ef99d.html\n",
            "da6b70d5-29f6-491a-ad46-037c77067128.html\n"
          ]
        }
      ],
      "source": [
        "code2prompts_tf_idf = dict()\n",
        "for code, user_prompts in code2prompts.items():\n",
        "    if len(user_prompts) == 0:\n",
        "        # some files have issues\n",
        "        print(code+\".html\")\n",
        "        continue\n",
        "    prompts_TF_IDF = pd.DataFrame(vectorizer.transform(user_prompts).toarray(), columns=vectorizer.get_feature_names_out())\n",
        "    code2prompts_tf_idf[code] = prompts_TF_IDF"
      ]
    },
    {
      "cell_type": "code",
      "execution_count": 45,
      "metadata": {
        "colab": {
          "base_uri": "https://localhost:8080/",
          "height": 256
        },
        "id": "V661_Sn7XJK7",
        "outputId": "da648f76-022e-4ff5-be69-f13091bc6ff6"
      },
      "outputs": [
        {
          "data": {
            "text/html": [
              "<div>\n",
              "<style scoped>\n",
              "    .dataframe tbody tr th:only-of-type {\n",
              "        vertical-align: middle;\n",
              "    }\n",
              "\n",
              "    .dataframe tbody tr th {\n",
              "        vertical-align: top;\n",
              "    }\n",
              "\n",
              "    .dataframe thead th {\n",
              "        text-align: right;\n",
              "    }\n",
              "</style>\n",
              "<table border=\"1\" class=\"dataframe\">\n",
              "  <thead>\n",
              "    <tr style=\"text-align: right;\">\n",
              "      <th></th>\n",
              "      <th>00000</th>\n",
              "      <th>000000</th>\n",
              "      <th>000196</th>\n",
              "      <th>000282</th>\n",
              "      <th>000284</th>\n",
              "      <th>000360</th>\n",
              "      <th>000469</th>\n",
              "      <th>000750</th>\n",
              "      <th>000886</th>\n",
              "      <th>000991</th>\n",
              "      <th>...</th>\n",
              "      <th>yticks</th>\n",
              "      <th>yã</th>\n",
              "      <th>yä</th>\n",
              "      <th>zaman</th>\n",
              "      <th>zdã¼m</th>\n",
              "      <th>zero</th>\n",
              "      <th>zerodivisionerror</th>\n",
              "      <th>zeroth</th>\n",
              "      <th>zip</th>\n",
              "      <th>ã¼nã¼yorum</th>\n",
              "    </tr>\n",
              "  </thead>\n",
              "  <tbody>\n",
              "    <tr>\n",
              "      <th>0</th>\n",
              "      <td>0.0</td>\n",
              "      <td>0.0</td>\n",
              "      <td>0.0</td>\n",
              "      <td>0.0</td>\n",
              "      <td>0.0</td>\n",
              "      <td>0.0</td>\n",
              "      <td>0.0</td>\n",
              "      <td>0.0</td>\n",
              "      <td>0.0</td>\n",
              "      <td>0.0</td>\n",
              "      <td>...</td>\n",
              "      <td>0.0</td>\n",
              "      <td>0.0</td>\n",
              "      <td>0.0</td>\n",
              "      <td>0.0</td>\n",
              "      <td>0.0</td>\n",
              "      <td>0.0</td>\n",
              "      <td>0.0</td>\n",
              "      <td>0.0</td>\n",
              "      <td>0.0</td>\n",
              "      <td>0.0</td>\n",
              "    </tr>\n",
              "    <tr>\n",
              "      <th>1</th>\n",
              "      <td>0.0</td>\n",
              "      <td>0.0</td>\n",
              "      <td>0.0</td>\n",
              "      <td>0.0</td>\n",
              "      <td>0.0</td>\n",
              "      <td>0.0</td>\n",
              "      <td>0.0</td>\n",
              "      <td>0.0</td>\n",
              "      <td>0.0</td>\n",
              "      <td>0.0</td>\n",
              "      <td>...</td>\n",
              "      <td>0.0</td>\n",
              "      <td>0.0</td>\n",
              "      <td>0.0</td>\n",
              "      <td>0.0</td>\n",
              "      <td>0.0</td>\n",
              "      <td>0.0</td>\n",
              "      <td>0.0</td>\n",
              "      <td>0.0</td>\n",
              "      <td>0.0</td>\n",
              "      <td>0.0</td>\n",
              "    </tr>\n",
              "    <tr>\n",
              "      <th>2</th>\n",
              "      <td>0.0</td>\n",
              "      <td>0.0</td>\n",
              "      <td>0.0</td>\n",
              "      <td>0.0</td>\n",
              "      <td>0.0</td>\n",
              "      <td>0.0</td>\n",
              "      <td>0.0</td>\n",
              "      <td>0.0</td>\n",
              "      <td>0.0</td>\n",
              "      <td>0.0</td>\n",
              "      <td>...</td>\n",
              "      <td>0.0</td>\n",
              "      <td>0.0</td>\n",
              "      <td>0.0</td>\n",
              "      <td>0.0</td>\n",
              "      <td>0.0</td>\n",
              "      <td>0.0</td>\n",
              "      <td>0.0</td>\n",
              "      <td>0.0</td>\n",
              "      <td>0.0</td>\n",
              "      <td>0.0</td>\n",
              "    </tr>\n",
              "    <tr>\n",
              "      <th>3</th>\n",
              "      <td>0.0</td>\n",
              "      <td>0.0</td>\n",
              "      <td>0.0</td>\n",
              "      <td>0.0</td>\n",
              "      <td>0.0</td>\n",
              "      <td>0.0</td>\n",
              "      <td>0.0</td>\n",
              "      <td>0.0</td>\n",
              "      <td>0.0</td>\n",
              "      <td>0.0</td>\n",
              "      <td>...</td>\n",
              "      <td>0.0</td>\n",
              "      <td>0.0</td>\n",
              "      <td>0.0</td>\n",
              "      <td>0.0</td>\n",
              "      <td>0.0</td>\n",
              "      <td>0.0</td>\n",
              "      <td>0.0</td>\n",
              "      <td>0.0</td>\n",
              "      <td>0.0</td>\n",
              "      <td>0.0</td>\n",
              "    </tr>\n",
              "    <tr>\n",
              "      <th>4</th>\n",
              "      <td>0.0</td>\n",
              "      <td>0.0</td>\n",
              "      <td>0.0</td>\n",
              "      <td>0.0</td>\n",
              "      <td>0.0</td>\n",
              "      <td>0.0</td>\n",
              "      <td>0.0</td>\n",
              "      <td>0.0</td>\n",
              "      <td>0.0</td>\n",
              "      <td>0.0</td>\n",
              "      <td>...</td>\n",
              "      <td>0.0</td>\n",
              "      <td>0.0</td>\n",
              "      <td>0.0</td>\n",
              "      <td>0.0</td>\n",
              "      <td>0.0</td>\n",
              "      <td>0.0</td>\n",
              "      <td>0.0</td>\n",
              "      <td>0.0</td>\n",
              "      <td>0.0</td>\n",
              "      <td>0.0</td>\n",
              "    </tr>\n",
              "  </tbody>\n",
              "</table>\n",
              "<p>5 rows × 5400 columns</p>\n",
              "</div>"
            ],
            "text/plain": [
              "   00000  000000  000196  000282  000284  000360  000469  000750  000886  \\\n",
              "0    0.0     0.0     0.0     0.0     0.0     0.0     0.0     0.0     0.0   \n",
              "1    0.0     0.0     0.0     0.0     0.0     0.0     0.0     0.0     0.0   \n",
              "2    0.0     0.0     0.0     0.0     0.0     0.0     0.0     0.0     0.0   \n",
              "3    0.0     0.0     0.0     0.0     0.0     0.0     0.0     0.0     0.0   \n",
              "4    0.0     0.0     0.0     0.0     0.0     0.0     0.0     0.0     0.0   \n",
              "\n",
              "   000991  ...  yticks   yã   yä  zaman  zdã¼m  zero  zerodivisionerror  \\\n",
              "0     0.0  ...     0.0  0.0  0.0    0.0    0.0   0.0                0.0   \n",
              "1     0.0  ...     0.0  0.0  0.0    0.0    0.0   0.0                0.0   \n",
              "2     0.0  ...     0.0  0.0  0.0    0.0    0.0   0.0                0.0   \n",
              "3     0.0  ...     0.0  0.0  0.0    0.0    0.0   0.0                0.0   \n",
              "4     0.0  ...     0.0  0.0  0.0    0.0    0.0   0.0                0.0   \n",
              "\n",
              "   zeroth  zip  ã¼nã¼yorum  \n",
              "0     0.0  0.0         0.0  \n",
              "1     0.0  0.0         0.0  \n",
              "2     0.0  0.0         0.0  \n",
              "3     0.0  0.0         0.0  \n",
              "4     0.0  0.0         0.0  \n",
              "\n",
              "[5 rows x 5400 columns]"
            ]
          },
          "execution_count": 45,
          "metadata": {},
          "output_type": "execute_result"
        }
      ],
      "source": [
        "code2prompts_tf_idf[\"089eb66d-4c3a-4f58-b98f-a3774a2efb34\"].head()"
      ]
    },
    {
      "cell_type": "code",
      "execution_count": 46,
      "metadata": {
        "colab": {
          "base_uri": "https://localhost:8080/"
        },
        "id": "r1pHqZK1XJK7",
        "outputId": "b6f35c91-6623-4fc2-f3f3-506714bc3bdb"
      },
      "outputs": [
        {
          "data": {
            "text/plain": [
              "(86, 5400)"
            ]
          },
          "execution_count": 46,
          "metadata": {},
          "output_type": "execute_result"
        }
      ],
      "source": [
        "code2prompts_tf_idf[\"089eb66d-4c3a-4f58-b98f-a3774a2efb34\"].shape"
      ]
    },
    {
      "cell_type": "code",
      "execution_count": 47,
      "metadata": {
        "id": "iJnwQnPYXJK7"
      },
      "outputs": [],
      "source": [
        "code2cosine = dict()\n",
        "for code, user_prompts_tf_idf in code2prompts_tf_idf.items():\n",
        "    code2cosine[code] = pd.DataFrame(cosine_similarity(questions_TF_IDF,user_prompts_tf_idf))"
      ]
    },
    {
      "cell_type": "code",
      "execution_count": 48,
      "metadata": {
        "colab": {
          "base_uri": "https://localhost:8080/",
          "height": 424
        },
        "id": "_1pisl8QXJK7",
        "outputId": "44d2ff2f-e762-4054-b690-b369cce0bc7f"
      },
      "outputs": [
        {
          "data": {
            "text/html": [
              "<div>\n",
              "<style scoped>\n",
              "    .dataframe tbody tr th:only-of-type {\n",
              "        vertical-align: middle;\n",
              "    }\n",
              "\n",
              "    .dataframe tbody tr th {\n",
              "        vertical-align: top;\n",
              "    }\n",
              "\n",
              "    .dataframe thead th {\n",
              "        text-align: right;\n",
              "    }\n",
              "</style>\n",
              "<table border=\"1\" class=\"dataframe\">\n",
              "  <thead>\n",
              "    <tr style=\"text-align: right;\">\n",
              "      <th></th>\n",
              "      <th>code</th>\n",
              "      <th>Q_0</th>\n",
              "      <th>Q_1</th>\n",
              "      <th>Q_2</th>\n",
              "      <th>Q_3</th>\n",
              "      <th>Q_4</th>\n",
              "      <th>Q_5</th>\n",
              "      <th>Q_6</th>\n",
              "      <th>Q_7</th>\n",
              "      <th>Q_8</th>\n",
              "    </tr>\n",
              "  </thead>\n",
              "  <tbody>\n",
              "    <tr>\n",
              "      <th>0</th>\n",
              "      <td>0031c86e-81f4-4eef-9e0e-28037abf9883</td>\n",
              "      <td>0.153541</td>\n",
              "      <td>0.294879</td>\n",
              "      <td>0.522169</td>\n",
              "      <td>0.352243</td>\n",
              "      <td>0.460606</td>\n",
              "      <td>0.553876</td>\n",
              "      <td>0.167250</td>\n",
              "      <td>0.182938</td>\n",
              "      <td>0.195440</td>\n",
              "    </tr>\n",
              "    <tr>\n",
              "      <th>1</th>\n",
              "      <td>0225686d-b825-4cac-8691-3a3a5343df2b</td>\n",
              "      <td>0.192013</td>\n",
              "      <td>0.795607</td>\n",
              "      <td>0.772184</td>\n",
              "      <td>0.882656</td>\n",
              "      <td>0.607114</td>\n",
              "      <td>0.987511</td>\n",
              "      <td>0.892586</td>\n",
              "      <td>0.570741</td>\n",
              "      <td>0.543866</td>\n",
              "    </tr>\n",
              "    <tr>\n",
              "      <th>2</th>\n",
              "      <td>041f950b-c013-409a-a642-cffff60b9d4b</td>\n",
              "      <td>0.258306</td>\n",
              "      <td>0.295923</td>\n",
              "      <td>0.624824</td>\n",
              "      <td>0.351872</td>\n",
              "      <td>0.643038</td>\n",
              "      <td>0.454314</td>\n",
              "      <td>0.540269</td>\n",
              "      <td>0.546506</td>\n",
              "      <td>0.325793</td>\n",
              "    </tr>\n",
              "    <tr>\n",
              "      <th>3</th>\n",
              "      <td>04f91058-d0f8-4324-83b2-19c671f433dc</td>\n",
              "      <td>0.145965</td>\n",
              "      <td>0.117841</td>\n",
              "      <td>0.267346</td>\n",
              "      <td>0.316809</td>\n",
              "      <td>0.333889</td>\n",
              "      <td>0.309084</td>\n",
              "      <td>0.192434</td>\n",
              "      <td>0.261892</td>\n",
              "      <td>0.407106</td>\n",
              "    </tr>\n",
              "    <tr>\n",
              "      <th>4</th>\n",
              "      <td>089eb66d-4c3a-4f58-b98f-a3774a2efb34</td>\n",
              "      <td>0.344182</td>\n",
              "      <td>0.575528</td>\n",
              "      <td>0.782883</td>\n",
              "      <td>0.624833</td>\n",
              "      <td>0.724872</td>\n",
              "      <td>0.872171</td>\n",
              "      <td>0.684797</td>\n",
              "      <td>0.945305</td>\n",
              "      <td>0.511769</td>\n",
              "    </tr>\n",
              "    <tr>\n",
              "      <th>...</th>\n",
              "      <td>...</td>\n",
              "      <td>...</td>\n",
              "      <td>...</td>\n",
              "      <td>...</td>\n",
              "      <td>...</td>\n",
              "      <td>...</td>\n",
              "      <td>...</td>\n",
              "      <td>...</td>\n",
              "      <td>...</td>\n",
              "      <td>...</td>\n",
              "    </tr>\n",
              "    <tr>\n",
              "      <th>118</th>\n",
              "      <td>f24219d6-07f0-4baf-80ac-18475dc5b66f</td>\n",
              "      <td>0.187393</td>\n",
              "      <td>0.209889</td>\n",
              "      <td>0.358875</td>\n",
              "      <td>0.211246</td>\n",
              "      <td>0.149281</td>\n",
              "      <td>0.507128</td>\n",
              "      <td>1.000000</td>\n",
              "      <td>0.862585</td>\n",
              "      <td>0.739634</td>\n",
              "    </tr>\n",
              "    <tr>\n",
              "      <th>119</th>\n",
              "      <td>f2f18684-4a16-4c05-a2d1-c0f96d1de869</td>\n",
              "      <td>0.144760</td>\n",
              "      <td>0.139495</td>\n",
              "      <td>0.332267</td>\n",
              "      <td>0.950344</td>\n",
              "      <td>0.775698</td>\n",
              "      <td>0.828355</td>\n",
              "      <td>0.374145</td>\n",
              "      <td>0.905688</td>\n",
              "      <td>0.553341</td>\n",
              "    </tr>\n",
              "    <tr>\n",
              "      <th>120</th>\n",
              "      <td>f852596d-fdca-45aa-9050-d4f76ce6a53c</td>\n",
              "      <td>0.211008</td>\n",
              "      <td>0.908697</td>\n",
              "      <td>0.977725</td>\n",
              "      <td>0.924311</td>\n",
              "      <td>0.888609</td>\n",
              "      <td>0.921306</td>\n",
              "      <td>0.779558</td>\n",
              "      <td>0.767328</td>\n",
              "      <td>0.499508</td>\n",
              "    </tr>\n",
              "    <tr>\n",
              "      <th>121</th>\n",
              "      <td>f8ec3336-fd48-4654-ad98-62ccfb96d096</td>\n",
              "      <td>0.173215</td>\n",
              "      <td>0.967321</td>\n",
              "      <td>1.000000</td>\n",
              "      <td>0.703987</td>\n",
              "      <td>0.942662</td>\n",
              "      <td>0.907417</td>\n",
              "      <td>1.000000</td>\n",
              "      <td>1.000000</td>\n",
              "      <td>0.782938</td>\n",
              "    </tr>\n",
              "    <tr>\n",
              "      <th>122</th>\n",
              "      <td>fb8de815-224c-4d06-9fd4-7156d1a9920d</td>\n",
              "      <td>0.170293</td>\n",
              "      <td>0.712409</td>\n",
              "      <td>0.835236</td>\n",
              "      <td>0.760650</td>\n",
              "      <td>0.895230</td>\n",
              "      <td>0.943543</td>\n",
              "      <td>0.944887</td>\n",
              "      <td>0.844004</td>\n",
              "      <td>0.729632</td>\n",
              "    </tr>\n",
              "  </tbody>\n",
              "</table>\n",
              "<p>123 rows × 10 columns</p>\n",
              "</div>"
            ],
            "text/plain": [
              "                                     code       Q_0       Q_1       Q_2  \\\n",
              "0    0031c86e-81f4-4eef-9e0e-28037abf9883  0.153541  0.294879  0.522169   \n",
              "1    0225686d-b825-4cac-8691-3a3a5343df2b  0.192013  0.795607  0.772184   \n",
              "2    041f950b-c013-409a-a642-cffff60b9d4b  0.258306  0.295923  0.624824   \n",
              "3    04f91058-d0f8-4324-83b2-19c671f433dc  0.145965  0.117841  0.267346   \n",
              "4    089eb66d-4c3a-4f58-b98f-a3774a2efb34  0.344182  0.575528  0.782883   \n",
              "..                                    ...       ...       ...       ...   \n",
              "118  f24219d6-07f0-4baf-80ac-18475dc5b66f  0.187393  0.209889  0.358875   \n",
              "119  f2f18684-4a16-4c05-a2d1-c0f96d1de869  0.144760  0.139495  0.332267   \n",
              "120  f852596d-fdca-45aa-9050-d4f76ce6a53c  0.211008  0.908697  0.977725   \n",
              "121  f8ec3336-fd48-4654-ad98-62ccfb96d096  0.173215  0.967321  1.000000   \n",
              "122  fb8de815-224c-4d06-9fd4-7156d1a9920d  0.170293  0.712409  0.835236   \n",
              "\n",
              "          Q_3       Q_4       Q_5       Q_6       Q_7       Q_8  \n",
              "0    0.352243  0.460606  0.553876  0.167250  0.182938  0.195440  \n",
              "1    0.882656  0.607114  0.987511  0.892586  0.570741  0.543866  \n",
              "2    0.351872  0.643038  0.454314  0.540269  0.546506  0.325793  \n",
              "3    0.316809  0.333889  0.309084  0.192434  0.261892  0.407106  \n",
              "4    0.624833  0.724872  0.872171  0.684797  0.945305  0.511769  \n",
              "..        ...       ...       ...       ...       ...       ...  \n",
              "118  0.211246  0.149281  0.507128  1.000000  0.862585  0.739634  \n",
              "119  0.950344  0.775698  0.828355  0.374145  0.905688  0.553341  \n",
              "120  0.924311  0.888609  0.921306  0.779558  0.767328  0.499508  \n",
              "121  0.703987  0.942662  0.907417  1.000000  1.000000  0.782938  \n",
              "122  0.760650  0.895230  0.943543  0.944887  0.844004  0.729632  \n",
              "\n",
              "[123 rows x 10 columns]"
            ]
          },
          "execution_count": 48,
          "metadata": {},
          "output_type": "execute_result"
        }
      ],
      "source": [
        "code2questionmapping = dict()\n",
        "for code, cosine_scores in code2cosine.items():\n",
        "    code2questionmapping[code] = code2cosine[code].max(axis=1).tolist()\n",
        "\n",
        "\n",
        "question_mapping_scores = pd.DataFrame(code2questionmapping).T\n",
        "question_mapping_scores.reset_index(inplace=True)\n",
        "question_mapping_scores.rename(columns={i: f\"Q_{i}\" for i in range(len(questions))}, inplace=True)\n",
        "question_mapping_scores.rename(columns={\"index\" : \"code\"}, inplace=True)\n",
        "\n",
        "question_mapping_scores"
      ]
    },
    {
      "cell_type": "markdown",
      "metadata": {
        "id": "vaY3zdPuXJK7"
      },
      "source": [
        "# 2. Feature Engineering"
      ]
    },
    {
      "cell_type": "markdown",
      "metadata": {
        "id": "uVkLwmFIumDS"
      },
      "source": [
        "## 2.1. Provided Features"
      ]
    },
    {
      "cell_type": "markdown",
      "metadata": {
        "id": "RcrpWfsvuwsC"
      },
      "source": [
        "- Number of prompts that a user asked\n",
        "- Number of complaints that a user makes e.g \"the code gives this error!\"\n",
        "- User prompts average number of characters"
      ]
    },
    {
      "cell_type": "code",
      "execution_count": 49,
      "metadata": {
        "id": "F2DaJoe2uzyC"
      },
      "outputs": [
        {
          "name": "stdout",
          "output_type": "stream",
          "text": [
            "139235c7-736c-4237-92f0-92e8c116832c\n",
            "668ad17e-0240-49f7-b5a7-d22e502554c6\n",
            "b0640e51-6879-40cb-a4f5-329f952ef99d\n",
            "da6b70d5-29f6-491a-ad46-037c77067128\n"
          ]
        }
      ],
      "source": [
        "code2features = defaultdict(lambda : defaultdict(int))\n",
        "\n",
        "keywords2search = [\"error\", \"no\", \"thank\", \"next\", \"Entropy\", \"apologize\", \"see\"]\n",
        "keywords2search = [k.lower() for k in keywords2search]\n",
        "\n",
        "for code, convs in code2convos.items():\n",
        "    if len(convs) == 0:\n",
        "        print(code)\n",
        "        continue\n",
        "    for c in convs:\n",
        "        text = c[\"text\"].lower()\n",
        "        if c[\"role\"] == \"user\":\n",
        "            # User Prompts\n",
        "\n",
        "            # count the user prompts\n",
        "            code2features[code][\"#user_prompts\"] += 1\n",
        "\n",
        "            # count the keywords\n",
        "            for kw in keywords2search:\n",
        "                code2features[code][f\"#{kw}\"] +=  len(re.findall(rf\"\\b{kw}\\b\", text))\n",
        "\n",
        "            code2features[code][\"prompt_avg_chars\"] += len(text)\n",
        "        else:\n",
        "            # ChatGPT Responses\n",
        "            code2features[code][\"response_avg_chars\"] += len(text)\n",
        "\n",
        "    # Calculate averages outside the inner loop\n",
        "    if code2features[code][\"#user_prompts\"] > 0:\n",
        "        code2features[code][\"prompt_avg_chars\"] /= code2features[code][\"#user_prompts\"]\n",
        "        code2features[code][\"response_avg_chars\"] /= code2features[code][\"#user_prompts\"]\n",
        "\n",
        "\n"
      ]
    },
    {
      "cell_type": "code",
      "execution_count": 50,
      "metadata": {
        "id": "K_C6yHnxu0F0"
      },
      "outputs": [
        {
          "data": {
            "text/html": [
              "<div>\n",
              "<style scoped>\n",
              "    .dataframe tbody tr th:only-of-type {\n",
              "        vertical-align: middle;\n",
              "    }\n",
              "\n",
              "    .dataframe tbody tr th {\n",
              "        vertical-align: top;\n",
              "    }\n",
              "\n",
              "    .dataframe thead th {\n",
              "        text-align: right;\n",
              "    }\n",
              "</style>\n",
              "<table border=\"1\" class=\"dataframe\">\n",
              "  <thead>\n",
              "    <tr style=\"text-align: right;\">\n",
              "      <th></th>\n",
              "      <th>#user_prompts</th>\n",
              "      <th>#error</th>\n",
              "      <th>#no</th>\n",
              "      <th>#thank</th>\n",
              "      <th>#next</th>\n",
              "      <th>#entropy</th>\n",
              "      <th>#apologize</th>\n",
              "      <th>#see</th>\n",
              "      <th>prompt_avg_chars</th>\n",
              "      <th>response_avg_chars</th>\n",
              "    </tr>\n",
              "  </thead>\n",
              "  <tbody>\n",
              "    <tr>\n",
              "      <th>0031c86e-81f4-4eef-9e0e-28037abf9883</th>\n",
              "      <td>14.0</td>\n",
              "      <td>3.0</td>\n",
              "      <td>1.0</td>\n",
              "      <td>0.0</td>\n",
              "      <td>0.0</td>\n",
              "      <td>0.0</td>\n",
              "      <td>0.0</td>\n",
              "      <td>0.0</td>\n",
              "      <td>407.214286</td>\n",
              "      <td>2218.500000</td>\n",
              "    </tr>\n",
              "    <tr>\n",
              "      <th>0225686d-b825-4cac-8691-3a3a5343df2b</th>\n",
              "      <td>18.0</td>\n",
              "      <td>0.0</td>\n",
              "      <td>0.0</td>\n",
              "      <td>0.0</td>\n",
              "      <td>0.0</td>\n",
              "      <td>3.0</td>\n",
              "      <td>0.0</td>\n",
              "      <td>0.0</td>\n",
              "      <td>261.111111</td>\n",
              "      <td>1653.111111</td>\n",
              "    </tr>\n",
              "    <tr>\n",
              "      <th>041f950b-c013-409a-a642-cffff60b9d4b</th>\n",
              "      <td>9.0</td>\n",
              "      <td>3.0</td>\n",
              "      <td>0.0</td>\n",
              "      <td>1.0</td>\n",
              "      <td>0.0</td>\n",
              "      <td>3.0</td>\n",
              "      <td>0.0</td>\n",
              "      <td>0.0</td>\n",
              "      <td>663.000000</td>\n",
              "      <td>1636.222222</td>\n",
              "    </tr>\n",
              "    <tr>\n",
              "      <th>04f91058-d0f8-4324-83b2-19c671f433dc</th>\n",
              "      <td>20.0</td>\n",
              "      <td>1.0</td>\n",
              "      <td>1.0</td>\n",
              "      <td>0.0</td>\n",
              "      <td>0.0</td>\n",
              "      <td>3.0</td>\n",
              "      <td>0.0</td>\n",
              "      <td>1.0</td>\n",
              "      <td>114.100000</td>\n",
              "      <td>1749.900000</td>\n",
              "    </tr>\n",
              "    <tr>\n",
              "      <th>089eb66d-4c3a-4f58-b98f-a3774a2efb34</th>\n",
              "      <td>86.0</td>\n",
              "      <td>1.0</td>\n",
              "      <td>5.0</td>\n",
              "      <td>0.0</td>\n",
              "      <td>0.0</td>\n",
              "      <td>26.0</td>\n",
              "      <td>0.0</td>\n",
              "      <td>3.0</td>\n",
              "      <td>217.081395</td>\n",
              "      <td>1455.441860</td>\n",
              "    </tr>\n",
              "    <tr>\n",
              "      <th>...</th>\n",
              "      <td>...</td>\n",
              "      <td>...</td>\n",
              "      <td>...</td>\n",
              "      <td>...</td>\n",
              "      <td>...</td>\n",
              "      <td>...</td>\n",
              "      <td>...</td>\n",
              "      <td>...</td>\n",
              "      <td>...</td>\n",
              "      <td>...</td>\n",
              "    </tr>\n",
              "    <tr>\n",
              "      <th>b61f3f4c-785e-4d7c-b963-4480ece4656f</th>\n",
              "      <td>27.0</td>\n",
              "      <td>2.0</td>\n",
              "      <td>0.0</td>\n",
              "      <td>0.0</td>\n",
              "      <td>0.0</td>\n",
              "      <td>8.0</td>\n",
              "      <td>0.0</td>\n",
              "      <td>0.0</td>\n",
              "      <td>511.148148</td>\n",
              "      <td>1309.185185</td>\n",
              "    </tr>\n",
              "    <tr>\n",
              "      <th>b73f91f8-732f-4a48-bcbd-eadbbb457a94</th>\n",
              "      <td>17.0</td>\n",
              "      <td>1.0</td>\n",
              "      <td>0.0</td>\n",
              "      <td>0.0</td>\n",
              "      <td>0.0</td>\n",
              "      <td>0.0</td>\n",
              "      <td>0.0</td>\n",
              "      <td>1.0</td>\n",
              "      <td>540.529412</td>\n",
              "      <td>1658.588235</td>\n",
              "    </tr>\n",
              "    <tr>\n",
              "      <th>ba18e4e8-2c26-46d4-ba31-cc21947aabd5</th>\n",
              "      <td>27.0</td>\n",
              "      <td>3.0</td>\n",
              "      <td>0.0</td>\n",
              "      <td>0.0</td>\n",
              "      <td>4.0</td>\n",
              "      <td>0.0</td>\n",
              "      <td>0.0</td>\n",
              "      <td>0.0</td>\n",
              "      <td>267.740741</td>\n",
              "      <td>1750.518519</td>\n",
              "    </tr>\n",
              "    <tr>\n",
              "      <th>c0f51763-0c69-45fb-a4d7-6906d53db43d</th>\n",
              "      <td>3.0</td>\n",
              "      <td>0.0</td>\n",
              "      <td>0.0</td>\n",
              "      <td>0.0</td>\n",
              "      <td>0.0</td>\n",
              "      <td>0.0</td>\n",
              "      <td>0.0</td>\n",
              "      <td>0.0</td>\n",
              "      <td>69.333333</td>\n",
              "      <td>2732.000000</td>\n",
              "    </tr>\n",
              "    <tr>\n",
              "      <th>c21be348-17bd-4fdd-88f5-137f6a13cdee</th>\n",
              "      <td>18.0</td>\n",
              "      <td>3.0</td>\n",
              "      <td>0.0</td>\n",
              "      <td>0.0</td>\n",
              "      <td>0.0</td>\n",
              "      <td>4.0</td>\n",
              "      <td>0.0</td>\n",
              "      <td>0.0</td>\n",
              "      <td>192.444444</td>\n",
              "      <td>1783.722222</td>\n",
              "    </tr>\n",
              "  </tbody>\n",
              "</table>\n",
              "<p>100 rows × 10 columns</p>\n",
              "</div>"
            ],
            "text/plain": [
              "                                      #user_prompts  #error  #no  #thank  \\\n",
              "0031c86e-81f4-4eef-9e0e-28037abf9883           14.0     3.0  1.0     0.0   \n",
              "0225686d-b825-4cac-8691-3a3a5343df2b           18.0     0.0  0.0     0.0   \n",
              "041f950b-c013-409a-a642-cffff60b9d4b            9.0     3.0  0.0     1.0   \n",
              "04f91058-d0f8-4324-83b2-19c671f433dc           20.0     1.0  1.0     0.0   \n",
              "089eb66d-4c3a-4f58-b98f-a3774a2efb34           86.0     1.0  5.0     0.0   \n",
              "...                                             ...     ...  ...     ...   \n",
              "b61f3f4c-785e-4d7c-b963-4480ece4656f           27.0     2.0  0.0     0.0   \n",
              "b73f91f8-732f-4a48-bcbd-eadbbb457a94           17.0     1.0  0.0     0.0   \n",
              "ba18e4e8-2c26-46d4-ba31-cc21947aabd5           27.0     3.0  0.0     0.0   \n",
              "c0f51763-0c69-45fb-a4d7-6906d53db43d            3.0     0.0  0.0     0.0   \n",
              "c21be348-17bd-4fdd-88f5-137f6a13cdee           18.0     3.0  0.0     0.0   \n",
              "\n",
              "                                      #next  #entropy  #apologize  #see  \\\n",
              "0031c86e-81f4-4eef-9e0e-28037abf9883    0.0       0.0         0.0   0.0   \n",
              "0225686d-b825-4cac-8691-3a3a5343df2b    0.0       3.0         0.0   0.0   \n",
              "041f950b-c013-409a-a642-cffff60b9d4b    0.0       3.0         0.0   0.0   \n",
              "04f91058-d0f8-4324-83b2-19c671f433dc    0.0       3.0         0.0   1.0   \n",
              "089eb66d-4c3a-4f58-b98f-a3774a2efb34    0.0      26.0         0.0   3.0   \n",
              "...                                     ...       ...         ...   ...   \n",
              "b61f3f4c-785e-4d7c-b963-4480ece4656f    0.0       8.0         0.0   0.0   \n",
              "b73f91f8-732f-4a48-bcbd-eadbbb457a94    0.0       0.0         0.0   1.0   \n",
              "ba18e4e8-2c26-46d4-ba31-cc21947aabd5    4.0       0.0         0.0   0.0   \n",
              "c0f51763-0c69-45fb-a4d7-6906d53db43d    0.0       0.0         0.0   0.0   \n",
              "c21be348-17bd-4fdd-88f5-137f6a13cdee    0.0       4.0         0.0   0.0   \n",
              "\n",
              "                                      prompt_avg_chars  response_avg_chars  \n",
              "0031c86e-81f4-4eef-9e0e-28037abf9883        407.214286         2218.500000  \n",
              "0225686d-b825-4cac-8691-3a3a5343df2b        261.111111         1653.111111  \n",
              "041f950b-c013-409a-a642-cffff60b9d4b        663.000000         1636.222222  \n",
              "04f91058-d0f8-4324-83b2-19c671f433dc        114.100000         1749.900000  \n",
              "089eb66d-4c3a-4f58-b98f-a3774a2efb34        217.081395         1455.441860  \n",
              "...                                                ...                 ...  \n",
              "b61f3f4c-785e-4d7c-b963-4480ece4656f        511.148148         1309.185185  \n",
              "b73f91f8-732f-4a48-bcbd-eadbbb457a94        540.529412         1658.588235  \n",
              "ba18e4e8-2c26-46d4-ba31-cc21947aabd5        267.740741         1750.518519  \n",
              "c0f51763-0c69-45fb-a4d7-6906d53db43d         69.333333         2732.000000  \n",
              "c21be348-17bd-4fdd-88f5-137f6a13cdee        192.444444         1783.722222  \n",
              "\n",
              "[100 rows x 10 columns]"
            ]
          },
          "execution_count": 50,
          "metadata": {},
          "output_type": "execute_result"
        }
      ],
      "source": [
        "df = pd.DataFrame(code2features).T\n",
        "df.head(100)"
      ]
    },
    {
      "cell_type": "markdown",
      "metadata": {
        "id": "Ryz_bnmtp2H1"
      },
      "source": [
        "## 2.2. Custom Features"
      ]
    },
    {
      "cell_type": "markdown",
      "metadata": {
        "id": "Gd8TFeIHp5zK"
      },
      "source": [
        "**Features to be added**\n",
        "1. Number of \"apologize\" words - Deniz - DONE\n",
        "2. Total number of code lines and code cells for each question - Batu - DONE\n",
        "3. Average similarity - Alkım\n",
        "4. Dividing each question to subparts like a b c - Görko\n",
        "5. Average prompt per question - Görko\n",
        "\n",
        "**TODO**\n",
        "* daha fazla feature bulunup buraya eklenecek\n",
        "* bir kişi de evaluationları yapacak - heat map, curve vs., accuracy"
      ]
    },
    {
      "cell_type": "markdown",
      "metadata": {
        "id": "vEUofgQXqSeh"
      },
      "source": [
        "### a. Number of Apologize Words"
      ]
    },
    {
      "cell_type": "code",
      "execution_count": 51,
      "metadata": {
        "id": "SRgcYElw-oxQ"
      },
      "outputs": [],
      "source": [
        "from collections import defaultdict\n",
        "import re\n",
        "\n",
        "def count_confusion_and_apologize_in_sentence(text):\n",
        "    # Splitting the text into sentences\n",
        "    sentences = re.split(r'[.!?]', text)\n",
        "\n",
        "    # Counting sentences that contain both \"confusion\" and \"apologize\"\n",
        "    count = 0\n",
        "    for sentence in sentences:\n",
        "        # Check both words in the lowercased sentence\n",
        "        if 'confusion' in sentence.lower() and 'apologize' in sentence.lower():\n",
        "            count += 1\n",
        "\n",
        "    return count"
      ]
    },
    {
      "cell_type": "markdown",
      "metadata": {
        "id": "Bu-Nz6tBqZ2u"
      },
      "source": [
        "### b. Number of Code Lines & Cells"
      ]
    },
    {
      "cell_type": "code",
      "execution_count": 52,
      "metadata": {
        "id": "r5FGqz77pcs1"
      },
      "outputs": [],
      "source": [
        "# CUSTOM FEATURES 2: NUMBER OF CODE LINES AND NUMBER OF CODE CELLS PROVIDED BY CHATGPT FOR EACH QUESTION\n",
        "code2num_code_lines = {}\n",
        "code2num_code_cells = {}\n",
        "\n",
        "# Format\n",
        "# {\n",
        "#   code_1: {\n",
        "#       Q1: 12,\n",
        "#       Q2: 20,\n",
        "#   }\n",
        "# }\n",
        "def DICT_INIT(feature_name):\n",
        "    _dict = {\n",
        "        f\"Q_0_{feature_name}\": 0,\n",
        "        f\"Q_1_{feature_name}\": 0,\n",
        "        f\"Q_2_{feature_name}\": 0,\n",
        "        f\"Q_3_{feature_name}\": 0,\n",
        "        f\"Q_4_{feature_name}\": 0,\n",
        "        f\"Q_5_{feature_name}\": 0,\n",
        "        f\"Q_6_{feature_name}\": 0,\n",
        "        f\"Q_7_{feature_name}\": 0,\n",
        "        f\"Q_8_{feature_name}\": 0,\n",
        "    }\n",
        "    return _dict\n",
        "\n",
        "FEATURE_NUM_CODE_LINES = \"#code_lines\"\n",
        "FEATURE_NUM_CODE_CELLS = \"#code_cells\"\n",
        "\n",
        "# Iterate over all file to cosine similarities\n",
        "for file_code in code2cosine:\n",
        "    # Initialize file_code entries\n",
        "    code2num_code_lines[file_code] = DICT_INIT(FEATURE_NUM_CODE_LINES)\n",
        "    code2num_code_cells[file_code] = DICT_INIT(FEATURE_NUM_CODE_CELLS)\n",
        "    for prompt_id in code2cosine[file_code]:\n",
        "        similarities = code2cosine[file_code][prompt_id]\n",
        "        # Find the max similartity to relate the prompt with a question index\n",
        "        related_question_idx = similarities.idxmax()\n",
        "\n",
        "        # Get the GPT answer to count the number of code cells and lines\n",
        "        user_prompt_idx = -1\n",
        "        found = False\n",
        "        # Find the user prompt index in all conversations\n",
        "        for conv in code2convos[file_code]:\n",
        "            if conv[\"role\"] == \"user\":\n",
        "                user_prompt_idx += 1\n",
        "                if (user_prompt_idx == prompt_id):\n",
        "                    found = True\n",
        "            # If found and role is not user, set this prompt as the GPT answer index\n",
        "            elif found:\n",
        "                break\n",
        "\n",
        "\n",
        "        code_cells = conv[\"code\"]\n",
        "        for code_cell in code_cells:\n",
        "            # Increment num code cells of the related question by one\n",
        "            code2num_code_cells[file_code][f\"Q_{related_question_idx}_{FEATURE_NUM_CODE_CELLS}\"] += 1\n",
        "            # Increment num code lines of the related question by the '\\n' count\n",
        "            code2num_code_lines[file_code][f\"Q_{related_question_idx}_{FEATURE_NUM_CODE_LINES}\"] += len(code_cell.split(\"\\n\"))"
      ]
    },
    {
      "cell_type": "code",
      "execution_count": 53,
      "metadata": {
        "id": "koZKfEWFpwQq"
      },
      "outputs": [],
      "source": [
        "# Create dataframes out of generated dictionaries and merge them\n",
        "code_lines_df = (pd.DataFrame(code2num_code_lines)).T\n",
        "code_lines_df = code_lines_df.reset_index().rename(columns={\"index\": \"code\"})\n",
        "\n",
        "code_cells_df = (pd.DataFrame(code2num_code_cells)).T\n",
        "code_cells_df = code_cells_df.reset_index().rename(columns={\"index\": \"code\"})\n",
        "\n",
        "code_df = pd.merge(code_lines_df, code_cells_df, on='code', how='inner')\n",
        "code_df.to_csv(\"./generated_data/code_features.csv\", index=False)"
      ]
    },
    {
      "cell_type": "markdown",
      "metadata": {
        "id": "t_nBwH7_rM7g"
      },
      "source": [
        "### c. Average Similarity"
      ]
    },
    {
      "cell_type": "code",
      "execution_count": 54,
      "metadata": {
        "id": "sMSbUZhvrSi1"
      },
      "outputs": [],
      "source": [
        "# Average Similarity"
      ]
    },
    {
      "cell_type": "markdown",
      "metadata": {
        "id": "kqz8dG7crVux"
      },
      "source": [
        "### d. Dividing Questions into Subparts"
      ]
    },
    {
      "cell_type": "code",
      "execution_count": 55,
      "metadata": {
        "id": "GwbCtPRqrbOy"
      },
      "outputs": [],
      "source": [
        "# Dividing Questions into Subparts"
      ]
    },
    {
      "cell_type": "markdown",
      "metadata": {
        "id": "HklW_rk1rh9M"
      },
      "source": [
        "### e. Average Prompt per Question"
      ]
    },
    {
      "cell_type": "code",
      "execution_count": 56,
      "metadata": {
        "id": "ml2E0sg7rljg"
      },
      "outputs": [],
      "source": [
        "# Average Prompt per Question"
      ]
    },
    {
      "cell_type": "markdown",
      "metadata": {
        "id": "5U--jc1JrtIO"
      },
      "source": [
        "## 2.3. Merging Features and Target Variable"
      ]
    },
    {
      "cell_type": "code",
      "execution_count": 57,
      "metadata": {
        "colab": {
          "base_uri": "https://localhost:8080/",
          "height": 206
        },
        "id": "8Vy4RxroXJK8",
        "outputId": "6742d956-e85b-4915-acf6-8dc3ea47a8ed"
      },
      "outputs": [
        {
          "data": {
            "text/html": [
              "<div>\n",
              "<style scoped>\n",
              "    .dataframe tbody tr th:only-of-type {\n",
              "        vertical-align: middle;\n",
              "    }\n",
              "\n",
              "    .dataframe tbody tr th {\n",
              "        vertical-align: top;\n",
              "    }\n",
              "\n",
              "    .dataframe thead th {\n",
              "        text-align: right;\n",
              "    }\n",
              "</style>\n",
              "<table border=\"1\" class=\"dataframe\">\n",
              "  <thead>\n",
              "    <tr style=\"text-align: right;\">\n",
              "      <th></th>\n",
              "      <th>code</th>\n",
              "      <th>grade</th>\n",
              "    </tr>\n",
              "  </thead>\n",
              "  <tbody>\n",
              "    <tr>\n",
              "      <th>0</th>\n",
              "      <td>6a2003ad-a05a-41c9-9d48-e98491a90499</td>\n",
              "      <td>90.0</td>\n",
              "    </tr>\n",
              "    <tr>\n",
              "      <th>1</th>\n",
              "      <td>04f91058-d0f8-4324-83b2-19c671f433dc</td>\n",
              "      <td>97.0</td>\n",
              "    </tr>\n",
              "    <tr>\n",
              "      <th>2</th>\n",
              "      <td>81fdeb2a-e7e5-4a05-8058-d31ea579b0d9</td>\n",
              "      <td>94.0</td>\n",
              "    </tr>\n",
              "    <tr>\n",
              "      <th>3</th>\n",
              "      <td>6a903495-c5be-4263-b4dd-75e2bbc30434</td>\n",
              "      <td>97.0</td>\n",
              "    </tr>\n",
              "    <tr>\n",
              "      <th>4</th>\n",
              "      <td>6d5742c1-77c4-429c-8f6e-ef1262ca5557</td>\n",
              "      <td>93.0</td>\n",
              "    </tr>\n",
              "  </tbody>\n",
              "</table>\n",
              "</div>"
            ],
            "text/plain": [
              "                                   code  grade\n",
              "0  6a2003ad-a05a-41c9-9d48-e98491a90499   90.0\n",
              "1  04f91058-d0f8-4324-83b2-19c671f433dc   97.0\n",
              "2  81fdeb2a-e7e5-4a05-8058-d31ea579b0d9   94.0\n",
              "3  6a903495-c5be-4263-b4dd-75e2bbc30434   97.0\n",
              "4  6d5742c1-77c4-429c-8f6e-ef1262ca5557   93.0"
            ]
          },
          "execution_count": 57,
          "metadata": {},
          "output_type": "execute_result"
        }
      ],
      "source": [
        "# reading the scores\n",
        "scores = pd.read_csv(\"./project-material/scores.csv\", sep=\",\")\n",
        "scores[\"code\"] = scores[\"code\"].apply(lambda x: x.strip())\n",
        "\n",
        "# selecting the columns we need and we care\n",
        "scores = scores[[\"code\", \"grade\"]]\n",
        "\n",
        "# show some examples\n",
        "scores.head()"
      ]
    },
    {
      "cell_type": "code",
      "execution_count": 58,
      "metadata": {
        "colab": {
          "base_uri": "https://localhost:8080/",
          "height": 452
        },
        "id": "bp-bJzoHXJK8",
        "outputId": "1088145c-f620-4de9-89ec-c000ef7f34e5"
      },
      "outputs": [
        {
          "data": {
            "image/png": "[encoded data removed]",
            "text/plain": [
              "<Figure size 640x480 with 1 Axes>"
            ]
          },
          "metadata": {},
          "output_type": "display_data"
        }
      ],
      "source": [
        "# Let's check grades distribution\n",
        "\n",
        "plt.title('Histogram Grades')\n",
        "plt.hist(scores[\"grade\"], rwidth=.8, bins=np.arange(min(scores[\"grade\"]), max(scores[\"grade\"])+2) - 0.5)\n",
        "plt.ylabel('Count')\n",
        "plt.show()"
      ]
    },
    {
      "cell_type": "code",
      "execution_count": 59,
      "metadata": {
        "colab": {
          "base_uri": "https://localhost:8080/",
          "height": 487
        },
        "id": "aqg-th0NXJK8",
        "outputId": "f4ee056a-17cc-4e70-c048-b92914b29149"
      },
      "outputs": [
        {
          "data": {
            "text/html": [
              "<div>\n",
              "<style scoped>\n",
              "    .dataframe tbody tr th:only-of-type {\n",
              "        vertical-align: middle;\n",
              "    }\n",
              "\n",
              "    .dataframe tbody tr th {\n",
              "        vertical-align: top;\n",
              "    }\n",
              "\n",
              "    .dataframe thead th {\n",
              "        text-align: right;\n",
              "    }\n",
              "</style>\n",
              "<table border=\"1\" class=\"dataframe\">\n",
              "  <thead>\n",
              "    <tr style=\"text-align: right;\">\n",
              "      <th></th>\n",
              "      <th>code</th>\n",
              "      <th>#user_prompts</th>\n",
              "      <th>#error</th>\n",
              "      <th>#no</th>\n",
              "      <th>#thank</th>\n",
              "      <th>#next</th>\n",
              "      <th>#entropy</th>\n",
              "      <th>#apologize</th>\n",
              "      <th>#see</th>\n",
              "      <th>prompt_avg_chars</th>\n",
              "      <th>response_avg_chars</th>\n",
              "    </tr>\n",
              "  </thead>\n",
              "  <tbody>\n",
              "    <tr>\n",
              "      <th>0</th>\n",
              "      <td>0031c86e-81f4-4eef-9e0e-28037abf9883</td>\n",
              "      <td>14.0</td>\n",
              "      <td>3.0</td>\n",
              "      <td>1.0</td>\n",
              "      <td>0.0</td>\n",
              "      <td>0.0</td>\n",
              "      <td>0.0</td>\n",
              "      <td>0.0</td>\n",
              "      <td>0.0</td>\n",
              "      <td>407.214286</td>\n",
              "      <td>2218.500000</td>\n",
              "    </tr>\n",
              "    <tr>\n",
              "      <th>1</th>\n",
              "      <td>0225686d-b825-4cac-8691-3a3a5343df2b</td>\n",
              "      <td>18.0</td>\n",
              "      <td>0.0</td>\n",
              "      <td>0.0</td>\n",
              "      <td>0.0</td>\n",
              "      <td>0.0</td>\n",
              "      <td>3.0</td>\n",
              "      <td>0.0</td>\n",
              "      <td>0.0</td>\n",
              "      <td>261.111111</td>\n",
              "      <td>1653.111111</td>\n",
              "    </tr>\n",
              "    <tr>\n",
              "      <th>2</th>\n",
              "      <td>041f950b-c013-409a-a642-cffff60b9d4b</td>\n",
              "      <td>9.0</td>\n",
              "      <td>3.0</td>\n",
              "      <td>0.0</td>\n",
              "      <td>1.0</td>\n",
              "      <td>0.0</td>\n",
              "      <td>3.0</td>\n",
              "      <td>0.0</td>\n",
              "      <td>0.0</td>\n",
              "      <td>663.000000</td>\n",
              "      <td>1636.222222</td>\n",
              "    </tr>\n",
              "    <tr>\n",
              "      <th>3</th>\n",
              "      <td>04f91058-d0f8-4324-83b2-19c671f433dc</td>\n",
              "      <td>20.0</td>\n",
              "      <td>1.0</td>\n",
              "      <td>1.0</td>\n",
              "      <td>0.0</td>\n",
              "      <td>0.0</td>\n",
              "      <td>3.0</td>\n",
              "      <td>0.0</td>\n",
              "      <td>1.0</td>\n",
              "      <td>114.100000</td>\n",
              "      <td>1749.900000</td>\n",
              "    </tr>\n",
              "    <tr>\n",
              "      <th>4</th>\n",
              "      <td>089eb66d-4c3a-4f58-b98f-a3774a2efb34</td>\n",
              "      <td>86.0</td>\n",
              "      <td>1.0</td>\n",
              "      <td>5.0</td>\n",
              "      <td>0.0</td>\n",
              "      <td>0.0</td>\n",
              "      <td>26.0</td>\n",
              "      <td>0.0</td>\n",
              "      <td>3.0</td>\n",
              "      <td>217.081395</td>\n",
              "      <td>1455.441860</td>\n",
              "    </tr>\n",
              "  </tbody>\n",
              "</table>\n",
              "</div>"
            ],
            "text/plain": [
              "                                   code  #user_prompts  #error  #no  #thank  \\\n",
              "0  0031c86e-81f4-4eef-9e0e-28037abf9883           14.0     3.0  1.0     0.0   \n",
              "1  0225686d-b825-4cac-8691-3a3a5343df2b           18.0     0.0  0.0     0.0   \n",
              "2  041f950b-c013-409a-a642-cffff60b9d4b            9.0     3.0  0.0     1.0   \n",
              "3  04f91058-d0f8-4324-83b2-19c671f433dc           20.0     1.0  1.0     0.0   \n",
              "4  089eb66d-4c3a-4f58-b98f-a3774a2efb34           86.0     1.0  5.0     0.0   \n",
              "\n",
              "   #next  #entropy  #apologize  #see  prompt_avg_chars  response_avg_chars  \n",
              "0    0.0       0.0         0.0   0.0        407.214286         2218.500000  \n",
              "1    0.0       3.0         0.0   0.0        261.111111         1653.111111  \n",
              "2    0.0       3.0         0.0   0.0        663.000000         1636.222222  \n",
              "3    0.0       3.0         0.0   1.0        114.100000         1749.900000  \n",
              "4    0.0      26.0         0.0   3.0        217.081395         1455.441860  "
            ]
          },
          "execution_count": 59,
          "metadata": {},
          "output_type": "execute_result"
        }
      ],
      "source": [
        "df.reset_index(inplace=True, drop=False)\n",
        "df.rename(columns={\"index\": \"code\"}, inplace=True)\n",
        "df.head()"
      ]
    },
    {
      "cell_type": "code",
      "execution_count": 157,
      "metadata": {
        "colab": {
          "base_uri": "https://localhost:8080/",
          "height": 487
        },
        "id": "kh28QER-XJK8",
        "outputId": "272ef4f6-1a30-4bfd-ac29-5ae91bccb61e"
      },
      "outputs": [
        {
          "data": {
            "text/html": [
              "<div>\n",
              "<style scoped>\n",
              "    .dataframe tbody tr th:only-of-type {\n",
              "        vertical-align: middle;\n",
              "    }\n",
              "\n",
              "    .dataframe tbody tr th {\n",
              "        vertical-align: top;\n",
              "    }\n",
              "\n",
              "    .dataframe thead th {\n",
              "        text-align: right;\n",
              "    }\n",
              "</style>\n",
              "<table border=\"1\" class=\"dataframe\">\n",
              "  <thead>\n",
              "    <tr style=\"text-align: right;\">\n",
              "      <th></th>\n",
              "      <th>code</th>\n",
              "      <th>#user_prompts</th>\n",
              "      <th>#error</th>\n",
              "      <th>#no</th>\n",
              "      <th>#thank</th>\n",
              "      <th>#next</th>\n",
              "      <th>#entropy</th>\n",
              "      <th>#apologize</th>\n",
              "      <th>#see</th>\n",
              "      <th>prompt_avg_chars</th>\n",
              "      <th>...</th>\n",
              "      <th>Q_8</th>\n",
              "      <th>Q_0_#code_lines</th>\n",
              "      <th>Q_1_#code_lines</th>\n",
              "      <th>Q_2_#code_lines</th>\n",
              "      <th>Q_3_#code_lines</th>\n",
              "      <th>Q_4_#code_lines</th>\n",
              "      <th>Q_5_#code_lines</th>\n",
              "      <th>Q_6_#code_lines</th>\n",
              "      <th>Q_7_#code_lines</th>\n",
              "      <th>Q_8_#code_lines</th>\n",
              "    </tr>\n",
              "  </thead>\n",
              "  <tbody>\n",
              "    <tr>\n",
              "      <th>0</th>\n",
              "      <td>0031c86e-81f4-4eef-9e0e-28037abf9883</td>\n",
              "      <td>14.0</td>\n",
              "      <td>3.0</td>\n",
              "      <td>1.0</td>\n",
              "      <td>0.0</td>\n",
              "      <td>0.0</td>\n",
              "      <td>0.0</td>\n",
              "      <td>0.0</td>\n",
              "      <td>0.0</td>\n",
              "      <td>407.214286</td>\n",
              "      <td>...</td>\n",
              "      <td>0.195440</td>\n",
              "      <td>24</td>\n",
              "      <td>11</td>\n",
              "      <td>76</td>\n",
              "      <td>78</td>\n",
              "      <td>173</td>\n",
              "      <td>36</td>\n",
              "      <td>0</td>\n",
              "      <td>0</td>\n",
              "      <td>0</td>\n",
              "    </tr>\n",
              "    <tr>\n",
              "      <th>1</th>\n",
              "      <td>0225686d-b825-4cac-8691-3a3a5343df2b</td>\n",
              "      <td>18.0</td>\n",
              "      <td>0.0</td>\n",
              "      <td>0.0</td>\n",
              "      <td>0.0</td>\n",
              "      <td>0.0</td>\n",
              "      <td>3.0</td>\n",
              "      <td>0.0</td>\n",
              "      <td>0.0</td>\n",
              "      <td>261.111111</td>\n",
              "      <td>...</td>\n",
              "      <td>0.543866</td>\n",
              "      <td>0</td>\n",
              "      <td>11</td>\n",
              "      <td>71</td>\n",
              "      <td>19</td>\n",
              "      <td>59</td>\n",
              "      <td>59</td>\n",
              "      <td>13</td>\n",
              "      <td>32</td>\n",
              "      <td>46</td>\n",
              "    </tr>\n",
              "    <tr>\n",
              "      <th>2</th>\n",
              "      <td>041f950b-c013-409a-a642-cffff60b9d4b</td>\n",
              "      <td>9.0</td>\n",
              "      <td>3.0</td>\n",
              "      <td>0.0</td>\n",
              "      <td>1.0</td>\n",
              "      <td>0.0</td>\n",
              "      <td>3.0</td>\n",
              "      <td>0.0</td>\n",
              "      <td>0.0</td>\n",
              "      <td>663.000000</td>\n",
              "      <td>...</td>\n",
              "      <td>0.325793</td>\n",
              "      <td>0</td>\n",
              "      <td>0</td>\n",
              "      <td>132</td>\n",
              "      <td>67</td>\n",
              "      <td>0</td>\n",
              "      <td>0</td>\n",
              "      <td>29</td>\n",
              "      <td>16</td>\n",
              "      <td>0</td>\n",
              "    </tr>\n",
              "    <tr>\n",
              "      <th>3</th>\n",
              "      <td>04f91058-d0f8-4324-83b2-19c671f433dc</td>\n",
              "      <td>20.0</td>\n",
              "      <td>1.0</td>\n",
              "      <td>1.0</td>\n",
              "      <td>0.0</td>\n",
              "      <td>0.0</td>\n",
              "      <td>3.0</td>\n",
              "      <td>0.0</td>\n",
              "      <td>1.0</td>\n",
              "      <td>114.100000</td>\n",
              "      <td>...</td>\n",
              "      <td>0.407106</td>\n",
              "      <td>0</td>\n",
              "      <td>0</td>\n",
              "      <td>125</td>\n",
              "      <td>58</td>\n",
              "      <td>132</td>\n",
              "      <td>43</td>\n",
              "      <td>18</td>\n",
              "      <td>37</td>\n",
              "      <td>37</td>\n",
              "    </tr>\n",
              "    <tr>\n",
              "      <th>4</th>\n",
              "      <td>089eb66d-4c3a-4f58-b98f-a3774a2efb34</td>\n",
              "      <td>86.0</td>\n",
              "      <td>1.0</td>\n",
              "      <td>5.0</td>\n",
              "      <td>0.0</td>\n",
              "      <td>0.0</td>\n",
              "      <td>26.0</td>\n",
              "      <td>0.0</td>\n",
              "      <td>3.0</td>\n",
              "      <td>217.081395</td>\n",
              "      <td>...</td>\n",
              "      <td>0.511769</td>\n",
              "      <td>137</td>\n",
              "      <td>7</td>\n",
              "      <td>277</td>\n",
              "      <td>334</td>\n",
              "      <td>210</td>\n",
              "      <td>136</td>\n",
              "      <td>163</td>\n",
              "      <td>84</td>\n",
              "      <td>202</td>\n",
              "    </tr>\n",
              "  </tbody>\n",
              "</table>\n",
              "<p>5 rows × 29 columns</p>\n",
              "</div>"
            ],
            "text/plain": [
              "                                   code  #user_prompts  #error  #no  #thank  \\\n",
              "0  0031c86e-81f4-4eef-9e0e-28037abf9883           14.0     3.0  1.0     0.0   \n",
              "1  0225686d-b825-4cac-8691-3a3a5343df2b           18.0     0.0  0.0     0.0   \n",
              "2  041f950b-c013-409a-a642-cffff60b9d4b            9.0     3.0  0.0     1.0   \n",
              "3  04f91058-d0f8-4324-83b2-19c671f433dc           20.0     1.0  1.0     0.0   \n",
              "4  089eb66d-4c3a-4f58-b98f-a3774a2efb34           86.0     1.0  5.0     0.0   \n",
              "\n",
              "   #next  #entropy  #apologize  #see  prompt_avg_chars  ...       Q_8  \\\n",
              "0    0.0       0.0         0.0   0.0        407.214286  ...  0.195440   \n",
              "1    0.0       3.0         0.0   0.0        261.111111  ...  0.543866   \n",
              "2    0.0       3.0         0.0   0.0        663.000000  ...  0.325793   \n",
              "3    0.0       3.0         0.0   1.0        114.100000  ...  0.407106   \n",
              "4    0.0      26.0         0.0   3.0        217.081395  ...  0.511769   \n",
              "\n",
              "   Q_0_#code_lines  Q_1_#code_lines  Q_2_#code_lines  Q_3_#code_lines  \\\n",
              "0               24               11               76               78   \n",
              "1                0               11               71               19   \n",
              "2                0                0              132               67   \n",
              "3                0                0              125               58   \n",
              "4              137                7              277              334   \n",
              "\n",
              "   Q_4_#code_lines  Q_5_#code_lines  Q_6_#code_lines  Q_7_#code_lines  \\\n",
              "0              173               36                0                0   \n",
              "1               59               59               13               32   \n",
              "2                0                0               29               16   \n",
              "3              132               43               18               37   \n",
              "4              210              136              163               84   \n",
              "\n",
              "   Q_8_#code_lines  \n",
              "0                0  \n",
              "1               46  \n",
              "2                0  \n",
              "3               37  \n",
              "4              202  \n",
              "\n",
              "[5 rows x 29 columns]"
            ]
          },
          "execution_count": 157,
          "metadata": {},
          "output_type": "execute_result"
        }
      ],
      "source": [
        "merged_df = pd.merge(df, question_mapping_scores, on=\"code\", how=\"left\")\n",
        "merged_df = pd.merge(merged_df, code_lines_df, on=\"code\", how=\"left\")\n",
        "\n",
        "merged_df.head()"
      ]
    },
    {
      "cell_type": "markdown",
      "metadata": {
        "id": "cZtaXpnbXJK8"
      },
      "source": [
        "#### Merging scores with features"
      ]
    },
    {
      "cell_type": "code",
      "execution_count": 158,
      "metadata": {
        "colab": {
          "base_uri": "https://localhost:8080/",
          "height": 516
        },
        "id": "RIfPAG6BXJK8",
        "outputId": "25e36e7c-a822-4988-acfe-38412e0c4a3f"
      },
      "outputs": [
        {
          "data": {
            "text/html": [
              "<div>\n",
              "<style scoped>\n",
              "    .dataframe tbody tr th:only-of-type {\n",
              "        vertical-align: middle;\n",
              "    }\n",
              "\n",
              "    .dataframe tbody tr th {\n",
              "        vertical-align: top;\n",
              "    }\n",
              "\n",
              "    .dataframe thead th {\n",
              "        text-align: right;\n",
              "    }\n",
              "</style>\n",
              "<table border=\"1\" class=\"dataframe\">\n",
              "  <thead>\n",
              "    <tr style=\"text-align: right;\">\n",
              "      <th></th>\n",
              "      <th>code</th>\n",
              "      <th>#user_prompts</th>\n",
              "      <th>#error</th>\n",
              "      <th>#no</th>\n",
              "      <th>#thank</th>\n",
              "      <th>#next</th>\n",
              "      <th>#entropy</th>\n",
              "      <th>#apologize</th>\n",
              "      <th>#see</th>\n",
              "      <th>prompt_avg_chars</th>\n",
              "      <th>...</th>\n",
              "      <th>Q_0_#code_lines</th>\n",
              "      <th>Q_1_#code_lines</th>\n",
              "      <th>Q_2_#code_lines</th>\n",
              "      <th>Q_3_#code_lines</th>\n",
              "      <th>Q_4_#code_lines</th>\n",
              "      <th>Q_5_#code_lines</th>\n",
              "      <th>Q_6_#code_lines</th>\n",
              "      <th>Q_7_#code_lines</th>\n",
              "      <th>Q_8_#code_lines</th>\n",
              "      <th>grade</th>\n",
              "    </tr>\n",
              "  </thead>\n",
              "  <tbody>\n",
              "    <tr>\n",
              "      <th>0</th>\n",
              "      <td>0031c86e-81f4-4eef-9e0e-28037abf9883</td>\n",
              "      <td>14.0</td>\n",
              "      <td>3.0</td>\n",
              "      <td>1.0</td>\n",
              "      <td>0.0</td>\n",
              "      <td>0.0</td>\n",
              "      <td>0.0</td>\n",
              "      <td>0.0</td>\n",
              "      <td>0.0</td>\n",
              "      <td>407.214286</td>\n",
              "      <td>...</td>\n",
              "      <td>24</td>\n",
              "      <td>11</td>\n",
              "      <td>76</td>\n",
              "      <td>78</td>\n",
              "      <td>173</td>\n",
              "      <td>36</td>\n",
              "      <td>0</td>\n",
              "      <td>0</td>\n",
              "      <td>0</td>\n",
              "      <td>48.0</td>\n",
              "    </tr>\n",
              "    <tr>\n",
              "      <th>1</th>\n",
              "      <td>0225686d-b825-4cac-8691-3a3a5343df2b</td>\n",
              "      <td>18.0</td>\n",
              "      <td>0.0</td>\n",
              "      <td>0.0</td>\n",
              "      <td>0.0</td>\n",
              "      <td>0.0</td>\n",
              "      <td>3.0</td>\n",
              "      <td>0.0</td>\n",
              "      <td>0.0</td>\n",
              "      <td>261.111111</td>\n",
              "      <td>...</td>\n",
              "      <td>0</td>\n",
              "      <td>11</td>\n",
              "      <td>71</td>\n",
              "      <td>19</td>\n",
              "      <td>59</td>\n",
              "      <td>59</td>\n",
              "      <td>13</td>\n",
              "      <td>32</td>\n",
              "      <td>46</td>\n",
              "      <td>99.0</td>\n",
              "    </tr>\n",
              "    <tr>\n",
              "      <th>2</th>\n",
              "      <td>041f950b-c013-409a-a642-cffff60b9d4b</td>\n",
              "      <td>9.0</td>\n",
              "      <td>3.0</td>\n",
              "      <td>0.0</td>\n",
              "      <td>1.0</td>\n",
              "      <td>0.0</td>\n",
              "      <td>3.0</td>\n",
              "      <td>0.0</td>\n",
              "      <td>0.0</td>\n",
              "      <td>663.000000</td>\n",
              "      <td>...</td>\n",
              "      <td>0</td>\n",
              "      <td>0</td>\n",
              "      <td>132</td>\n",
              "      <td>67</td>\n",
              "      <td>0</td>\n",
              "      <td>0</td>\n",
              "      <td>29</td>\n",
              "      <td>16</td>\n",
              "      <td>0</td>\n",
              "      <td>90.0</td>\n",
              "    </tr>\n",
              "    <tr>\n",
              "      <th>3</th>\n",
              "      <td>04f91058-d0f8-4324-83b2-19c671f433dc</td>\n",
              "      <td>20.0</td>\n",
              "      <td>1.0</td>\n",
              "      <td>1.0</td>\n",
              "      <td>0.0</td>\n",
              "      <td>0.0</td>\n",
              "      <td>3.0</td>\n",
              "      <td>0.0</td>\n",
              "      <td>1.0</td>\n",
              "      <td>114.100000</td>\n",
              "      <td>...</td>\n",
              "      <td>0</td>\n",
              "      <td>0</td>\n",
              "      <td>125</td>\n",
              "      <td>58</td>\n",
              "      <td>132</td>\n",
              "      <td>43</td>\n",
              "      <td>18</td>\n",
              "      <td>37</td>\n",
              "      <td>37</td>\n",
              "      <td>97.0</td>\n",
              "    </tr>\n",
              "    <tr>\n",
              "      <th>4</th>\n",
              "      <td>089eb66d-4c3a-4f58-b98f-a3774a2efb34</td>\n",
              "      <td>86.0</td>\n",
              "      <td>1.0</td>\n",
              "      <td>5.0</td>\n",
              "      <td>0.0</td>\n",
              "      <td>0.0</td>\n",
              "      <td>26.0</td>\n",
              "      <td>0.0</td>\n",
              "      <td>3.0</td>\n",
              "      <td>217.081395</td>\n",
              "      <td>...</td>\n",
              "      <td>137</td>\n",
              "      <td>7</td>\n",
              "      <td>277</td>\n",
              "      <td>334</td>\n",
              "      <td>210</td>\n",
              "      <td>136</td>\n",
              "      <td>163</td>\n",
              "      <td>84</td>\n",
              "      <td>202</td>\n",
              "      <td>100.0</td>\n",
              "    </tr>\n",
              "  </tbody>\n",
              "</table>\n",
              "<p>5 rows × 30 columns</p>\n",
              "</div>"
            ],
            "text/plain": [
              "                                   code  #user_prompts  #error  #no  #thank  \\\n",
              "0  0031c86e-81f4-4eef-9e0e-28037abf9883           14.0     3.0  1.0     0.0   \n",
              "1  0225686d-b825-4cac-8691-3a3a5343df2b           18.0     0.0  0.0     0.0   \n",
              "2  041f950b-c013-409a-a642-cffff60b9d4b            9.0     3.0  0.0     1.0   \n",
              "3  04f91058-d0f8-4324-83b2-19c671f433dc           20.0     1.0  1.0     0.0   \n",
              "4  089eb66d-4c3a-4f58-b98f-a3774a2efb34           86.0     1.0  5.0     0.0   \n",
              "\n",
              "   #next  #entropy  #apologize  #see  prompt_avg_chars  ...  Q_0_#code_lines  \\\n",
              "0    0.0       0.0         0.0   0.0        407.214286  ...               24   \n",
              "1    0.0       3.0         0.0   0.0        261.111111  ...                0   \n",
              "2    0.0       3.0         0.0   0.0        663.000000  ...                0   \n",
              "3    0.0       3.0         0.0   1.0        114.100000  ...                0   \n",
              "4    0.0      26.0         0.0   3.0        217.081395  ...              137   \n",
              "\n",
              "   Q_1_#code_lines  Q_2_#code_lines  Q_3_#code_lines  Q_4_#code_lines  \\\n",
              "0               11               76               78              173   \n",
              "1               11               71               19               59   \n",
              "2                0              132               67                0   \n",
              "3                0              125               58              132   \n",
              "4                7              277              334              210   \n",
              "\n",
              "   Q_5_#code_lines  Q_6_#code_lines  Q_7_#code_lines  Q_8_#code_lines  grade  \n",
              "0               36                0                0                0   48.0  \n",
              "1               59               13               32               46   99.0  \n",
              "2                0               29               16                0   90.0  \n",
              "3               43               18               37               37   97.0  \n",
              "4              136              163               84              202  100.0  \n",
              "\n",
              "[5 rows x 30 columns]"
            ]
          },
          "execution_count": 158,
          "metadata": {},
          "output_type": "execute_result"
        }
      ],
      "source": [
        "temp_df = pd.merge(merged_df, scores, on='code', how=\"left\")\n",
        "temp_df.dropna(inplace=True)\n",
        "temp_df.drop_duplicates(\"code\",inplace=True, keep=\"first\")\n",
        "temp_df.head()"
      ]
    },
    {
      "cell_type": "markdown",
      "metadata": {
        "id": "Ma80FZjRs4LP"
      },
      "source": [
        "# 3. Model Training"
      ]
    },
    {
      "cell_type": "code",
      "execution_count": 84,
      "metadata": {},
      "outputs": [],
      "source": [
        "from sklearn.ensemble import RandomForestRegressor"
      ]
    },
    {
      "cell_type": "code",
      "execution_count": 172,
      "metadata": {
        "colab": {
          "base_uri": "https://localhost:8080/"
        },
        "id": "1XW8oUGyXJK9",
        "outputId": "81c10ad0-b15a-404a-d55e-927650ae3a39"
      },
      "outputs": [
        {
          "name": "stdout",
          "output_type": "stream",
          "text": [
            "(122, 28) (122,)\n"
          ]
        }
      ],
      "source": [
        "X = temp_df[temp_df.columns[1:-1]].to_numpy()\n",
        "y = temp_df[\"grade\"].to_numpy()\n",
        "print(X.shape, y.shape)"
      ]
    },
    {
      "cell_type": "markdown",
      "metadata": {
        "id": "kT6zVUpeXJK9"
      },
      "source": [
        "#### Train/Test split"
      ]
    },
    {
      "cell_type": "code",
      "execution_count": 160,
      "metadata": {
        "colab": {
          "base_uri": "https://localhost:8080/"
        },
        "id": "DyhZKGfRXJK9",
        "outputId": "1c9c25cc-76c9-44aa-c6c1-6a2762d676b7"
      },
      "outputs": [
        {
          "name": "stdout",
          "output_type": "stream",
          "text": [
            "Train set size: 97\n",
            "Test set size: 25\n"
          ]
        }
      ],
      "source": [
        "X_train, X_test, y_train, y_test = train_test_split(X, y, test_size=0.2, random_state=42)\n",
        "print(\"Train set size:\", len(X_train))\n",
        "print(\"Test set size:\", len(X_test))"
      ]
    },
    {
      "cell_type": "markdown",
      "metadata": {
        "id": "iVXLncnOXJK9"
      },
      "source": [
        "#### Fitting a model"
      ]
    },
    {
      "cell_type": "code",
      "execution_count": 281,
      "metadata": {
        "colab": {
          "base_uri": "https://localhost:8080/",
          "height": 75
        },
        "id": "micl5EZmXJK9",
        "outputId": "c2795cac-5763-4549-d15d-3005991414df"
      },
      "outputs": [
        {
          "data": {
            "text/html": [
              "<style>#sk-container-id-41 {color: black;background-color: white;}#sk-container-id-41 pre{padding: 0;}#sk-container-id-41 div.sk-toggleable {background-color: white;}#sk-container-id-41 label.sk-toggleable__label {cursor: pointer;display: block;width: 100%;margin-bottom: 0;padding: 0.3em;box-sizing: border-box;text-align: center;}#sk-container-id-41 label.sk-toggleable__label-arrow:before {content: \"▸\";float: left;margin-right: 0.25em;color: #696969;}#sk-container-id-41 label.sk-toggleable__label-arrow:hover:before {color: black;}#sk-container-id-41 div.sk-estimator:hover label.sk-toggleable__label-arrow:before {color: black;}#sk-container-id-41 div.sk-toggleable__content {max-height: 0;max-width: 0;overflow: hidden;text-align: left;background-color: #f0f8ff;}#sk-container-id-41 div.sk-toggleable__content pre {margin: 0.2em;color: black;border-radius: 0.25em;background-color: #f0f8ff;}#sk-container-id-41 input.sk-toggleable__control:checked~div.sk-toggleable__content {max-height: 200px;max-width: 100%;overflow: auto;}#sk-container-id-41 input.sk-toggleable__control:checked~label.sk-toggleable__label-arrow:before {content: \"▾\";}#sk-container-id-41 div.sk-estimator input.sk-toggleable__control:checked~label.sk-toggleable__label {background-color: #d4ebff;}#sk-container-id-41 div.sk-label input.sk-toggleable__control:checked~label.sk-toggleable__label {background-color: #d4ebff;}#sk-container-id-41 input.sk-hidden--visually {border: 0;clip: rect(1px 1px 1px 1px);clip: rect(1px, 1px, 1px, 1px);height: 1px;margin: -1px;overflow: hidden;padding: 0;position: absolute;width: 1px;}#sk-container-id-41 div.sk-estimator {font-family: monospace;background-color: #f0f8ff;border: 1px dotted black;border-radius: 0.25em;box-sizing: border-box;margin-bottom: 0.5em;}#sk-container-id-41 div.sk-estimator:hover {background-color: #d4ebff;}#sk-container-id-41 div.sk-parallel-item::after {content: \"\";width: 100%;border-bottom: 1px solid gray;flex-grow: 1;}#sk-container-id-41 div.sk-label:hover label.sk-toggleable__label {background-color: #d4ebff;}#sk-container-id-41 div.sk-serial::before {content: \"\";position: absolute;border-left: 1px solid gray;box-sizing: border-box;top: 0;bottom: 0;left: 50%;z-index: 0;}#sk-container-id-41 div.sk-serial {display: flex;flex-direction: column;align-items: center;background-color: white;padding-right: 0.2em;padding-left: 0.2em;position: relative;}#sk-container-id-41 div.sk-item {position: relative;z-index: 1;}#sk-container-id-41 div.sk-parallel {display: flex;align-items: stretch;justify-content: center;background-color: white;position: relative;}#sk-container-id-41 div.sk-item::before, #sk-container-id-41 div.sk-parallel-item::before {content: \"\";position: absolute;border-left: 1px solid gray;box-sizing: border-box;top: 0;bottom: 0;left: 50%;z-index: -1;}#sk-container-id-41 div.sk-parallel-item {display: flex;flex-direction: column;z-index: 1;position: relative;background-color: white;}#sk-container-id-41 div.sk-parallel-item:first-child::after {align-self: flex-end;width: 50%;}#sk-container-id-41 div.sk-parallel-item:last-child::after {align-self: flex-start;width: 50%;}#sk-container-id-41 div.sk-parallel-item:only-child::after {width: 0;}#sk-container-id-41 div.sk-dashed-wrapped {border: 1px dashed gray;margin: 0 0.4em 0.5em 0.4em;box-sizing: border-box;padding-bottom: 0.4em;background-color: white;}#sk-container-id-41 div.sk-label label {font-family: monospace;font-weight: bold;display: inline-block;line-height: 1.2em;}#sk-container-id-41 div.sk-label-container {text-align: center;}#sk-container-id-41 div.sk-container {/* jupyter's `normalize.less` sets `[hidden] { display: none; }` but bootstrap.min.css set `[hidden] { display: none !important; }` so we also need the `!important` here to be able to override the default hidden behavior on the sphinx rendered scikit-learn.org. See: https://github.com/scikit-learn/scikit-learn/issues/21755 */display: inline-block !important;position: relative;}#sk-container-id-41 div.sk-text-repr-fallback {display: none;}</style><div id=\"sk-container-id-41\" class=\"sk-top-container\"><div class=\"sk-text-repr-fallback\"><pre>DecisionTreeRegressor(max_depth=10, random_state=0)</pre><b>In a Jupyter environment, please rerun this cell to show the HTML representation or trust the notebook. <br />On GitHub, the HTML representation is unable to render, please try loading this page with nbviewer.org.</b></div><div class=\"sk-container\" hidden><div class=\"sk-item\"><div class=\"sk-estimator sk-toggleable\"><input class=\"sk-toggleable__control sk-hidden--visually\" id=\"sk-estimator-id-41\" type=\"checkbox\" checked><label for=\"sk-estimator-id-41\" class=\"sk-toggleable__label sk-toggleable__label-arrow\">DecisionTreeRegressor</label><div class=\"sk-toggleable__content\"><pre>DecisionTreeRegressor(max_depth=10, random_state=0)</pre></div></div></div></div></div>"
            ],
            "text/plain": [
              "DecisionTreeRegressor(max_depth=10, random_state=0)"
            ]
          },
          "execution_count": 281,
          "metadata": {},
          "output_type": "execute_result"
        }
      ],
      "source": [
        "regressor = DecisionTreeRegressor(random_state=0,criterion='squared_error', max_depth=10)\n",
        "regressor.fit(X_train, y_train)"
      ]
    },
    {
      "cell_type": "markdown",
      "metadata": {
        "id": "FaryZpiytCmI"
      },
      "source": [
        "# 4. Model Evaluation"
      ]
    },
    {
      "cell_type": "code",
      "execution_count": 243,
      "metadata": {},
      "outputs": [],
      "source": [
        "from skopt import BayesSearchCV\n",
        "from sklearn.model_selection import GridSearchCV"
      ]
    },
    {
      "cell_type": "markdown",
      "metadata": {},
      "source": [
        "## 4.1. Decision Tree"
      ]
    },
    {
      "cell_type": "code",
      "execution_count": 81,
      "metadata": {
        "colab": {
          "base_uri": "https://localhost:8080/"
        },
        "id": "hYAotwC4XJK9",
        "outputId": "8deed819-e34f-433d-9096-3ad3a4a21713"
      },
      "outputs": [
        {
          "name": "stdout",
          "output_type": "stream",
          "text": [
            "Node 0 has MSE 163.42034222552866\n",
            "Node 1 has MSE 126.39409722222263\n",
            "Node 2 has MSE 64.35004526935154\n",
            "Node 3 has MSE 167.02777777777737\n",
            "Node 4 has MSE 69.76000000000022\n",
            "Node 5 has MSE 2.25\n",
            "Node 6 has MSE 0.0\n",
            "Node 7 has MSE 0.0\n",
            "Node 8 has MSE 43.846153846154266\n",
            "Node 9 has MSE 0.6666666666660603\n",
            "Node 10 has MSE 0.25\n",
            "Node 11 has MSE 0.0\n",
            "Node 12 has MSE 0.22222222222262644\n",
            "Node 13 has MSE 0.0\n",
            "Node 14 has MSE 0.0\n",
            "Node 15 has MSE 0.0\n",
            "Node 16 has MSE 23.551020408162913\n",
            "Node 17 has MSE 4.66666666666697\n",
            "Node 18 has MSE 0.0\n",
            "Node 19 has MSE 0.25\n",
            "Node 20 has MSE 0.0\n",
            "Node 21 has MSE 0.0\n",
            "Node 22 has MSE 6.75\n",
            "Node 23 has MSE 0.0\n",
            "Node 24 has MSE 0.0\n",
            "Node 25 has MSE 98.66666666666697\n",
            "Node 26 has MSE 1.0\n",
            "Node 27 has MSE 0.0\n",
            "Node 28 has MSE 0.0\n",
            "Node 29 has MSE 0.0\n",
            "Node 30 has MSE 27.533240997230678\n",
            "Node 31 has MSE 21.474480151227908\n",
            "Node 32 has MSE 18.909722222224445\n",
            "Node 33 has MSE 5.199999999999818\n",
            "Node 34 has MSE 0.22222222222171695\n",
            "Node 35 has MSE 0.0\n",
            "Node 36 has MSE 0.0\n",
            "Node 37 has MSE 2.25\n",
            "Node 38 has MSE 0.0\n",
            "Node 39 has MSE 0.0\n",
            "Node 40 has MSE 8.285714285713766\n",
            "Node 41 has MSE 0.0\n",
            "Node 42 has MSE 2.6666666666660603\n",
            "Node 43 has MSE 0.5\n",
            "Node 44 has MSE 0.22222222222080745\n",
            "Node 45 has MSE 0.0\n",
            "Node 46 has MSE 0.0\n",
            "Node 47 has MSE 0.0\n",
            "Node 48 has MSE 1.0\n",
            "Node 49 has MSE 0.0\n",
            "Node 50 has MSE 0.0\n",
            "Node 51 has MSE 17.658971991380895\n",
            "Node 52 has MSE 7.361053719007032\n",
            "Node 53 has MSE 4.0\n",
            "Node 54 has MSE 0.0\n",
            "Node 55 has MSE 0.0\n",
            "Node 56 has MSE 6.09807256235581\n",
            "Node 57 has MSE 4.734072022160035\n",
            "Node 58 has MSE 3.6767346938777337\n",
            "Node 59 has MSE 0.2400000000016007\n",
            "Node 60 has MSE 4.0416000000004715\n",
            "Node 61 has MSE 2.888888888888687\n",
            "Node 62 has MSE 0.0\n",
            "Node 63 has MSE 0.25\n",
            "Node 64 has MSE 6.6875\n",
            "Node 65 has MSE 2.25\n",
            "Node 66 has MSE 0.0\n",
            "Node 67 has MSE 0.0\n",
            "Node 68 has MSE 1.0\n",
            "Node 69 has MSE 0.0\n",
            "Node 70 has MSE 0.0\n",
            "Node 71 has MSE 29.20710059171688\n",
            "Node 72 has MSE 15.138888888888687\n",
            "Node 73 has MSE 0.0\n",
            "Node 74 has MSE 3.440000000001419\n",
            "Node 75 has MSE 0.0\n",
            "Node 76 has MSE 0.6875\n",
            "Node 77 has MSE 0.0\n",
            "Node 78 has MSE 0.25\n",
            "Node 79 has MSE 6.40816326530512\n",
            "Node 80 has MSE 0.6875\n",
            "Node 81 has MSE 0.25\n",
            "Node 82 has MSE 0.0\n",
            "Node 83 has MSE 0.0\n",
            "Node 84 has MSE 0.0\n",
            "Node 85 has MSE 0.22222222222262644\n",
            "Node 86 has MSE 0.0\n",
            "Node 87 has MSE 0.0\n",
            "Node 88 has MSE 43.63265306122321\n",
            "Node 89 has MSE 1.7599999999993088\n",
            "Node 90 has MSE 0.0\n",
            "Node 91 has MSE 0.6875\n",
            "Node 92 has MSE 0.25\n",
            "Node 93 has MSE 0.0\n",
            "Node 94 has MSE 0.0\n",
            "Node 95 has MSE 0.0\n",
            "Node 96 has MSE 2.25\n",
            "Node 97 has MSE 0.0\n",
            "Node 98 has MSE 0.0\n",
            "Node 99 has MSE 1806.25\n",
            "Node 100 has MSE 0.0\n",
            "Node 101 has MSE 0.0\n",
            "Node 102 has MSE 0.0\n"
          ]
        }
      ],
      "source": [
        "extracted_MSEs = regressor.tree_.impurity\n",
        "for idx, MSE in enumerate(regressor.tree_.impurity):\n",
        "    print(\"Node {} has MSE {}\".format(idx,MSE))"
      ]
    },
    {
      "cell_type": "code",
      "execution_count": 82,
      "metadata": {
        "colab": {
          "base_uri": "https://localhost:8080/",
          "height": 35
        },
        "id": "RiXKDiPBXJK9",
        "outputId": "9f689a29-ccd2-4036-a4a1-c10d8b2da12c"
      },
      "outputs": [
        {
          "data": {
            "text/plain": [
              "'generated_data/hw.pdf'"
            ]
          },
          "execution_count": 82,
          "metadata": {},
          "output_type": "execute_result"
        }
      ],
      "source": [
        "# Plotting the Tree\n",
        "dot_data = tree.export_graphviz(regressor, out_file=None, feature_names=temp_df.columns[1:-1])\n",
        "graph = graphviz.Source(dot_data)\n",
        "graph.render(\"./generated_data/hw\")"
      ]
    },
    {
      "cell_type": "code",
      "execution_count": 282,
      "metadata": {
        "colab": {
          "base_uri": "https://localhost:8080/"
        },
        "id": "LPC9Bn7tXJK9",
        "outputId": "bde79478-9c4b-4da0-8341-96b4f225c349"
      },
      "outputs": [
        {
          "name": "stdout",
          "output_type": "stream",
          "text": [
            "MSE Train: 2.7960555804571947\n",
            "MSE TEST: 126.67287334593576\n",
            "R2 Train: 0.982890406773237\n",
            "R2 TEST: -0.12833203889647193\n"
          ]
        }
      ],
      "source": [
        "# Prediction\n",
        "y_train_pred = regressor.predict(X_train)\n",
        "y_test_pred = regressor.predict(X_test)\n",
        "\n",
        "# Calculation of Mean Squared Error (MSE)\n",
        "print(\"MSE Train:\", mean_squared_error(y_train,y_train_pred))\n",
        "print(\"MSE TEST:\", mean_squared_error(y_test,y_test_pred))\n",
        "\n",
        "print(\"R2 Train:\", r2_score(y_train,y_train_pred))\n",
        "print(\"R2 TEST:\", r2_score(y_test,y_test_pred))"
      ]
    },
    {
      "cell_type": "code",
      "execution_count": 68,
      "metadata": {
        "colab": {
          "base_uri": "https://localhost:8080/",
          "height": 1000
        },
        "id": "ofYUwWB_cCaY",
        "outputId": "fd4d85cd-71cb-40c1-a945-00459ba358b3"
      },
      "outputs": [
        {
          "data": {
            "image/png": "[encoded data removed]",
            "text/plain": [
              "<Figure size 800x600 with 1 Axes>"
            ]
          },
          "metadata": {},
          "output_type": "display_data"
        },
        {
          "data": {
            "image/png": "[encoded data removed]",
            "text/plain": [
              "<Figure size 800x600 with 1 Axes>"
            ]
          },
          "metadata": {},
          "output_type": "display_data"
        },
        {
          "data": {
            "image/png": "[encoded data removed]",
            "text/plain": [
              "<Figure size 800x600 with 1 Axes>"
            ]
          },
          "metadata": {},
          "output_type": "display_data"
        },
        {
          "data": {
            "image/png": "[encoded data removed]",
            "text/plain": [
              "<Figure size 800x600 with 1 Axes>"
            ]
          },
          "metadata": {},
          "output_type": "display_data"
        }
      ],
      "source": [
        "import matplotlib.pyplot as plt\n",
        "import seaborn as sns\n",
        "import numpy as np\n",
        "import pandas as pd\n",
        "\n",
        "# Scatter plot for Test Data\n",
        "plt.figure(figsize=(8, 6))\n",
        "plt.scatter(y_test, y_test_pred)\n",
        "plt.xlabel('Actual Scores')\n",
        "plt.ylabel('Predicted Scores')\n",
        "plt.title('Actual vs Predicted Scores for Test Data')\n",
        "plt.show()\n",
        "\n",
        "# Scatter plot for Train Data\n",
        "plt.figure(figsize=(8, 6))\n",
        "plt.scatter(y_train, y_train_pred)\n",
        "plt.xlabel('Actual Scores')\n",
        "plt.ylabel('Predicted Scores')\n",
        "plt.title('Actual vs Predicted Scores for Train Data')\n",
        "plt.show()\n",
        "\n",
        "# Residual Plot for Test Data\n",
        "plt.figure(figsize=(8, 6))\n",
        "residuals_test = y_test - y_test_pred\n",
        "plt.scatter(y_test_pred, residuals_test)\n",
        "plt.xlabel('Predicted Scores')\n",
        "plt.ylabel('Residuals')\n",
        "plt.title('Residual Plot for Test Data')\n",
        "plt.axhline(y=0, color='red', linestyle='-')\n",
        "plt.show()\n",
        "\n",
        "# Residual Plot for Train Data\n",
        "plt.figure(figsize=(8, 6))\n",
        "residuals_train = y_train - y_train_pred\n",
        "plt.scatter(y_train_pred, residuals_train)\n",
        "plt.xlabel('Predicted Scores')\n",
        "plt.ylabel('Residuals')\n",
        "plt.title('Residual Plot for Train Data')\n",
        "plt.axhline(y=0, color='red', linestyle='-')\n",
        "plt.show()\n",
        "\n",
        "#Heatmap of Feature Correlations (assuming X_train is a DataFrame)\n",
        "#Heatmap için X_traini DataFrame dönüştürmek lazım yaparız\n"
      ]
    },
    {
      "cell_type": "markdown",
      "metadata": {},
      "source": [
        "## 4.2. Random Forest"
      ]
    },
    {
      "cell_type": "code",
      "execution_count": 268,
      "metadata": {},
      "outputs": [
        {
          "data": {
            "text/html": [
              "<style>#sk-container-id-40 {color: black;background-color: white;}#sk-container-id-40 pre{padding: 0;}#sk-container-id-40 div.sk-toggleable {background-color: white;}#sk-container-id-40 label.sk-toggleable__label {cursor: pointer;display: block;width: 100%;margin-bottom: 0;padding: 0.3em;box-sizing: border-box;text-align: center;}#sk-container-id-40 label.sk-toggleable__label-arrow:before {content: \"▸\";float: left;margin-right: 0.25em;color: #696969;}#sk-container-id-40 label.sk-toggleable__label-arrow:hover:before {color: black;}#sk-container-id-40 div.sk-estimator:hover label.sk-toggleable__label-arrow:before {color: black;}#sk-container-id-40 div.sk-toggleable__content {max-height: 0;max-width: 0;overflow: hidden;text-align: left;background-color: #f0f8ff;}#sk-container-id-40 div.sk-toggleable__content pre {margin: 0.2em;color: black;border-radius: 0.25em;background-color: #f0f8ff;}#sk-container-id-40 input.sk-toggleable__control:checked~div.sk-toggleable__content {max-height: 200px;max-width: 100%;overflow: auto;}#sk-container-id-40 input.sk-toggleable__control:checked~label.sk-toggleable__label-arrow:before {content: \"▾\";}#sk-container-id-40 div.sk-estimator input.sk-toggleable__control:checked~label.sk-toggleable__label {background-color: #d4ebff;}#sk-container-id-40 div.sk-label input.sk-toggleable__control:checked~label.sk-toggleable__label {background-color: #d4ebff;}#sk-container-id-40 input.sk-hidden--visually {border: 0;clip: rect(1px 1px 1px 1px);clip: rect(1px, 1px, 1px, 1px);height: 1px;margin: -1px;overflow: hidden;padding: 0;position: absolute;width: 1px;}#sk-container-id-40 div.sk-estimator {font-family: monospace;background-color: #f0f8ff;border: 1px dotted black;border-radius: 0.25em;box-sizing: border-box;margin-bottom: 0.5em;}#sk-container-id-40 div.sk-estimator:hover {background-color: #d4ebff;}#sk-container-id-40 div.sk-parallel-item::after {content: \"\";width: 100%;border-bottom: 1px solid gray;flex-grow: 1;}#sk-container-id-40 div.sk-label:hover label.sk-toggleable__label {background-color: #d4ebff;}#sk-container-id-40 div.sk-serial::before {content: \"\";position: absolute;border-left: 1px solid gray;box-sizing: border-box;top: 0;bottom: 0;left: 50%;z-index: 0;}#sk-container-id-40 div.sk-serial {display: flex;flex-direction: column;align-items: center;background-color: white;padding-right: 0.2em;padding-left: 0.2em;position: relative;}#sk-container-id-40 div.sk-item {position: relative;z-index: 1;}#sk-container-id-40 div.sk-parallel {display: flex;align-items: stretch;justify-content: center;background-color: white;position: relative;}#sk-container-id-40 div.sk-item::before, #sk-container-id-40 div.sk-parallel-item::before {content: \"\";position: absolute;border-left: 1px solid gray;box-sizing: border-box;top: 0;bottom: 0;left: 50%;z-index: -1;}#sk-container-id-40 div.sk-parallel-item {display: flex;flex-direction: column;z-index: 1;position: relative;background-color: white;}#sk-container-id-40 div.sk-parallel-item:first-child::after {align-self: flex-end;width: 50%;}#sk-container-id-40 div.sk-parallel-item:last-child::after {align-self: flex-start;width: 50%;}#sk-container-id-40 div.sk-parallel-item:only-child::after {width: 0;}#sk-container-id-40 div.sk-dashed-wrapped {border: 1px dashed gray;margin: 0 0.4em 0.5em 0.4em;box-sizing: border-box;padding-bottom: 0.4em;background-color: white;}#sk-container-id-40 div.sk-label label {font-family: monospace;font-weight: bold;display: inline-block;line-height: 1.2em;}#sk-container-id-40 div.sk-label-container {text-align: center;}#sk-container-id-40 div.sk-container {/* jupyter's `normalize.less` sets `[hidden] { display: none; }` but bootstrap.min.css set `[hidden] { display: none !important; }` so we also need the `!important` here to be able to override the default hidden behavior on the sphinx rendered scikit-learn.org. See: https://github.com/scikit-learn/scikit-learn/issues/21755 */display: inline-block !important;position: relative;}#sk-container-id-40 div.sk-text-repr-fallback {display: none;}</style><div id=\"sk-container-id-40\" class=\"sk-top-container\"><div class=\"sk-text-repr-fallback\"><pre>RandomForestRegressor(random_state=42)</pre><b>In a Jupyter environment, please rerun this cell to show the HTML representation or trust the notebook. <br />On GitHub, the HTML representation is unable to render, please try loading this page with nbviewer.org.</b></div><div class=\"sk-container\" hidden><div class=\"sk-item\"><div class=\"sk-estimator sk-toggleable\"><input class=\"sk-toggleable__control sk-hidden--visually\" id=\"sk-estimator-id-40\" type=\"checkbox\" checked><label for=\"sk-estimator-id-40\" class=\"sk-toggleable__label sk-toggleable__label-arrow\">RandomForestRegressor</label><div class=\"sk-toggleable__content\"><pre>RandomForestRegressor(random_state=42)</pre></div></div></div></div></div>"
            ],
            "text/plain": [
              "RandomForestRegressor(random_state=42)"
            ]
          },
          "execution_count": 268,
          "metadata": {},
          "output_type": "execute_result"
        }
      ],
      "source": [
        "rf_regressor = RandomForestRegressor(random_state=42)\n",
        "rf_regressor.fit(X_train, y_train)"
      ]
    },
    {
      "cell_type": "code",
      "execution_count": 269,
      "metadata": {},
      "outputs": [
        {
          "name": "stdout",
          "output_type": "stream",
          "text": [
            "MSE Train: 27.29854432989691\n",
            "MSE TEST: 103.19240399999997\n",
            "R2 Train: 0.8329550412259971\n",
            "R2 TEST: 0.0808190220334637\n"
          ]
        }
      ],
      "source": [
        "# Prediction\n",
        "y_train_pred = rf_regressor.predict(X_train)\n",
        "y_test_pred = rf_regressor.predict(X_test)\n",
        "\n",
        "# Calculation of Mean Squared Error (MSE)\n",
        "print(\"MSE Train:\", mean_squared_error(y_train,y_train_pred))\n",
        "print(\"MSE TEST:\", mean_squared_error(y_test,y_test_pred))\n",
        "\n",
        "print(\"R2 Train:\", r2_score(y_train,y_train_pred))\n",
        "print(\"R2 TEST:\", r2_score(y_test,y_test_pred))"
      ]
    },
    {
      "cell_type": "markdown",
      "metadata": {},
      "source": [
        "### Tune the Model"
      ]
    },
    {
      "cell_type": "markdown",
      "metadata": {},
      "source": [
        "#### 1. Bayesian Search"
      ]
    },
    {
      "cell_type": "code",
      "execution_count": 165,
      "metadata": {},
      "outputs": [
        {
          "name": "stdout",
          "output_type": "stream",
          "text": [
            "Fitting 5 folds for each of 1 candidates, totalling 5 fits\n",
            "[CV] END max_depth=6, max_features=0.5106333354679624, min_samples_leaf=7, min_samples_split=20, n_estimators=155; total time=   0.3s\n",
            "[CV] END max_depth=6, max_features=0.5106333354679624, min_samples_leaf=7, min_samples_split=20, n_estimators=155; total time=   0.3s\n",
            "[CV] END max_depth=6, max_features=0.5106333354679624, min_samples_leaf=7, min_samples_split=20, n_estimators=155; total time=   0.3s\n",
            "[CV] END max_depth=6, max_features=0.5106333354679624, min_samples_leaf=7, min_samples_split=20, n_estimators=155; total time=   0.3s\n",
            "[CV] END max_depth=6, max_features=0.5106333354679624, min_samples_leaf=7, min_samples_split=20, n_estimators=155; total time=   0.2s\n",
            "Fitting 5 folds for each of 1 candidates, totalling 5 fits\n",
            "[CV] END max_depth=2, max_features=0.6264171872401325, min_samples_leaf=5, min_samples_split=3, n_estimators=214; total time=   0.3s\n",
            "[CV] END max_depth=2, max_features=0.6264171872401325, min_samples_leaf=5, min_samples_split=3, n_estimators=214; total time=   0.3s\n",
            "[CV] END max_depth=2, max_features=0.6264171872401325, min_samples_leaf=5, min_samples_split=3, n_estimators=214; total time=   0.3s\n",
            "[CV] END max_depth=2, max_features=0.6264171872401325, min_samples_leaf=5, min_samples_split=3, n_estimators=214; total time=   0.3s\n",
            "[CV] END max_depth=2, max_features=0.6264171872401325, min_samples_leaf=5, min_samples_split=3, n_estimators=214; total time=   0.3s\n",
            "Fitting 5 folds for each of 1 candidates, totalling 5 fits\n",
            "[CV] END max_depth=16, max_features=0.5062726134268937, min_samples_leaf=7, min_samples_split=5, n_estimators=89; total time=   0.1s\n",
            "[CV] END max_depth=16, max_features=0.5062726134268937, min_samples_leaf=7, min_samples_split=5, n_estimators=89; total time=   0.1s\n",
            "[CV] END max_depth=16, max_features=0.5062726134268937, min_samples_leaf=7, min_samples_split=5, n_estimators=89; total time=   0.1s\n",
            "[CV] END max_depth=16, max_features=0.5062726134268937, min_samples_leaf=7, min_samples_split=5, n_estimators=89; total time=   0.1s\n",
            "[CV] END max_depth=16, max_features=0.5062726134268937, min_samples_leaf=7, min_samples_split=5, n_estimators=89; total time=   0.1s\n",
            "Fitting 5 folds for each of 1 candidates, totalling 5 fits\n",
            "[CV] END max_depth=14, max_features=0.6145667963368482, min_samples_leaf=10, min_samples_split=9, n_estimators=166; total time=   0.3s\n",
            "[CV] END max_depth=14, max_features=0.6145667963368482, min_samples_leaf=10, min_samples_split=9, n_estimators=166; total time=   0.3s\n",
            "[CV] END max_depth=14, max_features=0.6145667963368482, min_samples_leaf=10, min_samples_split=9, n_estimators=166; total time=   0.3s\n",
            "[CV] END max_depth=14, max_features=0.6145667963368482, min_samples_leaf=10, min_samples_split=9, n_estimators=166; total time=   0.3s\n",
            "[CV] END max_depth=14, max_features=0.6145667963368482, min_samples_leaf=10, min_samples_split=9, n_estimators=166; total time=   0.3s\n",
            "Fitting 5 folds for each of 1 candidates, totalling 5 fits\n",
            "[CV] END max_depth=5, max_features=0.19975610857489476, min_samples_leaf=5, min_samples_split=16, n_estimators=198; total time=   0.3s\n",
            "[CV] END max_depth=5, max_features=0.19975610857489476, min_samples_leaf=5, min_samples_split=16, n_estimators=198; total time=   0.3s\n",
            "[CV] END max_depth=5, max_features=0.19975610857489476, min_samples_leaf=5, min_samples_split=16, n_estimators=198; total time=   0.3s\n",
            "[CV] END max_depth=5, max_features=0.19975610857489476, min_samples_leaf=5, min_samples_split=16, n_estimators=198; total time=   0.3s\n",
            "[CV] END max_depth=5, max_features=0.19975610857489476, min_samples_leaf=5, min_samples_split=16, n_estimators=198; total time=   0.3s\n",
            "Fitting 5 folds for each of 1 candidates, totalling 5 fits\n",
            "[CV] END max_depth=4, max_features=0.2585456682314432, min_samples_leaf=4, min_samples_split=12, n_estimators=171; total time=   0.3s\n",
            "[CV] END max_depth=4, max_features=0.2585456682314432, min_samples_leaf=4, min_samples_split=12, n_estimators=171; total time=   0.3s\n",
            "[CV] END max_depth=4, max_features=0.2585456682314432, min_samples_leaf=4, min_samples_split=12, n_estimators=171; total time=   0.3s\n",
            "[CV] END max_depth=4, max_features=0.2585456682314432, min_samples_leaf=4, min_samples_split=12, n_estimators=171; total time=   0.3s\n",
            "[CV] END max_depth=4, max_features=0.2585456682314432, min_samples_leaf=4, min_samples_split=12, n_estimators=171; total time=   0.3s\n",
            "Fitting 5 folds for each of 1 candidates, totalling 5 fits\n",
            "[CV] END max_depth=13, max_features=0.15690631210357575, min_samples_leaf=7, min_samples_split=24, n_estimators=62; total time=   0.1s\n",
            "[CV] END max_depth=13, max_features=0.15690631210357575, min_samples_leaf=7, min_samples_split=24, n_estimators=62; total time=   0.1s\n",
            "[CV] END max_depth=13, max_features=0.15690631210357575, min_samples_leaf=7, min_samples_split=24, n_estimators=62; total time=   0.1s\n",
            "[CV] END max_depth=13, max_features=0.15690631210357575, min_samples_leaf=7, min_samples_split=24, n_estimators=62; total time=   0.1s\n",
            "[CV] END max_depth=13, max_features=0.15690631210357575, min_samples_leaf=7, min_samples_split=24, n_estimators=62; total time=   0.1s\n",
            "Fitting 5 folds for each of 1 candidates, totalling 5 fits\n",
            "[CV] END max_depth=14, max_features=0.4796170216315846, min_samples_leaf=9, min_samples_split=11, n_estimators=62; total time=   0.1s\n",
            "[CV] END max_depth=14, max_features=0.4796170216315846, min_samples_leaf=9, min_samples_split=11, n_estimators=62; total time=   0.1s\n",
            "[CV] END max_depth=14, max_features=0.4796170216315846, min_samples_leaf=9, min_samples_split=11, n_estimators=62; total time=   0.1s\n",
            "[CV] END max_depth=14, max_features=0.4796170216315846, min_samples_leaf=9, min_samples_split=11, n_estimators=62; total time=   0.1s\n",
            "[CV] END max_depth=14, max_features=0.4796170216315846, min_samples_leaf=9, min_samples_split=11, n_estimators=62; total time=   0.1s\n",
            "Fitting 5 folds for each of 1 candidates, totalling 5 fits\n",
            "[CV] END max_depth=3, max_features=0.4542585964397353, min_samples_leaf=4, min_samples_split=14, n_estimators=182; total time=   0.3s\n",
            "[CV] END max_depth=3, max_features=0.4542585964397353, min_samples_leaf=4, min_samples_split=14, n_estimators=182; total time=   0.3s\n",
            "[CV] END max_depth=3, max_features=0.4542585964397353, min_samples_leaf=4, min_samples_split=14, n_estimators=182; total time=   0.3s\n",
            "[CV] END max_depth=3, max_features=0.4542585964397353, min_samples_leaf=4, min_samples_split=14, n_estimators=182; total time=   0.3s\n",
            "[CV] END max_depth=3, max_features=0.4542585964397353, min_samples_leaf=4, min_samples_split=14, n_estimators=182; total time=   0.3s\n",
            "Fitting 5 folds for each of 1 candidates, totalling 5 fits\n",
            "[CV] END max_depth=17, max_features=0.2557969198933385, min_samples_leaf=4, min_samples_split=24, n_estimators=208; total time=   0.2s\n",
            "[CV] END max_depth=17, max_features=0.2557969198933385, min_samples_leaf=4, min_samples_split=24, n_estimators=208; total time=   0.2s\n",
            "[CV] END max_depth=17, max_features=0.2557969198933385, min_samples_leaf=4, min_samples_split=24, n_estimators=208; total time=   0.3s\n",
            "[CV] END max_depth=17, max_features=0.2557969198933385, min_samples_leaf=4, min_samples_split=24, n_estimators=208; total time=   0.2s\n",
            "[CV] END max_depth=17, max_features=0.2557969198933385, min_samples_leaf=4, min_samples_split=24, n_estimators=208; total time=   0.2s\n",
            "Fitting 5 folds for each of 1 candidates, totalling 5 fits\n",
            "[CV] END max_depth=3, max_features=0.3399058778886522, min_samples_leaf=10, min_samples_split=25, n_estimators=146; total time=   0.2s\n",
            "[CV] END max_depth=3, max_features=0.3399058778886522, min_samples_leaf=10, min_samples_split=25, n_estimators=146; total time=   0.2s\n",
            "[CV] END max_depth=3, max_features=0.3399058778886522, min_samples_leaf=10, min_samples_split=25, n_estimators=146; total time=   0.2s\n",
            "[CV] END max_depth=3, max_features=0.3399058778886522, min_samples_leaf=10, min_samples_split=25, n_estimators=146; total time=   0.2s\n",
            "[CV] END max_depth=3, max_features=0.3399058778886522, min_samples_leaf=10, min_samples_split=25, n_estimators=146; total time=   0.2s\n",
            "Fitting 5 folds for each of 1 candidates, totalling 5 fits\n",
            "[CV] END max_depth=9, max_features=0.2147522603573913, min_samples_leaf=10, min_samples_split=12, n_estimators=62; total time=   0.1s\n",
            "[CV] END max_depth=9, max_features=0.2147522603573913, min_samples_leaf=10, min_samples_split=12, n_estimators=62; total time=   0.1s\n",
            "[CV] END max_depth=9, max_features=0.2147522603573913, min_samples_leaf=10, min_samples_split=12, n_estimators=62; total time=   0.1s\n",
            "[CV] END max_depth=9, max_features=0.2147522603573913, min_samples_leaf=10, min_samples_split=12, n_estimators=62; total time=   0.1s\n",
            "[CV] END max_depth=9, max_features=0.2147522603573913, min_samples_leaf=10, min_samples_split=12, n_estimators=62; total time=   0.1s\n",
            "Fitting 5 folds for each of 1 candidates, totalling 5 fits\n",
            "[CV] END max_depth=6, max_features=0.1, min_samples_leaf=9, min_samples_split=25, n_estimators=229; total time=   0.3s\n",
            "[CV] END max_depth=6, max_features=0.1, min_samples_leaf=9, min_samples_split=25, n_estimators=229; total time=   0.3s\n",
            "[CV] END max_depth=6, max_features=0.1, min_samples_leaf=9, min_samples_split=25, n_estimators=229; total time=   0.3s\n",
            "[CV] END max_depth=6, max_features=0.1, min_samples_leaf=9, min_samples_split=25, n_estimators=229; total time=   0.3s\n",
            "[CV] END max_depth=6, max_features=0.1, min_samples_leaf=9, min_samples_split=25, n_estimators=229; total time=   0.3s\n",
            "Fitting 5 folds for each of 1 candidates, totalling 5 fits\n",
            "[CV] END max_depth=9, max_features=0.280815137575297, min_samples_leaf=10, min_samples_split=15, n_estimators=68; total time=   0.1s\n",
            "[CV] END max_depth=9, max_features=0.280815137575297, min_samples_leaf=10, min_samples_split=15, n_estimators=68; total time=   0.1s\n",
            "[CV] END max_depth=9, max_features=0.280815137575297, min_samples_leaf=10, min_samples_split=15, n_estimators=68; total time=   0.1s\n",
            "[CV] END max_depth=9, max_features=0.280815137575297, min_samples_leaf=10, min_samples_split=15, n_estimators=68; total time=   0.1s\n",
            "[CV] END max_depth=9, max_features=0.280815137575297, min_samples_leaf=10, min_samples_split=15, n_estimators=68; total time=   0.1s\n",
            "Fitting 5 folds for each of 1 candidates, totalling 5 fits\n",
            "[CV] END max_depth=2, max_features=0.3948805832109298, min_samples_leaf=10, min_samples_split=25, n_estimators=99; total time=   0.1s\n",
            "[CV] END max_depth=2, max_features=0.3948805832109298, min_samples_leaf=10, min_samples_split=25, n_estimators=99; total time=   0.1s\n",
            "[CV] END max_depth=2, max_features=0.3948805832109298, min_samples_leaf=10, min_samples_split=25, n_estimators=99; total time=   0.1s\n",
            "[CV] END max_depth=2, max_features=0.3948805832109298, min_samples_leaf=10, min_samples_split=25, n_estimators=99; total time=   0.1s\n",
            "[CV] END max_depth=2, max_features=0.3948805832109298, min_samples_leaf=10, min_samples_split=25, n_estimators=99; total time=   0.1s\n",
            "Fitting 5 folds for each of 1 candidates, totalling 5 fits\n",
            "[CV] END max_depth=20, max_features=0.44934773322143384, min_samples_leaf=10, min_samples_split=25, n_estimators=250; total time=   0.3s\n",
            "[CV] END max_depth=20, max_features=0.44934773322143384, min_samples_leaf=10, min_samples_split=25, n_estimators=250; total time=   0.3s\n",
            "[CV] END max_depth=20, max_features=0.44934773322143384, min_samples_leaf=10, min_samples_split=25, n_estimators=250; total time=   0.3s\n",
            "[CV] END max_depth=20, max_features=0.44934773322143384, min_samples_leaf=10, min_samples_split=25, n_estimators=250; total time=   0.3s\n",
            "[CV] END max_depth=20, max_features=0.44934773322143384, min_samples_leaf=10, min_samples_split=25, n_estimators=250; total time=   0.3s\n",
            "Fitting 5 folds for each of 1 candidates, totalling 5 fits\n",
            "[CV] END max_depth=1, max_features=0.39869546074821194, min_samples_leaf=10, min_samples_split=2, n_estimators=50; total time=   0.1s\n",
            "[CV] END max_depth=1, max_features=0.39869546074821194, min_samples_leaf=10, min_samples_split=2, n_estimators=50; total time=   0.1s\n",
            "[CV] END max_depth=1, max_features=0.39869546074821194, min_samples_leaf=10, min_samples_split=2, n_estimators=50; total time=   0.1s\n",
            "[CV] END max_depth=1, max_features=0.39869546074821194, min_samples_leaf=10, min_samples_split=2, n_estimators=50; total time=   0.1s\n",
            "[CV] END max_depth=1, max_features=0.39869546074821194, min_samples_leaf=10, min_samples_split=2, n_estimators=50; total time=   0.1s\n",
            "Fitting 5 folds for each of 1 candidates, totalling 5 fits\n",
            "[CV] END max_depth=20, max_features=0.1, min_samples_leaf=1, min_samples_split=25, n_estimators=200; total time=   0.3s\n",
            "[CV] END max_depth=20, max_features=0.1, min_samples_leaf=1, min_samples_split=25, n_estimators=200; total time=   0.3s\n",
            "[CV] END max_depth=20, max_features=0.1, min_samples_leaf=1, min_samples_split=25, n_estimators=200; total time=   0.3s\n",
            "[CV] END max_depth=20, max_features=0.1, min_samples_leaf=1, min_samples_split=25, n_estimators=200; total time=   0.3s\n",
            "[CV] END max_depth=20, max_features=0.1, min_samples_leaf=1, min_samples_split=25, n_estimators=200; total time=   0.3s\n",
            "Fitting 5 folds for each of 1 candidates, totalling 5 fits\n",
            "[CV] END max_depth=1, max_features=0.999, min_samples_leaf=10, min_samples_split=25, n_estimators=50; total time=   0.1s\n",
            "[CV] END max_depth=1, max_features=0.999, min_samples_leaf=10, min_samples_split=25, n_estimators=50; total time=   0.1s\n",
            "[CV] END max_depth=1, max_features=0.999, min_samples_leaf=10, min_samples_split=25, n_estimators=50; total time=   0.1s\n",
            "[CV] END max_depth=1, max_features=0.999, min_samples_leaf=10, min_samples_split=25, n_estimators=50; total time=   0.1s\n",
            "[CV] END max_depth=1, max_features=0.999, min_samples_leaf=10, min_samples_split=25, n_estimators=50; total time=   0.1s\n",
            "Fitting 5 folds for each of 1 candidates, totalling 5 fits\n",
            "[CV] END max_depth=1, max_features=0.4790547047910947, min_samples_leaf=10, min_samples_split=25, n_estimators=50; total time=   0.1s\n",
            "[CV] END max_depth=1, max_features=0.4790547047910947, min_samples_leaf=10, min_samples_split=25, n_estimators=50; total time=   0.1s\n",
            "[CV] END max_depth=1, max_features=0.4790547047910947, min_samples_leaf=10, min_samples_split=25, n_estimators=50; total time=   0.1s\n",
            "[CV] END max_depth=1, max_features=0.4790547047910947, min_samples_leaf=10, min_samples_split=25, n_estimators=50; total time=   0.1s\n",
            "[CV] END max_depth=1, max_features=0.4790547047910947, min_samples_leaf=10, min_samples_split=25, n_estimators=50; total time=   0.1s\n",
            "Fitting 5 folds for each of 1 candidates, totalling 5 fits\n",
            "[CV] END max_depth=1, max_features=0.1, min_samples_leaf=10, min_samples_split=2, n_estimators=50; total time=   0.1s\n",
            "[CV] END max_depth=1, max_features=0.1, min_samples_leaf=10, min_samples_split=2, n_estimators=50; total time=   0.1s\n",
            "[CV] END max_depth=1, max_features=0.1, min_samples_leaf=10, min_samples_split=2, n_estimators=50; total time=   0.1s\n",
            "[CV] END max_depth=1, max_features=0.1, min_samples_leaf=10, min_samples_split=2, n_estimators=50; total time=   0.1s\n",
            "[CV] END max_depth=1, max_features=0.1, min_samples_leaf=10, min_samples_split=2, n_estimators=50; total time=   0.0s\n",
            "Fitting 5 folds for each of 1 candidates, totalling 5 fits\n",
            "[CV] END max_depth=20, max_features=0.999, min_samples_leaf=1, min_samples_split=25, n_estimators=67; total time=   0.1s\n",
            "[CV] END max_depth=20, max_features=0.999, min_samples_leaf=1, min_samples_split=25, n_estimators=67; total time=   0.1s\n",
            "[CV] END max_depth=20, max_features=0.999, min_samples_leaf=1, min_samples_split=25, n_estimators=67; total time=   0.1s\n",
            "[CV] END max_depth=20, max_features=0.999, min_samples_leaf=1, min_samples_split=25, n_estimators=67; total time=   0.1s\n",
            "[CV] END max_depth=20, max_features=0.999, min_samples_leaf=1, min_samples_split=25, n_estimators=67; total time=   0.1s\n",
            "Fitting 5 folds for each of 1 candidates, totalling 5 fits\n",
            "[CV] END max_depth=1, max_features=0.7584222794075799, min_samples_leaf=10, min_samples_split=25, n_estimators=250; total time=   0.3s\n",
            "[CV] END max_depth=1, max_features=0.7584222794075799, min_samples_leaf=10, min_samples_split=25, n_estimators=250; total time=   0.3s\n",
            "[CV] END max_depth=1, max_features=0.7584222794075799, min_samples_leaf=10, min_samples_split=25, n_estimators=250; total time=   0.3s\n",
            "[CV] END max_depth=1, max_features=0.7584222794075799, min_samples_leaf=10, min_samples_split=25, n_estimators=250; total time=   0.3s\n",
            "[CV] END max_depth=1, max_features=0.7584222794075799, min_samples_leaf=10, min_samples_split=25, n_estimators=250; total time=   0.3s\n",
            "Fitting 5 folds for each of 1 candidates, totalling 5 fits\n",
            "[CV] END max_depth=1, max_features=0.31276527197958565, min_samples_leaf=9, min_samples_split=25, n_estimators=250; total time=   0.3s\n",
            "[CV] END max_depth=1, max_features=0.31276527197958565, min_samples_leaf=9, min_samples_split=25, n_estimators=250; total time=   0.3s\n",
            "[CV] END max_depth=1, max_features=0.31276527197958565, min_samples_leaf=9, min_samples_split=25, n_estimators=250; total time=   0.3s\n",
            "[CV] END max_depth=1, max_features=0.31276527197958565, min_samples_leaf=9, min_samples_split=25, n_estimators=250; total time=   0.3s\n",
            "[CV] END max_depth=1, max_features=0.31276527197958565, min_samples_leaf=9, min_samples_split=25, n_estimators=250; total time=   0.3s\n",
            "Fitting 5 folds for each of 1 candidates, totalling 5 fits\n",
            "[CV] END max_depth=1, max_features=0.999, min_samples_leaf=9, min_samples_split=25, n_estimators=50; total time=   0.1s\n",
            "[CV] END max_depth=1, max_features=0.999, min_samples_leaf=9, min_samples_split=25, n_estimators=50; total time=   0.1s\n",
            "[CV] END max_depth=1, max_features=0.999, min_samples_leaf=9, min_samples_split=25, n_estimators=50; total time=   0.1s\n",
            "[CV] END max_depth=1, max_features=0.999, min_samples_leaf=9, min_samples_split=25, n_estimators=50; total time=   0.1s\n",
            "[CV] END max_depth=1, max_features=0.999, min_samples_leaf=9, min_samples_split=25, n_estimators=50; total time=   0.1s\n",
            "Fitting 5 folds for each of 1 candidates, totalling 5 fits\n",
            "[CV] END max_depth=1, max_features=0.1, min_samples_leaf=4, min_samples_split=25, n_estimators=250; total time=   0.3s\n",
            "[CV] END max_depth=1, max_features=0.1, min_samples_leaf=4, min_samples_split=25, n_estimators=250; total time=   0.3s\n",
            "[CV] END max_depth=1, max_features=0.1, min_samples_leaf=4, min_samples_split=25, n_estimators=250; total time=   0.3s\n",
            "[CV] END max_depth=1, max_features=0.1, min_samples_leaf=4, min_samples_split=25, n_estimators=250; total time=   0.3s\n",
            "[CV] END max_depth=1, max_features=0.1, min_samples_leaf=4, min_samples_split=25, n_estimators=250; total time=   0.3s\n",
            "Fitting 5 folds for each of 1 candidates, totalling 5 fits\n",
            "[CV] END max_depth=1, max_features=0.999, min_samples_leaf=10, min_samples_split=2, n_estimators=250; total time=   0.3s\n",
            "[CV] END max_depth=1, max_features=0.999, min_samples_leaf=10, min_samples_split=2, n_estimators=250; total time=   0.3s\n",
            "[CV] END max_depth=1, max_features=0.999, min_samples_leaf=10, min_samples_split=2, n_estimators=250; total time=   0.3s\n",
            "[CV] END max_depth=1, max_features=0.999, min_samples_leaf=10, min_samples_split=2, n_estimators=250; total time=   0.3s\n",
            "[CV] END max_depth=1, max_features=0.999, min_samples_leaf=10, min_samples_split=2, n_estimators=250; total time=   0.3s\n",
            "Fitting 5 folds for each of 1 candidates, totalling 5 fits\n",
            "[CV] END max_depth=1, max_features=0.3271355987561676, min_samples_leaf=10, min_samples_split=25, n_estimators=50; total time=   0.1s\n",
            "[CV] END max_depth=1, max_features=0.3271355987561676, min_samples_leaf=10, min_samples_split=25, n_estimators=50; total time=   0.1s\n",
            "[CV] END max_depth=1, max_features=0.3271355987561676, min_samples_leaf=10, min_samples_split=25, n_estimators=50; total time=   0.1s\n",
            "[CV] END max_depth=1, max_features=0.3271355987561676, min_samples_leaf=10, min_samples_split=25, n_estimators=50; total time=   0.1s\n",
            "[CV] END max_depth=1, max_features=0.3271355987561676, min_samples_leaf=10, min_samples_split=25, n_estimators=50; total time=   0.0s\n",
            "Fitting 5 folds for each of 1 candidates, totalling 5 fits\n",
            "[CV] END max_depth=1, max_features=0.8215028256192416, min_samples_leaf=9, min_samples_split=25, n_estimators=50; total time=   0.0s\n",
            "[CV] END max_depth=1, max_features=0.8215028256192416, min_samples_leaf=9, min_samples_split=25, n_estimators=50; total time=   0.1s\n",
            "[CV] END max_depth=1, max_features=0.8215028256192416, min_samples_leaf=9, min_samples_split=25, n_estimators=50; total time=   0.1s\n",
            "[CV] END max_depth=1, max_features=0.8215028256192416, min_samples_leaf=9, min_samples_split=25, n_estimators=50; total time=   0.0s\n",
            "[CV] END max_depth=1, max_features=0.8215028256192416, min_samples_leaf=9, min_samples_split=25, n_estimators=50; total time=   0.1s\n",
            "Fitting 5 folds for each of 1 candidates, totalling 5 fits\n",
            "[CV] END max_depth=20, max_features=0.3220104454380921, min_samples_leaf=10, min_samples_split=25, n_estimators=50; total time=   0.1s\n",
            "[CV] END max_depth=20, max_features=0.3220104454380921, min_samples_leaf=10, min_samples_split=25, n_estimators=50; total time=   0.1s\n",
            "[CV] END max_depth=20, max_features=0.3220104454380921, min_samples_leaf=10, min_samples_split=25, n_estimators=50; total time=   0.1s\n",
            "[CV] END max_depth=20, max_features=0.3220104454380921, min_samples_leaf=10, min_samples_split=25, n_estimators=50; total time=   0.1s\n",
            "[CV] END max_depth=20, max_features=0.3220104454380921, min_samples_leaf=10, min_samples_split=25, n_estimators=50; total time=   0.0s\n",
            "Fitting 5 folds for each of 1 candidates, totalling 5 fits\n",
            "[CV] END max_depth=1, max_features=0.3343595170846132, min_samples_leaf=9, min_samples_split=25, n_estimators=50; total time=   0.1s\n",
            "[CV] END max_depth=1, max_features=0.3343595170846132, min_samples_leaf=9, min_samples_split=25, n_estimators=50; total time=   0.1s\n",
            "[CV] END max_depth=1, max_features=0.3343595170846132, min_samples_leaf=9, min_samples_split=25, n_estimators=50; total time=   0.1s\n",
            "[CV] END max_depth=1, max_features=0.3343595170846132, min_samples_leaf=9, min_samples_split=25, n_estimators=50; total time=   0.0s\n",
            "[CV] END max_depth=1, max_features=0.3343595170846132, min_samples_leaf=9, min_samples_split=25, n_estimators=50; total time=   0.1s\n",
            "Fitting 5 folds for each of 1 candidates, totalling 5 fits\n",
            "[CV] END max_depth=1, max_features=0.358956515492874, min_samples_leaf=5, min_samples_split=25, n_estimators=50; total time=   0.1s\n",
            "[CV] END max_depth=1, max_features=0.358956515492874, min_samples_leaf=5, min_samples_split=25, n_estimators=50; total time=   0.0s\n",
            "[CV] END max_depth=1, max_features=0.358956515492874, min_samples_leaf=5, min_samples_split=25, n_estimators=50; total time=   0.1s\n",
            "[CV] END max_depth=1, max_features=0.358956515492874, min_samples_leaf=5, min_samples_split=25, n_estimators=50; total time=   0.0s\n",
            "[CV] END max_depth=1, max_features=0.358956515492874, min_samples_leaf=5, min_samples_split=25, n_estimators=50; total time=   0.0s\n",
            "Fitting 5 folds for each of 1 candidates, totalling 5 fits\n",
            "[CV] END max_depth=1, max_features=0.31176039472398265, min_samples_leaf=10, min_samples_split=2, n_estimators=250; total time=   0.3s\n",
            "[CV] END max_depth=1, max_features=0.31176039472398265, min_samples_leaf=10, min_samples_split=2, n_estimators=250; total time=   0.4s\n",
            "[CV] END max_depth=1, max_features=0.31176039472398265, min_samples_leaf=10, min_samples_split=2, n_estimators=250; total time=   0.4s\n",
            "[CV] END max_depth=1, max_features=0.31176039472398265, min_samples_leaf=10, min_samples_split=2, n_estimators=250; total time=   0.4s\n",
            "[CV] END max_depth=1, max_features=0.31176039472398265, min_samples_leaf=10, min_samples_split=2, n_estimators=250; total time=   0.4s\n",
            "Fitting 5 folds for each of 1 candidates, totalling 5 fits\n",
            "[CV] END max_depth=1, max_features=0.3132730983960472, min_samples_leaf=6, min_samples_split=25, n_estimators=250; total time=   0.3s\n",
            "[CV] END max_depth=1, max_features=0.3132730983960472, min_samples_leaf=6, min_samples_split=25, n_estimators=250; total time=   0.3s\n",
            "[CV] END max_depth=1, max_features=0.3132730983960472, min_samples_leaf=6, min_samples_split=25, n_estimators=250; total time=   0.3s\n",
            "[CV] END max_depth=1, max_features=0.3132730983960472, min_samples_leaf=6, min_samples_split=25, n_estimators=250; total time=   0.4s\n",
            "[CV] END max_depth=1, max_features=0.3132730983960472, min_samples_leaf=6, min_samples_split=25, n_estimators=250; total time=   0.3s\n",
            "Fitting 5 folds for each of 1 candidates, totalling 5 fits\n",
            "[CV] END max_depth=1, max_features=0.999, min_samples_leaf=8, min_samples_split=25, n_estimators=50; total time=   0.1s\n",
            "[CV] END max_depth=1, max_features=0.999, min_samples_leaf=8, min_samples_split=25, n_estimators=50; total time=   0.1s\n",
            "[CV] END max_depth=1, max_features=0.999, min_samples_leaf=8, min_samples_split=25, n_estimators=50; total time=   0.1s\n",
            "[CV] END max_depth=1, max_features=0.999, min_samples_leaf=8, min_samples_split=25, n_estimators=50; total time=   0.1s\n",
            "[CV] END max_depth=1, max_features=0.999, min_samples_leaf=8, min_samples_split=25, n_estimators=50; total time=   0.1s\n",
            "Fitting 5 folds for each of 1 candidates, totalling 5 fits\n",
            "[CV] END max_depth=1, max_features=0.3254857916749492, min_samples_leaf=10, min_samples_split=25, n_estimators=250; total time=   0.5s\n",
            "[CV] END max_depth=1, max_features=0.3254857916749492, min_samples_leaf=10, min_samples_split=25, n_estimators=250; total time=   0.5s\n",
            "[CV] END max_depth=1, max_features=0.3254857916749492, min_samples_leaf=10, min_samples_split=25, n_estimators=250; total time=   0.5s\n",
            "[CV] END max_depth=1, max_features=0.3254857916749492, min_samples_leaf=10, min_samples_split=25, n_estimators=250; total time=   0.4s\n",
            "[CV] END max_depth=1, max_features=0.3254857916749492, min_samples_leaf=10, min_samples_split=25, n_estimators=250; total time=   0.4s\n",
            "Fitting 5 folds for each of 1 candidates, totalling 5 fits\n",
            "[CV] END max_depth=1, max_features=0.32313775640396347, min_samples_leaf=10, min_samples_split=2, n_estimators=50; total time=   0.1s\n",
            "[CV] END max_depth=1, max_features=0.32313775640396347, min_samples_leaf=10, min_samples_split=2, n_estimators=50; total time=   0.1s\n",
            "[CV] END max_depth=1, max_features=0.32313775640396347, min_samples_leaf=10, min_samples_split=2, n_estimators=50; total time=   0.2s\n",
            "[CV] END max_depth=1, max_features=0.32313775640396347, min_samples_leaf=10, min_samples_split=2, n_estimators=50; total time=   0.2s\n",
            "[CV] END max_depth=1, max_features=0.32313775640396347, min_samples_leaf=10, min_samples_split=2, n_estimators=50; total time=   0.2s\n",
            "Fitting 5 folds for each of 1 candidates, totalling 5 fits\n",
            "[CV] END max_depth=1, max_features=0.1, min_samples_leaf=6, min_samples_split=25, n_estimators=250; total time=   0.2s\n",
            "[CV] END max_depth=1, max_features=0.1, min_samples_leaf=6, min_samples_split=25, n_estimators=250; total time=   0.2s\n",
            "[CV] END max_depth=1, max_features=0.1, min_samples_leaf=6, min_samples_split=25, n_estimators=250; total time=   0.2s\n",
            "[CV] END max_depth=1, max_features=0.1, min_samples_leaf=6, min_samples_split=25, n_estimators=250; total time=   0.2s\n",
            "[CV] END max_depth=1, max_features=0.1, min_samples_leaf=6, min_samples_split=25, n_estimators=250; total time=   0.2s\n",
            "Fitting 5 folds for each of 1 candidates, totalling 5 fits\n",
            "[CV] END max_depth=1, max_features=0.30458006192935316, min_samples_leaf=10, min_samples_split=2, n_estimators=50; total time=   0.1s\n",
            "[CV] END max_depth=1, max_features=0.30458006192935316, min_samples_leaf=10, min_samples_split=2, n_estimators=50; total time=   0.1s\n",
            "[CV] END max_depth=1, max_features=0.30458006192935316, min_samples_leaf=10, min_samples_split=2, n_estimators=50; total time=   0.1s\n",
            "[CV] END max_depth=1, max_features=0.30458006192935316, min_samples_leaf=10, min_samples_split=2, n_estimators=50; total time=   0.1s\n",
            "[CV] END max_depth=1, max_features=0.30458006192935316, min_samples_leaf=10, min_samples_split=2, n_estimators=50; total time=   0.1s\n",
            "Fitting 5 folds for each of 1 candidates, totalling 5 fits\n",
            "[CV] END max_depth=1, max_features=0.28955645421947107, min_samples_leaf=9, min_samples_split=2, n_estimators=250; total time=   0.3s\n",
            "[CV] END max_depth=1, max_features=0.28955645421947107, min_samples_leaf=9, min_samples_split=2, n_estimators=250; total time=   0.3s\n",
            "[CV] END max_depth=1, max_features=0.28955645421947107, min_samples_leaf=9, min_samples_split=2, n_estimators=250; total time=   0.3s\n",
            "[CV] END max_depth=1, max_features=0.28955645421947107, min_samples_leaf=9, min_samples_split=2, n_estimators=250; total time=   0.3s\n",
            "[CV] END max_depth=1, max_features=0.28955645421947107, min_samples_leaf=9, min_samples_split=2, n_estimators=250; total time=   0.3s\n",
            "Fitting 5 folds for each of 1 candidates, totalling 5 fits\n",
            "[CV] END max_depth=20, max_features=0.8959600454102674, min_samples_leaf=10, min_samples_split=25, n_estimators=50; total time=   0.1s\n",
            "[CV] END max_depth=20, max_features=0.8959600454102674, min_samples_leaf=10, min_samples_split=25, n_estimators=50; total time=   0.1s\n",
            "[CV] END max_depth=20, max_features=0.8959600454102674, min_samples_leaf=10, min_samples_split=25, n_estimators=50; total time=   0.1s\n",
            "[CV] END max_depth=20, max_features=0.8959600454102674, min_samples_leaf=10, min_samples_split=25, n_estimators=50; total time=   0.1s\n",
            "[CV] END max_depth=20, max_features=0.8959600454102674, min_samples_leaf=10, min_samples_split=25, n_estimators=50; total time=   0.1s\n",
            "Fitting 5 folds for each of 1 candidates, totalling 5 fits\n",
            "[CV] END max_depth=1, max_features=0.21643657958420193, min_samples_leaf=8, min_samples_split=2, n_estimators=250; total time=   0.3s\n",
            "[CV] END max_depth=1, max_features=0.21643657958420193, min_samples_leaf=8, min_samples_split=2, n_estimators=250; total time=   0.3s\n",
            "[CV] END max_depth=1, max_features=0.21643657958420193, min_samples_leaf=8, min_samples_split=2, n_estimators=250; total time=   0.3s\n",
            "[CV] END max_depth=1, max_features=0.21643657958420193, min_samples_leaf=8, min_samples_split=2, n_estimators=250; total time=   0.3s\n",
            "[CV] END max_depth=1, max_features=0.21643657958420193, min_samples_leaf=8, min_samples_split=2, n_estimators=250; total time=   0.3s\n",
            "Fitting 5 folds for each of 1 candidates, totalling 5 fits\n",
            "[CV] END max_depth=1, max_features=0.2588368713085191, min_samples_leaf=10, min_samples_split=25, n_estimators=250; total time=   0.3s\n",
            "[CV] END max_depth=1, max_features=0.2588368713085191, min_samples_leaf=10, min_samples_split=25, n_estimators=250; total time=   0.3s\n",
            "[CV] END max_depth=1, max_features=0.2588368713085191, min_samples_leaf=10, min_samples_split=25, n_estimators=250; total time=   0.3s\n",
            "[CV] END max_depth=1, max_features=0.2588368713085191, min_samples_leaf=10, min_samples_split=25, n_estimators=250; total time=   0.3s\n",
            "[CV] END max_depth=1, max_features=0.2588368713085191, min_samples_leaf=10, min_samples_split=25, n_estimators=250; total time=   0.3s\n",
            "Fitting 5 folds for each of 1 candidates, totalling 5 fits\n",
            "[CV] END max_depth=20, max_features=0.999, min_samples_leaf=9, min_samples_split=25, n_estimators=50; total time=   0.1s\n",
            "[CV] END max_depth=20, max_features=0.999, min_samples_leaf=9, min_samples_split=25, n_estimators=50; total time=   0.1s\n",
            "[CV] END max_depth=20, max_features=0.999, min_samples_leaf=9, min_samples_split=25, n_estimators=50; total time=   0.1s\n",
            "[CV] END max_depth=20, max_features=0.999, min_samples_leaf=9, min_samples_split=25, n_estimators=50; total time=   0.1s\n",
            "[CV] END max_depth=20, max_features=0.999, min_samples_leaf=9, min_samples_split=25, n_estimators=50; total time=   0.1s\n",
            "Fitting 5 folds for each of 1 candidates, totalling 5 fits\n",
            "[CV] END max_depth=20, max_features=0.34618678737221686, min_samples_leaf=5, min_samples_split=2, n_estimators=250; total time=   0.3s\n",
            "[CV] END max_depth=20, max_features=0.34618678737221686, min_samples_leaf=5, min_samples_split=2, n_estimators=250; total time=   0.3s\n",
            "[CV] END max_depth=20, max_features=0.34618678737221686, min_samples_leaf=5, min_samples_split=2, n_estimators=250; total time=   0.3s\n",
            "[CV] END max_depth=20, max_features=0.34618678737221686, min_samples_leaf=5, min_samples_split=2, n_estimators=250; total time=   0.3s\n",
            "[CV] END max_depth=20, max_features=0.34618678737221686, min_samples_leaf=5, min_samples_split=2, n_estimators=250; total time=   0.3s\n",
            "Fitting 5 folds for each of 1 candidates, totalling 5 fits\n",
            "[CV] END max_depth=1, max_features=0.23448648368157865, min_samples_leaf=9, min_samples_split=2, n_estimators=50; total time=   0.0s\n",
            "[CV] END max_depth=1, max_features=0.23448648368157865, min_samples_leaf=9, min_samples_split=2, n_estimators=50; total time=   0.0s\n",
            "[CV] END max_depth=1, max_features=0.23448648368157865, min_samples_leaf=9, min_samples_split=2, n_estimators=50; total time=   0.1s\n",
            "[CV] END max_depth=1, max_features=0.23448648368157865, min_samples_leaf=9, min_samples_split=2, n_estimators=50; total time=   0.1s\n",
            "[CV] END max_depth=1, max_features=0.23448648368157865, min_samples_leaf=9, min_samples_split=2, n_estimators=50; total time=   0.1s\n",
            "Fitting 5 folds for each of 1 candidates, totalling 5 fits\n",
            "[CV] END max_depth=3, max_features=0.3985199159183991, min_samples_leaf=10, min_samples_split=25, n_estimators=50; total time=   0.1s\n",
            "[CV] END max_depth=3, max_features=0.3985199159183991, min_samples_leaf=10, min_samples_split=25, n_estimators=50; total time=   0.1s\n",
            "[CV] END max_depth=3, max_features=0.3985199159183991, min_samples_leaf=10, min_samples_split=25, n_estimators=50; total time=   0.1s\n",
            "[CV] END max_depth=3, max_features=0.3985199159183991, min_samples_leaf=10, min_samples_split=25, n_estimators=50; total time=   0.1s\n",
            "[CV] END max_depth=3, max_features=0.3985199159183991, min_samples_leaf=10, min_samples_split=25, n_estimators=50; total time=   0.1s\n",
            "Fitting 5 folds for each of 1 candidates, totalling 5 fits\n",
            "[CV] END max_depth=1, max_features=0.402405742459924, min_samples_leaf=10, min_samples_split=2, n_estimators=50; total time=   0.1s\n",
            "[CV] END max_depth=1, max_features=0.402405742459924, min_samples_leaf=10, min_samples_split=2, n_estimators=50; total time=   0.1s\n",
            "[CV] END max_depth=1, max_features=0.402405742459924, min_samples_leaf=10, min_samples_split=2, n_estimators=50; total time=   0.1s\n",
            "[CV] END max_depth=1, max_features=0.402405742459924, min_samples_leaf=10, min_samples_split=2, n_estimators=50; total time=   0.1s\n",
            "[CV] END max_depth=1, max_features=0.402405742459924, min_samples_leaf=10, min_samples_split=2, n_estimators=50; total time=   0.1s\n",
            "Fitting 5 folds for each of 1 candidates, totalling 5 fits\n",
            "[CV] END max_depth=1, max_features=0.7749911313814738, min_samples_leaf=7, min_samples_split=25, n_estimators=50; total time=   0.0s\n",
            "[CV] END max_depth=1, max_features=0.7749911313814738, min_samples_leaf=7, min_samples_split=25, n_estimators=50; total time=   0.0s\n",
            "[CV] END max_depth=1, max_features=0.7749911313814738, min_samples_leaf=7, min_samples_split=25, n_estimators=50; total time=   0.1s\n",
            "[CV] END max_depth=1, max_features=0.7749911313814738, min_samples_leaf=7, min_samples_split=25, n_estimators=50; total time=   0.1s\n",
            "[CV] END max_depth=1, max_features=0.7749911313814738, min_samples_leaf=7, min_samples_split=25, n_estimators=50; total time=   0.1s\n",
            "Fitting 5 folds for each of 1 candidates, totalling 5 fits\n",
            "[CV] END max_depth=1, max_features=0.5370900000922411, min_samples_leaf=9, min_samples_split=25, n_estimators=50; total time=   0.0s\n",
            "[CV] END max_depth=1, max_features=0.5370900000922411, min_samples_leaf=9, min_samples_split=25, n_estimators=50; total time=   0.0s\n",
            "[CV] END max_depth=1, max_features=0.5370900000922411, min_samples_leaf=9, min_samples_split=25, n_estimators=50; total time=   0.0s\n",
            "[CV] END max_depth=1, max_features=0.5370900000922411, min_samples_leaf=9, min_samples_split=25, n_estimators=50; total time=   0.0s\n",
            "[CV] END max_depth=1, max_features=0.5370900000922411, min_samples_leaf=9, min_samples_split=25, n_estimators=50; total time=   0.0s\n",
            "Best Hyperparameters: OrderedDict([('max_depth', 2), ('max_features', 0.3948805832109298), ('min_samples_leaf', 10), ('min_samples_split', 25), ('n_estimators', 99)])\n"
          ]
        }
      ],
      "source": [
        "# Define the hyperparameters and their search spaces\n",
        "param_dist = {\n",
        "    'n_estimators': (50, 250),\n",
        "    'max_depth': (1, 20),\n",
        "    'min_samples_split': (2, 25),\n",
        "    'min_samples_leaf': (1, 10),\n",
        "    'max_features': (0.1, 0.999),\n",
        "}\n",
        "\n",
        "# Create BayesSearchCV\n",
        "search = BayesSearchCV(estimator=rf_regressor, search_spaces=param_dist, scoring='neg_mean_squared_error', n_iter=50, cv=5, n_jobs=-1, verbose=2)\n",
        "\n",
        "# Fit the model\n",
        "search.fit(X_train, y_train)\n",
        "\n",
        "# Get the best hyperparameters\n",
        "best_params = search.best_params_\n",
        "print(\"Best Hyperparameters:\", best_params)"
      ]
    },
    {
      "cell_type": "markdown",
      "metadata": {},
      "source": [
        "#### 2. Grid Search"
      ]
    },
    {
      "cell_type": "code",
      "execution_count": 272,
      "metadata": {},
      "outputs": [
        {
          "name": "stdout",
          "output_type": "stream",
          "text": [
            "Fitting 5 folds for each of 432 candidates, totalling 2160 fits\n",
            "Best Hyperparameters: {'bootstrap': True, 'max_depth': None, 'max_features': 'log2', 'min_samples_leaf': 4, 'min_samples_split': 10, 'n_estimators': 50}\n"
          ]
        }
      ],
      "source": [
        "# First tour\n",
        "\n",
        "param_grid = {\n",
        "    \"n_estimators\": [50, 100, 150],          \n",
        "    \"max_features\": [\"sqrt\", \"log2\"], \n",
        "    \"max_depth\": [None, 10, 20, 30],           \n",
        "    \"min_samples_split\": [2, 5, 10],           \n",
        "    \"min_samples_leaf\": [1, 2, 4],             \n",
        "    \"bootstrap\": [True, False]\n",
        "}\n",
        "\n",
        "# Create the Random Forest Regressor\n",
        "rf_regressor = RandomForestRegressor(random_state=42)\n",
        "\n",
        "# Create GridSearchCV with verbose\n",
        "search = GridSearchCV(estimator=rf_regressor, param_grid=param_grid, scoring='neg_mean_squared_error', cv=5, n_jobs=-1, verbose=1)\n",
        "\n",
        "# Fit the model\n",
        "search.fit(X_train, y_train)\n",
        "\n",
        "# Get the best hyperparameters\n",
        "best_params = search.best_params_\n",
        "print(\"Best Hyperparameters:\", best_params)"
      ]
    },
    {
      "cell_type": "code",
      "execution_count": 275,
      "metadata": {},
      "outputs": [
        {
          "name": "stdout",
          "output_type": "stream",
          "text": [
            "Fitting 5 folds for each of 81 candidates, totalling 405 fits\n",
            "Best Hyperparameters: {'bootstrap': True, 'max_depth': 15, 'max_features': 'log2', 'min_samples_leaf': 4, 'min_samples_split': 10, 'n_estimators': 50}\n"
          ]
        }
      ],
      "source": [
        "# Second tour\n",
        "\n",
        "param_grid = {\n",
        "    \"n_estimators\": [40, 50, 60],          \n",
        "    \"max_features\": [\"log2\"], \n",
        "    \"max_depth\": [15, 20, 25],           \n",
        "    \"min_samples_split\": [8, 10, 12],           \n",
        "    \"min_samples_leaf\": [3, 4, 5],             \n",
        "    \"bootstrap\": [True]\n",
        "}\n",
        "\n",
        "# Create the Random Forest Regressor\n",
        "rf_regressor = RandomForestRegressor(random_state=42)\n",
        "\n",
        "# Create GridSearchCV with verbose\n",
        "search = GridSearchCV(estimator=rf_regressor, param_grid=param_grid, scoring='neg_mean_squared_error', cv=5, n_jobs=-1, verbose=1)\n",
        "\n",
        "# Fit the model\n",
        "search.fit(X_train, y_train)\n",
        "\n",
        "# Get the best hyperparameters\n",
        "best_params = search.best_params_\n",
        "print(\"Best Hyperparameters:\", best_params)"
      ]
    },
    {
      "cell_type": "markdown",
      "metadata": {},
      "source": [
        "### Evaluation"
      ]
    },
    {
      "cell_type": "code",
      "execution_count": 277,
      "metadata": {},
      "outputs": [
        {
          "name": "stdout",
          "output_type": "stream",
          "text": [
            "Mean Squared Error on Test Set: 95.579\n",
            "R2 Score on Test Set: 14.864%\n"
          ]
        }
      ],
      "source": [
        "# Get the best model\n",
        "best_rf_model = search.best_estimator_\n",
        "\n",
        "# Make predictions on the test set\n",
        "y_pred = best_rf_model.predict(X_test)\n",
        "\n",
        "# Evaluate the model\n",
        "mse = mean_squared_error(y_test, y_pred)\n",
        "print(f'Mean Squared Error on Test Set: {round(mse, 3)}')\n",
        "\n",
        "print(f\"R2 Score on Test Set: {round(100 * r2_score(y_test, y_pred), 3)}%\")"
      ]
    },
    {
      "cell_type": "markdown",
      "metadata": {},
      "source": [
        "## 4.3. XGBoost"
      ]
    },
    {
      "cell_type": "code",
      "execution_count": 205,
      "metadata": {},
      "outputs": [],
      "source": [
        "from xgboost import XGBRegressor"
      ]
    },
    {
      "cell_type": "code",
      "execution_count": 283,
      "metadata": {},
      "outputs": [
        {
          "data": {
            "text/html": [
              "<style>#sk-container-id-42 {color: black;background-color: white;}#sk-container-id-42 pre{padding: 0;}#sk-container-id-42 div.sk-toggleable {background-color: white;}#sk-container-id-42 label.sk-toggleable__label {cursor: pointer;display: block;width: 100%;margin-bottom: 0;padding: 0.3em;box-sizing: border-box;text-align: center;}#sk-container-id-42 label.sk-toggleable__label-arrow:before {content: \"▸\";float: left;margin-right: 0.25em;color: #696969;}#sk-container-id-42 label.sk-toggleable__label-arrow:hover:before {color: black;}#sk-container-id-42 div.sk-estimator:hover label.sk-toggleable__label-arrow:before {color: black;}#sk-container-id-42 div.sk-toggleable__content {max-height: 0;max-width: 0;overflow: hidden;text-align: left;background-color: #f0f8ff;}#sk-container-id-42 div.sk-toggleable__content pre {margin: 0.2em;color: black;border-radius: 0.25em;background-color: #f0f8ff;}#sk-container-id-42 input.sk-toggleable__control:checked~div.sk-toggleable__content {max-height: 200px;max-width: 100%;overflow: auto;}#sk-container-id-42 input.sk-toggleable__control:checked~label.sk-toggleable__label-arrow:before {content: \"▾\";}#sk-container-id-42 div.sk-estimator input.sk-toggleable__control:checked~label.sk-toggleable__label {background-color: #d4ebff;}#sk-container-id-42 div.sk-label input.sk-toggleable__control:checked~label.sk-toggleable__label {background-color: #d4ebff;}#sk-container-id-42 input.sk-hidden--visually {border: 0;clip: rect(1px 1px 1px 1px);clip: rect(1px, 1px, 1px, 1px);height: 1px;margin: -1px;overflow: hidden;padding: 0;position: absolute;width: 1px;}#sk-container-id-42 div.sk-estimator {font-family: monospace;background-color: #f0f8ff;border: 1px dotted black;border-radius: 0.25em;box-sizing: border-box;margin-bottom: 0.5em;}#sk-container-id-42 div.sk-estimator:hover {background-color: #d4ebff;}#sk-container-id-42 div.sk-parallel-item::after {content: \"\";width: 100%;border-bottom: 1px solid gray;flex-grow: 1;}#sk-container-id-42 div.sk-label:hover label.sk-toggleable__label {background-color: #d4ebff;}#sk-container-id-42 div.sk-serial::before {content: \"\";position: absolute;border-left: 1px solid gray;box-sizing: border-box;top: 0;bottom: 0;left: 50%;z-index: 0;}#sk-container-id-42 div.sk-serial {display: flex;flex-direction: column;align-items: center;background-color: white;padding-right: 0.2em;padding-left: 0.2em;position: relative;}#sk-container-id-42 div.sk-item {position: relative;z-index: 1;}#sk-container-id-42 div.sk-parallel {display: flex;align-items: stretch;justify-content: center;background-color: white;position: relative;}#sk-container-id-42 div.sk-item::before, #sk-container-id-42 div.sk-parallel-item::before {content: \"\";position: absolute;border-left: 1px solid gray;box-sizing: border-box;top: 0;bottom: 0;left: 50%;z-index: -1;}#sk-container-id-42 div.sk-parallel-item {display: flex;flex-direction: column;z-index: 1;position: relative;background-color: white;}#sk-container-id-42 div.sk-parallel-item:first-child::after {align-self: flex-end;width: 50%;}#sk-container-id-42 div.sk-parallel-item:last-child::after {align-self: flex-start;width: 50%;}#sk-container-id-42 div.sk-parallel-item:only-child::after {width: 0;}#sk-container-id-42 div.sk-dashed-wrapped {border: 1px dashed gray;margin: 0 0.4em 0.5em 0.4em;box-sizing: border-box;padding-bottom: 0.4em;background-color: white;}#sk-container-id-42 div.sk-label label {font-family: monospace;font-weight: bold;display: inline-block;line-height: 1.2em;}#sk-container-id-42 div.sk-label-container {text-align: center;}#sk-container-id-42 div.sk-container {/* jupyter's `normalize.less` sets `[hidden] { display: none; }` but bootstrap.min.css set `[hidden] { display: none !important; }` so we also need the `!important` here to be able to override the default hidden behavior on the sphinx rendered scikit-learn.org. See: https://github.com/scikit-learn/scikit-learn/issues/21755 */display: inline-block !important;position: relative;}#sk-container-id-42 div.sk-text-repr-fallback {display: none;}</style><div id=\"sk-container-id-42\" class=\"sk-top-container\"><div class=\"sk-text-repr-fallback\"><pre>XGBRegressor(base_score=0.5, booster=&#x27;gbtree&#x27;, callbacks=None,\n",
              "             colsample_bylevel=1, colsample_bynode=1, colsample_bytree=1,\n",
              "             early_stopping_rounds=None, enable_categorical=False,\n",
              "             eval_metric=None, feature_types=None, gamma=0, gpu_id=-1,\n",
              "             grow_policy=&#x27;depthwise&#x27;, importance_type=None,\n",
              "             interaction_constraints=&#x27;&#x27;, learning_rate=0.300000012, max_bin=256,\n",
              "             max_cat_threshold=64, max_cat_to_onehot=4, max_delta_step=0,\n",
              "             max_depth=6, max_leaves=0, min_child_weight=1, missing=nan,\n",
              "             monotone_constraints=&#x27;()&#x27;, n_estimators=100, n_jobs=0,\n",
              "             num_parallel_tree=1, predictor=&#x27;auto&#x27;, random_state=42, ...)</pre><b>In a Jupyter environment, please rerun this cell to show the HTML representation or trust the notebook. <br />On GitHub, the HTML representation is unable to render, please try loading this page with nbviewer.org.</b></div><div class=\"sk-container\" hidden><div class=\"sk-item\"><div class=\"sk-estimator sk-toggleable\"><input class=\"sk-toggleable__control sk-hidden--visually\" id=\"sk-estimator-id-42\" type=\"checkbox\" checked><label for=\"sk-estimator-id-42\" class=\"sk-toggleable__label sk-toggleable__label-arrow\">XGBRegressor</label><div class=\"sk-toggleable__content\"><pre>XGBRegressor(base_score=0.5, booster=&#x27;gbtree&#x27;, callbacks=None,\n",
              "             colsample_bylevel=1, colsample_bynode=1, colsample_bytree=1,\n",
              "             early_stopping_rounds=None, enable_categorical=False,\n",
              "             eval_metric=None, feature_types=None, gamma=0, gpu_id=-1,\n",
              "             grow_policy=&#x27;depthwise&#x27;, importance_type=None,\n",
              "             interaction_constraints=&#x27;&#x27;, learning_rate=0.300000012, max_bin=256,\n",
              "             max_cat_threshold=64, max_cat_to_onehot=4, max_delta_step=0,\n",
              "             max_depth=6, max_leaves=0, min_child_weight=1, missing=nan,\n",
              "             monotone_constraints=&#x27;()&#x27;, n_estimators=100, n_jobs=0,\n",
              "             num_parallel_tree=1, predictor=&#x27;auto&#x27;, random_state=42, ...)</pre></div></div></div></div></div>"
            ],
            "text/plain": [
              "XGBRegressor(base_score=0.5, booster='gbtree', callbacks=None,\n",
              "             colsample_bylevel=1, colsample_bynode=1, colsample_bytree=1,\n",
              "             early_stopping_rounds=None, enable_categorical=False,\n",
              "             eval_metric=None, feature_types=None, gamma=0, gpu_id=-1,\n",
              "             grow_policy='depthwise', importance_type=None,\n",
              "             interaction_constraints='', learning_rate=0.300000012, max_bin=256,\n",
              "             max_cat_threshold=64, max_cat_to_onehot=4, max_delta_step=0,\n",
              "             max_depth=6, max_leaves=0, min_child_weight=1, missing=nan,\n",
              "             monotone_constraints='()', n_estimators=100, n_jobs=0,\n",
              "             num_parallel_tree=1, predictor='auto', random_state=42, ...)"
            ]
          },
          "execution_count": 283,
          "metadata": {},
          "output_type": "execute_result"
        }
      ],
      "source": [
        "xgb_regressor = XGBRegressor(random_state=42)\n",
        "xgb_regressor.fit(X_train, y_train)"
      ]
    },
    {
      "cell_type": "code",
      "execution_count": 284,
      "metadata": {},
      "outputs": [
        {
          "name": "stdout",
          "output_type": "stream",
          "text": [
            "MSE Train: 5.409742838891521e-07\n",
            "MSE TEST: 60.29618994779885\n",
            "R2 Train: 0.999999996689676\n",
            "R2 TEST: 0.4629148203207496\n"
          ]
        }
      ],
      "source": [
        "# Prediction\n",
        "y_train_pred = xgb_regressor.predict(X_train)\n",
        "y_test_pred = xgb_regressor.predict(X_test)\n",
        "\n",
        "# Calculation of Mean Squared Error (MSE)\n",
        "print(\"MSE Train:\", mean_squared_error(y_train,y_train_pred))\n",
        "print(\"MSE TEST:\", mean_squared_error(y_test,y_test_pred))\n",
        "\n",
        "print(\"R2 Train:\", r2_score(y_train,y_train_pred))\n",
        "print(\"R2 TEST:\", r2_score(y_test,y_test_pred))"
      ]
    },
    {
      "cell_type": "markdown",
      "metadata": {},
      "source": [
        "### Tune the Model"
      ]
    },
    {
      "cell_type": "markdown",
      "metadata": {},
      "source": [
        "#### 1. Bayesian Search"
      ]
    },
    {
      "cell_type": "code",
      "execution_count": 196,
      "metadata": {},
      "outputs": [
        {
          "name": "stdout",
          "output_type": "stream",
          "text": [
            "Fitting 5 folds for each of 1 candidates, totalling 5 fits\n",
            "Fitting 5 folds for each of 1 candidates, totalling 5 fits\n",
            "Fitting 5 folds for each of 1 candidates, totalling 5 fits\n",
            "Fitting 5 folds for each of 1 candidates, totalling 5 fits\n",
            "Fitting 5 folds for each of 1 candidates, totalling 5 fits\n",
            "Fitting 5 folds for each of 1 candidates, totalling 5 fits\n",
            "Fitting 5 folds for each of 1 candidates, totalling 5 fits\n",
            "Fitting 5 folds for each of 1 candidates, totalling 5 fits\n",
            "Fitting 5 folds for each of 1 candidates, totalling 5 fits\n",
            "Fitting 5 folds for each of 1 candidates, totalling 5 fits\n",
            "Fitting 5 folds for each of 1 candidates, totalling 5 fits\n",
            "Fitting 5 folds for each of 1 candidates, totalling 5 fits\n",
            "Fitting 5 folds for each of 1 candidates, totalling 5 fits\n",
            "Fitting 5 folds for each of 1 candidates, totalling 5 fits\n",
            "Fitting 5 folds for each of 1 candidates, totalling 5 fits\n",
            "Fitting 5 folds for each of 1 candidates, totalling 5 fits\n",
            "Fitting 5 folds for each of 1 candidates, totalling 5 fits\n",
            "Fitting 5 folds for each of 1 candidates, totalling 5 fits\n",
            "Fitting 5 folds for each of 1 candidates, totalling 5 fits\n",
            "Fitting 5 folds for each of 1 candidates, totalling 5 fits\n",
            "Fitting 5 folds for each of 1 candidates, totalling 5 fits\n",
            "Fitting 5 folds for each of 1 candidates, totalling 5 fits\n"
          ]
        },
        {
          "name": "stderr",
          "output_type": "stream",
          "text": [
            "/Library/Frameworks/Python.framework/Versions/3.10/lib/python3.10/site-packages/skopt/optimizer/optimizer.py:449: UserWarning: The objective has been evaluated at this point before.\n",
            "  warnings.warn(\"The objective has been evaluated \"\n"
          ]
        },
        {
          "name": "stdout",
          "output_type": "stream",
          "text": [
            "Fitting 5 folds for each of 1 candidates, totalling 5 fits\n",
            "Fitting 5 folds for each of 1 candidates, totalling 5 fits\n",
            "Fitting 5 folds for each of 1 candidates, totalling 5 fits\n",
            "Fitting 5 folds for each of 1 candidates, totalling 5 fits\n"
          ]
        },
        {
          "name": "stderr",
          "output_type": "stream",
          "text": [
            "/Library/Frameworks/Python.framework/Versions/3.10/lib/python3.10/site-packages/skopt/optimizer/optimizer.py:449: UserWarning: The objective has been evaluated at this point before.\n",
            "  warnings.warn(\"The objective has been evaluated \"\n"
          ]
        },
        {
          "name": "stdout",
          "output_type": "stream",
          "text": [
            "Fitting 5 folds for each of 1 candidates, totalling 5 fits\n"
          ]
        },
        {
          "name": "stderr",
          "output_type": "stream",
          "text": [
            "/Library/Frameworks/Python.framework/Versions/3.10/lib/python3.10/site-packages/skopt/optimizer/optimizer.py:449: UserWarning: The objective has been evaluated at this point before.\n",
            "  warnings.warn(\"The objective has been evaluated \"\n"
          ]
        },
        {
          "name": "stdout",
          "output_type": "stream",
          "text": [
            "Fitting 5 folds for each of 1 candidates, totalling 5 fits\n",
            "Fitting 5 folds for each of 1 candidates, totalling 5 fits\n"
          ]
        },
        {
          "name": "stderr",
          "output_type": "stream",
          "text": [
            "/Library/Frameworks/Python.framework/Versions/3.10/lib/python3.10/site-packages/skopt/optimizer/optimizer.py:449: UserWarning: The objective has been evaluated at this point before.\n",
            "  warnings.warn(\"The objective has been evaluated \"\n"
          ]
        },
        {
          "name": "stdout",
          "output_type": "stream",
          "text": [
            "Fitting 5 folds for each of 1 candidates, totalling 5 fits\n"
          ]
        },
        {
          "name": "stderr",
          "output_type": "stream",
          "text": [
            "/Library/Frameworks/Python.framework/Versions/3.10/lib/python3.10/site-packages/skopt/optimizer/optimizer.py:449: UserWarning: The objective has been evaluated at this point before.\n",
            "  warnings.warn(\"The objective has been evaluated \"\n"
          ]
        },
        {
          "name": "stdout",
          "output_type": "stream",
          "text": [
            "Fitting 5 folds for each of 1 candidates, totalling 5 fits\n"
          ]
        },
        {
          "name": "stderr",
          "output_type": "stream",
          "text": [
            "/Library/Frameworks/Python.framework/Versions/3.10/lib/python3.10/site-packages/skopt/optimizer/optimizer.py:449: UserWarning: The objective has been evaluated at this point before.\n",
            "  warnings.warn(\"The objective has been evaluated \"\n"
          ]
        },
        {
          "name": "stdout",
          "output_type": "stream",
          "text": [
            "Fitting 5 folds for each of 1 candidates, totalling 5 fits\n"
          ]
        },
        {
          "name": "stderr",
          "output_type": "stream",
          "text": [
            "/Library/Frameworks/Python.framework/Versions/3.10/lib/python3.10/site-packages/skopt/optimizer/optimizer.py:449: UserWarning: The objective has been evaluated at this point before.\n",
            "  warnings.warn(\"The objective has been evaluated \"\n"
          ]
        },
        {
          "name": "stdout",
          "output_type": "stream",
          "text": [
            "Fitting 5 folds for each of 1 candidates, totalling 5 fits\n"
          ]
        },
        {
          "name": "stderr",
          "output_type": "stream",
          "text": [
            "/Library/Frameworks/Python.framework/Versions/3.10/lib/python3.10/site-packages/skopt/optimizer/optimizer.py:449: UserWarning: The objective has been evaluated at this point before.\n",
            "  warnings.warn(\"The objective has been evaluated \"\n"
          ]
        },
        {
          "name": "stdout",
          "output_type": "stream",
          "text": [
            "Fitting 5 folds for each of 1 candidates, totalling 5 fits\n"
          ]
        },
        {
          "name": "stderr",
          "output_type": "stream",
          "text": [
            "/Library/Frameworks/Python.framework/Versions/3.10/lib/python3.10/site-packages/skopt/optimizer/optimizer.py:449: UserWarning: The objective has been evaluated at this point before.\n",
            "  warnings.warn(\"The objective has been evaluated \"\n"
          ]
        },
        {
          "name": "stdout",
          "output_type": "stream",
          "text": [
            "Fitting 5 folds for each of 1 candidates, totalling 5 fits\n"
          ]
        },
        {
          "name": "stderr",
          "output_type": "stream",
          "text": [
            "/Library/Frameworks/Python.framework/Versions/3.10/lib/python3.10/site-packages/skopt/optimizer/optimizer.py:449: UserWarning: The objective has been evaluated at this point before.\n",
            "  warnings.warn(\"The objective has been evaluated \"\n"
          ]
        },
        {
          "name": "stdout",
          "output_type": "stream",
          "text": [
            "Fitting 5 folds for each of 1 candidates, totalling 5 fits\n"
          ]
        },
        {
          "name": "stderr",
          "output_type": "stream",
          "text": [
            "/Library/Frameworks/Python.framework/Versions/3.10/lib/python3.10/site-packages/skopt/optimizer/optimizer.py:449: UserWarning: The objective has been evaluated at this point before.\n",
            "  warnings.warn(\"The objective has been evaluated \"\n"
          ]
        },
        {
          "name": "stdout",
          "output_type": "stream",
          "text": [
            "Fitting 5 folds for each of 1 candidates, totalling 5 fits\n"
          ]
        },
        {
          "name": "stderr",
          "output_type": "stream",
          "text": [
            "/Library/Frameworks/Python.framework/Versions/3.10/lib/python3.10/site-packages/skopt/optimizer/optimizer.py:449: UserWarning: The objective has been evaluated at this point before.\n",
            "  warnings.warn(\"The objective has been evaluated \"\n"
          ]
        },
        {
          "name": "stdout",
          "output_type": "stream",
          "text": [
            "Fitting 5 folds for each of 1 candidates, totalling 5 fits\n"
          ]
        },
        {
          "name": "stderr",
          "output_type": "stream",
          "text": [
            "/Library/Frameworks/Python.framework/Versions/3.10/lib/python3.10/site-packages/skopt/optimizer/optimizer.py:449: UserWarning: The objective has been evaluated at this point before.\n",
            "  warnings.warn(\"The objective has been evaluated \"\n"
          ]
        },
        {
          "name": "stdout",
          "output_type": "stream",
          "text": [
            "Fitting 5 folds for each of 1 candidates, totalling 5 fits\n"
          ]
        },
        {
          "name": "stderr",
          "output_type": "stream",
          "text": [
            "/Library/Frameworks/Python.framework/Versions/3.10/lib/python3.10/site-packages/skopt/optimizer/optimizer.py:449: UserWarning: The objective has been evaluated at this point before.\n",
            "  warnings.warn(\"The objective has been evaluated \"\n"
          ]
        },
        {
          "name": "stdout",
          "output_type": "stream",
          "text": [
            "Fitting 5 folds for each of 1 candidates, totalling 5 fits\n"
          ]
        },
        {
          "name": "stderr",
          "output_type": "stream",
          "text": [
            "/Library/Frameworks/Python.framework/Versions/3.10/lib/python3.10/site-packages/skopt/optimizer/optimizer.py:449: UserWarning: The objective has been evaluated at this point before.\n",
            "  warnings.warn(\"The objective has been evaluated \"\n"
          ]
        },
        {
          "name": "stdout",
          "output_type": "stream",
          "text": [
            "Fitting 5 folds for each of 1 candidates, totalling 5 fits\n"
          ]
        },
        {
          "name": "stderr",
          "output_type": "stream",
          "text": [
            "/Library/Frameworks/Python.framework/Versions/3.10/lib/python3.10/site-packages/skopt/optimizer/optimizer.py:449: UserWarning: The objective has been evaluated at this point before.\n",
            "  warnings.warn(\"The objective has been evaluated \"\n"
          ]
        },
        {
          "name": "stdout",
          "output_type": "stream",
          "text": [
            "Fitting 5 folds for each of 1 candidates, totalling 5 fits\n"
          ]
        },
        {
          "name": "stderr",
          "output_type": "stream",
          "text": [
            "/Library/Frameworks/Python.framework/Versions/3.10/lib/python3.10/site-packages/skopt/optimizer/optimizer.py:449: UserWarning: The objective has been evaluated at this point before.\n",
            "  warnings.warn(\"The objective has been evaluated \"\n"
          ]
        },
        {
          "name": "stdout",
          "output_type": "stream",
          "text": [
            "Fitting 5 folds for each of 1 candidates, totalling 5 fits\n",
            "Fitting 5 folds for each of 1 candidates, totalling 5 fits\n"
          ]
        },
        {
          "name": "stderr",
          "output_type": "stream",
          "text": [
            "/Library/Frameworks/Python.framework/Versions/3.10/lib/python3.10/site-packages/skopt/optimizer/optimizer.py:449: UserWarning: The objective has been evaluated at this point before.\n",
            "  warnings.warn(\"The objective has been evaluated \"\n"
          ]
        },
        {
          "name": "stdout",
          "output_type": "stream",
          "text": [
            "Fitting 5 folds for each of 1 candidates, totalling 5 fits\n"
          ]
        },
        {
          "name": "stderr",
          "output_type": "stream",
          "text": [
            "/Library/Frameworks/Python.framework/Versions/3.10/lib/python3.10/site-packages/skopt/optimizer/optimizer.py:449: UserWarning: The objective has been evaluated at this point before.\n",
            "  warnings.warn(\"The objective has been evaluated \"\n"
          ]
        },
        {
          "name": "stdout",
          "output_type": "stream",
          "text": [
            "Fitting 5 folds for each of 1 candidates, totalling 5 fits\n"
          ]
        },
        {
          "name": "stderr",
          "output_type": "stream",
          "text": [
            "/Library/Frameworks/Python.framework/Versions/3.10/lib/python3.10/site-packages/skopt/optimizer/optimizer.py:449: UserWarning: The objective has been evaluated at this point before.\n",
            "  warnings.warn(\"The objective has been evaluated \"\n"
          ]
        },
        {
          "name": "stdout",
          "output_type": "stream",
          "text": [
            "Fitting 5 folds for each of 1 candidates, totalling 5 fits\n"
          ]
        },
        {
          "name": "stderr",
          "output_type": "stream",
          "text": [
            "/Library/Frameworks/Python.framework/Versions/3.10/lib/python3.10/site-packages/skopt/optimizer/optimizer.py:449: UserWarning: The objective has been evaluated at this point before.\n",
            "  warnings.warn(\"The objective has been evaluated \"\n"
          ]
        },
        {
          "name": "stdout",
          "output_type": "stream",
          "text": [
            "Fitting 5 folds for each of 1 candidates, totalling 5 fits\n"
          ]
        },
        {
          "name": "stderr",
          "output_type": "stream",
          "text": [
            "/Library/Frameworks/Python.framework/Versions/3.10/lib/python3.10/site-packages/skopt/optimizer/optimizer.py:449: UserWarning: The objective has been evaluated at this point before.\n",
            "  warnings.warn(\"The objective has been evaluated \"\n"
          ]
        },
        {
          "name": "stdout",
          "output_type": "stream",
          "text": [
            "Fitting 5 folds for each of 1 candidates, totalling 5 fits\n"
          ]
        },
        {
          "name": "stderr",
          "output_type": "stream",
          "text": [
            "/Library/Frameworks/Python.framework/Versions/3.10/lib/python3.10/site-packages/skopt/optimizer/optimizer.py:449: UserWarning: The objective has been evaluated at this point before.\n",
            "  warnings.warn(\"The objective has been evaluated \"\n"
          ]
        },
        {
          "name": "stdout",
          "output_type": "stream",
          "text": [
            "Fitting 5 folds for each of 1 candidates, totalling 5 fits\n",
            "Best Hyperparameters: OrderedDict([('colsample_bytree', 0.4), ('gamma', 0.2), ('learning_rate', 0.15), ('max_depth', 10), ('min_child_weight', 9), ('n_estimators', 50)])\n"
          ]
        }
      ],
      "source": [
        "# Create the XGBRegressor\n",
        "xgb_regressor = XGBRegressor(random_state=42)\n",
        "\n",
        "# Define the hyperparameters and their search spaces\n",
        "param_dist = {\n",
        "    'n_estimators': (50, 500),\n",
        "    'max_depth': (1, 20),\n",
        "    'learning_rate': (0.01, 0.1, 'log-uniform'),\n",
        "    'subsample': (0.5, 1.0, 'uniform'),\n",
        "    'min_child_weight': (1, 10),\n",
        "}\n",
        "\n",
        "# Create BayesSearchCV with verbose\n",
        "search = BayesSearchCV(estimator=xgb_regressor, search_spaces=param_dist, scoring='neg_mean_squared_error', n_iter=50, cv=5, n_jobs=-1, verbose=1)\n",
        "\n",
        "# Fit the model\n",
        "search.fit(X_train, y_train)\n",
        "\n",
        "# Get the best hyperparameters\n",
        "best_params = search.best_params_\n",
        "print(\"Best Hyperparameters:\", best_params)"
      ]
    },
    {
      "cell_type": "markdown",
      "metadata": {},
      "source": [
        "#### 2. Grid Search"
      ]
    },
    {
      "cell_type": "code",
      "execution_count": 285,
      "metadata": {},
      "outputs": [
        {
          "name": "stdout",
          "output_type": "stream",
          "text": [
            "Fitting 5 folds for each of 108 candidates, totalling 540 fits\n",
            "Best Hyperparameters: {'colsample_bytree': 0.4, 'gamma': 0.0, 'learning_rate': 0.1, 'max_depth': 10, 'n_estimators': 50}\n"
          ]
        }
      ],
      "source": [
        "# First tour\n",
        "\n",
        "param_grid = {\n",
        "    \"n_estimators\": [50, 100, 150],\n",
        "    \"learning_rate\": [0.1, 0.2],\n",
        "    \"max_depth\": [8, 9, 10],\n",
        "    \"gamma\":[0.0, 0.1, 0.2],\n",
        "    \"colsample_bytree\":[0.4, 0.5],\n",
        "}\n",
        "\n",
        "# Create the XGBRegressor\n",
        "xgb_regressor = XGBRegressor(random_state=42)\n",
        "\n",
        "# Create GridSearchCV with verbose\n",
        "search = GridSearchCV(estimator=xgb_regressor, param_grid=param_grid, scoring='neg_mean_squared_error', cv=5, n_jobs=-1, verbose=1)\n",
        "\n",
        "# Fit the model\n",
        "search.fit(X_train, y_train)\n",
        "\n",
        "# Get the best hyperparameters\n",
        "best_params = search.best_params_\n",
        "print(\"Best Hyperparameters:\", best_params)"
      ]
    },
    {
      "cell_type": "code",
      "execution_count": 262,
      "metadata": {},
      "outputs": [
        {
          "name": "stdout",
          "output_type": "stream",
          "text": [
            "Fitting 5 folds for each of 162 candidates, totalling 810 fits\n",
            "Best Hyperparameters: {'colsample_bytree': 0.35, 'gamma': 0.0, 'learning_rate': 0.1, 'max_depth': 11, 'n_estimators': 40}\n"
          ]
        }
      ],
      "source": [
        "# Second tour\n",
        "param_grid = {\n",
        "    \"n_estimators\": [40, 50, 60],\n",
        "    \"learning_rate\": [0.05, 0.1, 0.15],\n",
        "    \"max_depth\": [9, 10, 11],\n",
        "    \"gamma\":[0.0, 0.05],\n",
        "    \"colsample_bytree\":[0.35, 0.4, 0.45],\n",
        "}\n",
        "\n",
        "# Create the XGBRegressor\n",
        "xgb_regressor = XGBRegressor(random_state=42)\n",
        "\n",
        "# Create GridSearchCV with verbose\n",
        "search = GridSearchCV(estimator=xgb_regressor, param_grid=param_grid, scoring='neg_mean_squared_error', cv=5, n_jobs=-1, verbose=1)\n",
        "\n",
        "# Fit the model\n",
        "search.fit(X_train, y_train)\n",
        "\n",
        "# Get the best hyperparameters\n",
        "best_params = search.best_params_\n",
        "print(\"Best Hyperparameters:\", best_params)"
      ]
    },
    {
      "cell_type": "markdown",
      "metadata": {},
      "source": [
        "### Evaluation"
      ]
    },
    {
      "cell_type": "code",
      "execution_count": 287,
      "metadata": {},
      "outputs": [
        {
          "name": "stdout",
          "output_type": "stream",
          "text": [
            "Mean Squared Error on Test Set: 59.73624361961847\n",
            "R2 Score on Test Set: 46.79%\n"
          ]
        }
      ],
      "source": [
        "# Get the best model\n",
        "best_xgb_model = search.best_estimator_\n",
        "\n",
        "# Make predictions on the test set\n",
        "y_pred = search.predict(X_test)\n",
        "\n",
        "# Evaluate the model\n",
        "mse = mean_squared_error(y_test, y_pred)\n",
        "print(f'Mean Squared Error on Test Set: {mse}')\n",
        "print(f\"R2 Score on Test Set: {round(100 * r2_score(y_test, y_pred), 3)}%\")"
      ]
    },
    {
      "cell_type": "markdown",
      "metadata": {},
      "source": [
        "## 4.4 Neural Network"
      ]
    },
    {
      "cell_type": "code",
      "execution_count": 125,
      "metadata": {},
      "outputs": [],
      "source": [
        "from keras.models import Sequential\n",
        "from keras.layers import Dense\n",
        "from keras.callbacks import EarlyStopping\n",
        "from sklearn.preprocessing import StandardScaler"
      ]
    },
    {
      "cell_type": "code",
      "execution_count": 278,
      "metadata": {},
      "outputs": [
        {
          "name": "stdout",
          "output_type": "stream",
          "text": [
            "Epoch 1/100\n",
            "3/3 [==============================] - 2s 98ms/step - loss: 8436.3828 - mae: 90.7683 - val_loss: 8811.3633 - val_mae: 93.7528\n",
            "Epoch 2/100\n",
            "3/3 [==============================] - 0s 19ms/step - loss: 8284.2305 - mae: 89.9098 - val_loss: 8656.6543 - val_mae: 92.9256\n",
            "Epoch 3/100\n",
            "3/3 [==============================] - 0s 18ms/step - loss: 8130.7720 - mae: 89.0456 - val_loss: 8471.9561 - val_mae: 91.9270\n",
            "Epoch 4/100\n",
            "3/3 [==============================] - 0s 20ms/step - loss: 7945.7612 - mae: 87.9729 - val_loss: 8236.7744 - val_mae: 90.6369\n",
            "Epoch 5/100\n",
            "3/3 [==============================] - 0s 23ms/step - loss: 7708.2168 - mae: 86.5993 - val_loss: 7933.2803 - val_mae: 88.9413\n",
            "Epoch 6/100\n",
            "3/3 [==============================] - 0s 18ms/step - loss: 7399.1309 - mae: 84.7469 - val_loss: 7547.9062 - val_mae: 86.7359\n",
            "Epoch 7/100\n",
            "3/3 [==============================] - 0s 21ms/step - loss: 7006.1875 - mae: 82.3162 - val_loss: 7061.2119 - val_mae: 83.8588\n",
            "Epoch 8/100\n",
            "3/3 [==============================] - 0s 17ms/step - loss: 6502.7256 - mae: 79.0882 - val_loss: 6458.8545 - val_mae: 80.1418\n",
            "Epoch 9/100\n",
            "3/3 [==============================] - 0s 18ms/step - loss: 5875.3560 - mae: 74.9602 - val_loss: 5734.1616 - val_mae: 75.4034\n",
            "Epoch 10/100\n",
            "3/3 [==============================] - 0s 19ms/step - loss: 5146.2524 - mae: 70.0827 - val_loss: 4888.8003 - val_mae: 69.4213\n",
            "Epoch 11/100\n",
            "3/3 [==============================] - 0s 18ms/step - loss: 4293.9966 - mae: 63.3908 - val_loss: 3955.7253 - val_mae: 62.0716\n",
            "Epoch 12/100\n",
            "3/3 [==============================] - 0s 18ms/step - loss: 3400.2288 - mae: 55.7863 - val_loss: 2980.1921 - val_mae: 53.1396\n",
            "Epoch 13/100\n",
            "3/3 [==============================] - 0s 19ms/step - loss: 2549.6235 - mae: 47.2478 - val_loss: 2073.7556 - val_mae: 42.8920\n",
            "Epoch 14/100\n",
            "3/3 [==============================] - 0s 20ms/step - loss: 1887.7386 - mae: 39.4563 - val_loss: 1374.6917 - val_mae: 33.3845\n",
            "Epoch 15/100\n",
            "3/3 [==============================] - 0s 18ms/step - loss: 1419.5469 - mae: 32.3154 - val_loss: 953.5711 - val_mae: 26.9847\n",
            "Epoch 16/100\n",
            "3/3 [==============================] - 0s 24ms/step - loss: 1256.7397 - mae: 28.8827 - val_loss: 749.2316 - val_mae: 22.5849\n",
            "Epoch 17/100\n",
            "3/3 [==============================] - 0s 21ms/step - loss: 1256.7236 - mae: 27.8136 - val_loss: 677.8118 - val_mae: 20.9707\n",
            "Epoch 18/100\n",
            "3/3 [==============================] - 0s 21ms/step - loss: 1232.5891 - mae: 27.2816 - val_loss: 668.3126 - val_mae: 21.2950\n",
            "Epoch 19/100\n",
            "3/3 [==============================] - 0s 19ms/step - loss: 1099.9252 - mae: 25.9378 - val_loss: 723.7773 - val_mae: 22.4580\n",
            "Epoch 20/100\n",
            "3/3 [==============================] - 0s 23ms/step - loss: 906.6051 - mae: 24.1630 - val_loss: 821.0832 - val_mae: 24.2656\n"
          ]
        },
        {
          "data": {
            "text/plain": [
              "<keras.callbacks.History at 0x13bccd060>"
            ]
          },
          "execution_count": 278,
          "metadata": {},
          "output_type": "execute_result"
        }
      ],
      "source": [
        "NN_model = Sequential()\n",
        "\n",
        "# Input layer\n",
        "NN_model.add(Dense(256, input_shape=(X_train.shape[1],), activation='relu'))\n",
        "\n",
        "# Hidden layers\n",
        "NN_model.add(Dense(128, activation='relu'))\n",
        "NN_model.add(Dense(64, activation='relu'))\n",
        "\n",
        "# Output layers\n",
        "NN_model.add(Dense(1))\n",
        "\n",
        "# Set up early stopping to avoid overfitting\n",
        "early_stopping = EarlyStopping(monitor='val_loss', patience=2)\n",
        "\n",
        "# Standardize the data (optional but often recommended)\n",
        "scaler = StandardScaler()\n",
        "X_train_scaled = scaler.fit_transform(X_train)\n",
        "X_test_scaled = scaler.transform(X_test)\n",
        "\n",
        "NN_model.compile(optimizer='adam', loss='mean_squared_error', metrics=['mae'])\n",
        "NN_model.fit(X_train_scaled, y_train, epochs=100, batch_size=32, validation_split = 0.2, callbacks=[early_stopping])"
      ]
    },
    {
      "cell_type": "code",
      "execution_count": 279,
      "metadata": {},
      "outputs": [
        {
          "name": "stdout",
          "output_type": "stream",
          "text": [
            "1/1 [==============================] - 0s 35ms/step - loss: 554.7828 - mae: 18.2420\n",
            "Test Mean Squared Error: 554.78\n",
            "Test Mean Absolute Error: 18.24\n"
          ]
        }
      ],
      "source": [
        "# Evaluate the model on the test set\n",
        "test_loss, test_mae = NN_model.evaluate(X_test_scaled, y_test)\n",
        "test_loss = round(test_loss, 2)\n",
        "test_mae = round(test_mae, 2)\n",
        "print(f'Test Mean Squared Error: {test_loss}')\n",
        "print(f'Test Mean Absolute Error: {test_mae}')"
      ]
    }
  ],
  "metadata": {
    "colab": {
      "collapsed_sections": [
        "vEUofgQXqSeh",
        "Bu-Nz6tBqZ2u",
        "t_nBwH7_rM7g",
        "kqz8dG7crVux",
        "HklW_rk1rh9M",
        "qTIy5TMQqvyA",
        "5U--jc1JrtIO",
        "Ma80FZjRs4LP",
        "FaryZpiytCmI"
      ],
      "provenance": []
    },
    "kernelspec": {
      "display_name": "venv",
      "language": "python",
      "name": "python3"
    },
    "language_info": {
      "codemirror_mode": {
        "name": "ipython",
        "version": 3
      },
      "file_extension": ".py",
      "mimetype": "text/x-python",
      "name": "python",
      "nbconvert_exporter": "python",
      "pygments_lexer": "ipython3",
      "version": "3.10.7"
    }
  },
  "nbformat": 4,
  "nbformat_minor": 0
}
